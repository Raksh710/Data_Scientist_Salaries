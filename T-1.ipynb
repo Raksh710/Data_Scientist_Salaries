{
 "cells": [
  {
   "cell_type": "code",
   "execution_count": 1,
   "id": "d6516f3d-407c-4f83-ad86-476bc1d9ef65",
   "metadata": {},
   "outputs": [],
   "source": [
    "import numpy as np\n",
    "import pandas as pd\n",
    "import matplotlib.pyplot as plt\n",
    "import seaborn as sns"
   ]
  },
  {
   "cell_type": "code",
   "execution_count": 2,
   "id": "4d27f10b-b779-40a0-b8aa-8c8b66d9dcd6",
   "metadata": {},
   "outputs": [],
   "source": [
    "df = pd.read_csv('ds_salaries.csv')"
   ]
  },
  {
   "cell_type": "code",
   "execution_count": 3,
   "id": "e2326d7d-9f8d-4db0-8a50-4bbd81009723",
   "metadata": {},
   "outputs": [],
   "source": [
    "df.drop('Unnamed: 0',axis=1,inplace=True)"
   ]
  },
  {
   "cell_type": "code",
   "execution_count": 4,
   "id": "91326b7d-839a-4592-938c-d4bc050ee30a",
   "metadata": {},
   "outputs": [
    {
     "data": {
      "text/html": [
       "<div>\n",
       "<style scoped>\n",
       "    .dataframe tbody tr th:only-of-type {\n",
       "        vertical-align: middle;\n",
       "    }\n",
       "\n",
       "    .dataframe tbody tr th {\n",
       "        vertical-align: top;\n",
       "    }\n",
       "\n",
       "    .dataframe thead th {\n",
       "        text-align: right;\n",
       "    }\n",
       "</style>\n",
       "<table border=\"1\" class=\"dataframe\">\n",
       "  <thead>\n",
       "    <tr style=\"text-align: right;\">\n",
       "      <th></th>\n",
       "      <th>work_year</th>\n",
       "      <th>experience_level</th>\n",
       "      <th>employment_type</th>\n",
       "      <th>job_title</th>\n",
       "      <th>salary</th>\n",
       "      <th>salary_currency</th>\n",
       "      <th>salary_in_usd</th>\n",
       "      <th>employee_residence</th>\n",
       "      <th>remote_ratio</th>\n",
       "      <th>company_location</th>\n",
       "      <th>company_size</th>\n",
       "    </tr>\n",
       "  </thead>\n",
       "  <tbody>\n",
       "    <tr>\n",
       "      <th>0</th>\n",
       "      <td>2020</td>\n",
       "      <td>MI</td>\n",
       "      <td>FT</td>\n",
       "      <td>Data Scientist</td>\n",
       "      <td>70000</td>\n",
       "      <td>EUR</td>\n",
       "      <td>79833</td>\n",
       "      <td>DE</td>\n",
       "      <td>0</td>\n",
       "      <td>DE</td>\n",
       "      <td>L</td>\n",
       "    </tr>\n",
       "    <tr>\n",
       "      <th>1</th>\n",
       "      <td>2020</td>\n",
       "      <td>SE</td>\n",
       "      <td>FT</td>\n",
       "      <td>Machine Learning Scientist</td>\n",
       "      <td>260000</td>\n",
       "      <td>USD</td>\n",
       "      <td>260000</td>\n",
       "      <td>JP</td>\n",
       "      <td>0</td>\n",
       "      <td>JP</td>\n",
       "      <td>S</td>\n",
       "    </tr>\n",
       "    <tr>\n",
       "      <th>2</th>\n",
       "      <td>2020</td>\n",
       "      <td>SE</td>\n",
       "      <td>FT</td>\n",
       "      <td>Big Data Engineer</td>\n",
       "      <td>85000</td>\n",
       "      <td>GBP</td>\n",
       "      <td>109024</td>\n",
       "      <td>GB</td>\n",
       "      <td>50</td>\n",
       "      <td>GB</td>\n",
       "      <td>M</td>\n",
       "    </tr>\n",
       "    <tr>\n",
       "      <th>3</th>\n",
       "      <td>2020</td>\n",
       "      <td>MI</td>\n",
       "      <td>FT</td>\n",
       "      <td>Product Data Analyst</td>\n",
       "      <td>20000</td>\n",
       "      <td>USD</td>\n",
       "      <td>20000</td>\n",
       "      <td>HN</td>\n",
       "      <td>0</td>\n",
       "      <td>HN</td>\n",
       "      <td>S</td>\n",
       "    </tr>\n",
       "    <tr>\n",
       "      <th>4</th>\n",
       "      <td>2020</td>\n",
       "      <td>SE</td>\n",
       "      <td>FT</td>\n",
       "      <td>Machine Learning Engineer</td>\n",
       "      <td>150000</td>\n",
       "      <td>USD</td>\n",
       "      <td>150000</td>\n",
       "      <td>US</td>\n",
       "      <td>50</td>\n",
       "      <td>US</td>\n",
       "      <td>L</td>\n",
       "    </tr>\n",
       "    <tr>\n",
       "      <th>...</th>\n",
       "      <td>...</td>\n",
       "      <td>...</td>\n",
       "      <td>...</td>\n",
       "      <td>...</td>\n",
       "      <td>...</td>\n",
       "      <td>...</td>\n",
       "      <td>...</td>\n",
       "      <td>...</td>\n",
       "      <td>...</td>\n",
       "      <td>...</td>\n",
       "      <td>...</td>\n",
       "    </tr>\n",
       "    <tr>\n",
       "      <th>602</th>\n",
       "      <td>2022</td>\n",
       "      <td>SE</td>\n",
       "      <td>FT</td>\n",
       "      <td>Data Engineer</td>\n",
       "      <td>154000</td>\n",
       "      <td>USD</td>\n",
       "      <td>154000</td>\n",
       "      <td>US</td>\n",
       "      <td>100</td>\n",
       "      <td>US</td>\n",
       "      <td>M</td>\n",
       "    </tr>\n",
       "    <tr>\n",
       "      <th>603</th>\n",
       "      <td>2022</td>\n",
       "      <td>SE</td>\n",
       "      <td>FT</td>\n",
       "      <td>Data Engineer</td>\n",
       "      <td>126000</td>\n",
       "      <td>USD</td>\n",
       "      <td>126000</td>\n",
       "      <td>US</td>\n",
       "      <td>100</td>\n",
       "      <td>US</td>\n",
       "      <td>M</td>\n",
       "    </tr>\n",
       "    <tr>\n",
       "      <th>604</th>\n",
       "      <td>2022</td>\n",
       "      <td>SE</td>\n",
       "      <td>FT</td>\n",
       "      <td>Data Analyst</td>\n",
       "      <td>129000</td>\n",
       "      <td>USD</td>\n",
       "      <td>129000</td>\n",
       "      <td>US</td>\n",
       "      <td>0</td>\n",
       "      <td>US</td>\n",
       "      <td>M</td>\n",
       "    </tr>\n",
       "    <tr>\n",
       "      <th>605</th>\n",
       "      <td>2022</td>\n",
       "      <td>SE</td>\n",
       "      <td>FT</td>\n",
       "      <td>Data Analyst</td>\n",
       "      <td>150000</td>\n",
       "      <td>USD</td>\n",
       "      <td>150000</td>\n",
       "      <td>US</td>\n",
       "      <td>100</td>\n",
       "      <td>US</td>\n",
       "      <td>M</td>\n",
       "    </tr>\n",
       "    <tr>\n",
       "      <th>606</th>\n",
       "      <td>2022</td>\n",
       "      <td>MI</td>\n",
       "      <td>FT</td>\n",
       "      <td>AI Scientist</td>\n",
       "      <td>200000</td>\n",
       "      <td>USD</td>\n",
       "      <td>200000</td>\n",
       "      <td>IN</td>\n",
       "      <td>100</td>\n",
       "      <td>US</td>\n",
       "      <td>L</td>\n",
       "    </tr>\n",
       "  </tbody>\n",
       "</table>\n",
       "<p>607 rows × 11 columns</p>\n",
       "</div>"
      ],
      "text/plain": [
       "     work_year experience_level employment_type                   job_title  \\\n",
       "0         2020               MI              FT              Data Scientist   \n",
       "1         2020               SE              FT  Machine Learning Scientist   \n",
       "2         2020               SE              FT           Big Data Engineer   \n",
       "3         2020               MI              FT        Product Data Analyst   \n",
       "4         2020               SE              FT   Machine Learning Engineer   \n",
       "..         ...              ...             ...                         ...   \n",
       "602       2022               SE              FT               Data Engineer   \n",
       "603       2022               SE              FT               Data Engineer   \n",
       "604       2022               SE              FT                Data Analyst   \n",
       "605       2022               SE              FT                Data Analyst   \n",
       "606       2022               MI              FT                AI Scientist   \n",
       "\n",
       "     salary salary_currency  salary_in_usd employee_residence  remote_ratio  \\\n",
       "0     70000             EUR          79833                 DE             0   \n",
       "1    260000             USD         260000                 JP             0   \n",
       "2     85000             GBP         109024                 GB            50   \n",
       "3     20000             USD          20000                 HN             0   \n",
       "4    150000             USD         150000                 US            50   \n",
       "..      ...             ...            ...                ...           ...   \n",
       "602  154000             USD         154000                 US           100   \n",
       "603  126000             USD         126000                 US           100   \n",
       "604  129000             USD         129000                 US             0   \n",
       "605  150000             USD         150000                 US           100   \n",
       "606  200000             USD         200000                 IN           100   \n",
       "\n",
       "    company_location company_size  \n",
       "0                 DE            L  \n",
       "1                 JP            S  \n",
       "2                 GB            M  \n",
       "3                 HN            S  \n",
       "4                 US            L  \n",
       "..               ...          ...  \n",
       "602               US            M  \n",
       "603               US            M  \n",
       "604               US            M  \n",
       "605               US            M  \n",
       "606               US            L  \n",
       "\n",
       "[607 rows x 11 columns]"
      ]
     },
     "execution_count": 4,
     "metadata": {},
     "output_type": "execute_result"
    }
   ],
   "source": [
    "df"
   ]
  },
  {
   "cell_type": "code",
   "execution_count": 5,
   "id": "493f01d1-09b3-47e1-8ccf-4a26982ee224",
   "metadata": {},
   "outputs": [],
   "source": [
    "df.drop(['salary','salary_currency'],axis=1,inplace=True)"
   ]
  },
  {
   "cell_type": "code",
   "execution_count": 6,
   "id": "fdb44f44-5c7a-4cdc-a2e7-9f10051fc1d3",
   "metadata": {},
   "outputs": [
    {
     "data": {
      "text/html": [
       "<div>\n",
       "<style scoped>\n",
       "    .dataframe tbody tr th:only-of-type {\n",
       "        vertical-align: middle;\n",
       "    }\n",
       "\n",
       "    .dataframe tbody tr th {\n",
       "        vertical-align: top;\n",
       "    }\n",
       "\n",
       "    .dataframe thead th {\n",
       "        text-align: right;\n",
       "    }\n",
       "</style>\n",
       "<table border=\"1\" class=\"dataframe\">\n",
       "  <thead>\n",
       "    <tr style=\"text-align: right;\">\n",
       "      <th></th>\n",
       "      <th>work_year</th>\n",
       "      <th>experience_level</th>\n",
       "      <th>employment_type</th>\n",
       "      <th>job_title</th>\n",
       "      <th>salary_in_usd</th>\n",
       "      <th>employee_residence</th>\n",
       "      <th>remote_ratio</th>\n",
       "      <th>company_location</th>\n",
       "      <th>company_size</th>\n",
       "    </tr>\n",
       "  </thead>\n",
       "  <tbody>\n",
       "    <tr>\n",
       "      <th>0</th>\n",
       "      <td>2020</td>\n",
       "      <td>MI</td>\n",
       "      <td>FT</td>\n",
       "      <td>Data Scientist</td>\n",
       "      <td>79833</td>\n",
       "      <td>DE</td>\n",
       "      <td>0</td>\n",
       "      <td>DE</td>\n",
       "      <td>L</td>\n",
       "    </tr>\n",
       "    <tr>\n",
       "      <th>1</th>\n",
       "      <td>2020</td>\n",
       "      <td>SE</td>\n",
       "      <td>FT</td>\n",
       "      <td>Machine Learning Scientist</td>\n",
       "      <td>260000</td>\n",
       "      <td>JP</td>\n",
       "      <td>0</td>\n",
       "      <td>JP</td>\n",
       "      <td>S</td>\n",
       "    </tr>\n",
       "    <tr>\n",
       "      <th>2</th>\n",
       "      <td>2020</td>\n",
       "      <td>SE</td>\n",
       "      <td>FT</td>\n",
       "      <td>Big Data Engineer</td>\n",
       "      <td>109024</td>\n",
       "      <td>GB</td>\n",
       "      <td>50</td>\n",
       "      <td>GB</td>\n",
       "      <td>M</td>\n",
       "    </tr>\n",
       "    <tr>\n",
       "      <th>3</th>\n",
       "      <td>2020</td>\n",
       "      <td>MI</td>\n",
       "      <td>FT</td>\n",
       "      <td>Product Data Analyst</td>\n",
       "      <td>20000</td>\n",
       "      <td>HN</td>\n",
       "      <td>0</td>\n",
       "      <td>HN</td>\n",
       "      <td>S</td>\n",
       "    </tr>\n",
       "    <tr>\n",
       "      <th>4</th>\n",
       "      <td>2020</td>\n",
       "      <td>SE</td>\n",
       "      <td>FT</td>\n",
       "      <td>Machine Learning Engineer</td>\n",
       "      <td>150000</td>\n",
       "      <td>US</td>\n",
       "      <td>50</td>\n",
       "      <td>US</td>\n",
       "      <td>L</td>\n",
       "    </tr>\n",
       "    <tr>\n",
       "      <th>...</th>\n",
       "      <td>...</td>\n",
       "      <td>...</td>\n",
       "      <td>...</td>\n",
       "      <td>...</td>\n",
       "      <td>...</td>\n",
       "      <td>...</td>\n",
       "      <td>...</td>\n",
       "      <td>...</td>\n",
       "      <td>...</td>\n",
       "    </tr>\n",
       "    <tr>\n",
       "      <th>602</th>\n",
       "      <td>2022</td>\n",
       "      <td>SE</td>\n",
       "      <td>FT</td>\n",
       "      <td>Data Engineer</td>\n",
       "      <td>154000</td>\n",
       "      <td>US</td>\n",
       "      <td>100</td>\n",
       "      <td>US</td>\n",
       "      <td>M</td>\n",
       "    </tr>\n",
       "    <tr>\n",
       "      <th>603</th>\n",
       "      <td>2022</td>\n",
       "      <td>SE</td>\n",
       "      <td>FT</td>\n",
       "      <td>Data Engineer</td>\n",
       "      <td>126000</td>\n",
       "      <td>US</td>\n",
       "      <td>100</td>\n",
       "      <td>US</td>\n",
       "      <td>M</td>\n",
       "    </tr>\n",
       "    <tr>\n",
       "      <th>604</th>\n",
       "      <td>2022</td>\n",
       "      <td>SE</td>\n",
       "      <td>FT</td>\n",
       "      <td>Data Analyst</td>\n",
       "      <td>129000</td>\n",
       "      <td>US</td>\n",
       "      <td>0</td>\n",
       "      <td>US</td>\n",
       "      <td>M</td>\n",
       "    </tr>\n",
       "    <tr>\n",
       "      <th>605</th>\n",
       "      <td>2022</td>\n",
       "      <td>SE</td>\n",
       "      <td>FT</td>\n",
       "      <td>Data Analyst</td>\n",
       "      <td>150000</td>\n",
       "      <td>US</td>\n",
       "      <td>100</td>\n",
       "      <td>US</td>\n",
       "      <td>M</td>\n",
       "    </tr>\n",
       "    <tr>\n",
       "      <th>606</th>\n",
       "      <td>2022</td>\n",
       "      <td>MI</td>\n",
       "      <td>FT</td>\n",
       "      <td>AI Scientist</td>\n",
       "      <td>200000</td>\n",
       "      <td>IN</td>\n",
       "      <td>100</td>\n",
       "      <td>US</td>\n",
       "      <td>L</td>\n",
       "    </tr>\n",
       "  </tbody>\n",
       "</table>\n",
       "<p>607 rows × 9 columns</p>\n",
       "</div>"
      ],
      "text/plain": [
       "     work_year experience_level employment_type                   job_title  \\\n",
       "0         2020               MI              FT              Data Scientist   \n",
       "1         2020               SE              FT  Machine Learning Scientist   \n",
       "2         2020               SE              FT           Big Data Engineer   \n",
       "3         2020               MI              FT        Product Data Analyst   \n",
       "4         2020               SE              FT   Machine Learning Engineer   \n",
       "..         ...              ...             ...                         ...   \n",
       "602       2022               SE              FT               Data Engineer   \n",
       "603       2022               SE              FT               Data Engineer   \n",
       "604       2022               SE              FT                Data Analyst   \n",
       "605       2022               SE              FT                Data Analyst   \n",
       "606       2022               MI              FT                AI Scientist   \n",
       "\n",
       "     salary_in_usd employee_residence  remote_ratio company_location  \\\n",
       "0            79833                 DE             0               DE   \n",
       "1           260000                 JP             0               JP   \n",
       "2           109024                 GB            50               GB   \n",
       "3            20000                 HN             0               HN   \n",
       "4           150000                 US            50               US   \n",
       "..             ...                ...           ...              ...   \n",
       "602         154000                 US           100               US   \n",
       "603         126000                 US           100               US   \n",
       "604         129000                 US             0               US   \n",
       "605         150000                 US           100               US   \n",
       "606         200000                 IN           100               US   \n",
       "\n",
       "    company_size  \n",
       "0              L  \n",
       "1              S  \n",
       "2              M  \n",
       "3              S  \n",
       "4              L  \n",
       "..           ...  \n",
       "602            M  \n",
       "603            M  \n",
       "604            M  \n",
       "605            M  \n",
       "606            L  \n",
       "\n",
       "[607 rows x 9 columns]"
      ]
     },
     "execution_count": 6,
     "metadata": {},
     "output_type": "execute_result"
    }
   ],
   "source": [
    "df"
   ]
  },
  {
   "cell_type": "code",
   "execution_count": 7,
   "id": "1b8211a6-3060-4d50-bad3-6b133d1249d0",
   "metadata": {},
   "outputs": [
    {
     "data": {
      "text/plain": [
       "work_year             0\n",
       "experience_level      0\n",
       "employment_type       0\n",
       "job_title             0\n",
       "salary_in_usd         0\n",
       "employee_residence    0\n",
       "remote_ratio          0\n",
       "company_location      0\n",
       "company_size          0\n",
       "dtype: int64"
      ]
     },
     "execution_count": 7,
     "metadata": {},
     "output_type": "execute_result"
    }
   ],
   "source": [
    "df.isna().sum()"
   ]
  },
  {
   "cell_type": "code",
   "execution_count": 8,
   "id": "a490a0d6-931f-456b-b501-819aef441b12",
   "metadata": {},
   "outputs": [
    {
     "name": "stdout",
     "output_type": "stream",
     "text": [
      "<class 'pandas.core.frame.DataFrame'>\n",
      "RangeIndex: 607 entries, 0 to 606\n",
      "Data columns (total 9 columns):\n",
      " #   Column              Non-Null Count  Dtype \n",
      "---  ------              --------------  ----- \n",
      " 0   work_year           607 non-null    int64 \n",
      " 1   experience_level    607 non-null    object\n",
      " 2   employment_type     607 non-null    object\n",
      " 3   job_title           607 non-null    object\n",
      " 4   salary_in_usd       607 non-null    int64 \n",
      " 5   employee_residence  607 non-null    object\n",
      " 6   remote_ratio        607 non-null    int64 \n",
      " 7   company_location    607 non-null    object\n",
      " 8   company_size        607 non-null    object\n",
      "dtypes: int64(3), object(6)\n",
      "memory usage: 42.8+ KB\n"
     ]
    }
   ],
   "source": [
    "df.info()"
   ]
  },
  {
   "cell_type": "code",
   "execution_count": 9,
   "id": "eb99664e-6b82-432f-b5bd-8bce92b7a15f",
   "metadata": {},
   "outputs": [
    {
     "name": "stdout",
     "output_type": "stream",
     "text": [
      "experience_level --->  4\n",
      "employment_type --->  4\n",
      "job_title --->  50\n",
      "employee_residence --->  57\n",
      "company_location --->  50\n",
      "company_size --->  3\n"
     ]
    }
   ],
   "source": [
    "for i in df.select_dtypes(include=[object]).columns:\n",
    "    print(f\"{i} --->  {df[i].nunique()}\")"
   ]
  },
  {
   "cell_type": "code",
   "execution_count": null,
   "id": "99c80166-9d83-4c9a-9e12-87e57b0adcd8",
   "metadata": {},
   "outputs": [],
   "source": []
  },
  {
   "cell_type": "markdown",
   "id": "46e3ed5f-d69c-46ff-96f8-e7202af31428",
   "metadata": {},
   "source": [
    "## EDA\n"
   ]
  },
  {
   "cell_type": "code",
   "execution_count": 10,
   "id": "f0cb2996-60ac-44b2-abbf-461c6b4bf7e4",
   "metadata": {},
   "outputs": [
    {
     "data": {
      "text/plain": [
       "job_title\n",
       "Data Analytics Lead                         405000.0\n",
       "Financial Data Analyst                      275000.0\n",
       "Head of Data                                200000.0\n",
       "Principal Data Engineer                     200000.0\n",
       "Data Architect                              180000.0\n",
       "Analytics Engineer                          179850.0\n",
       "Principal Data Scientist                    173762.0\n",
       "Director of Data Science                    168000.0\n",
       "Data Specialist                             165000.0\n",
       "Applied Data Scientist                      157000.0\n",
       "Director of Data Engineering                156738.0\n",
       "Machine Learning Scientist                  156500.0\n",
       "Data Science Manager                        155750.0\n",
       "Data Engineering Manager                    150000.0\n",
       "Head of Data Science                        138937.5\n",
       "Cloud Data Engineer                         124647.0\n",
       "Principal Data Analyst                      122500.0\n",
       "Lead Data Engineer                          121593.5\n",
       "Data Analytics Manager                      120000.0\n",
       "Machine Learning Manager                    117104.0\n",
       "Lead Data Scientist                         115000.0\n",
       "Data Engineer                               105500.0\n",
       "Staff Data Scientist                        105000.0\n",
       "Data Scientist                              103691.0\n",
       "Big Data Architect                           99703.0\n",
       "Computer Vision Software Engineer            95746.0\n",
       "Data Analyst                                 90320.0\n",
       "Marketing Data Analyst                       88654.0\n",
       "Lead Machine Learning Engineer               87932.0\n",
       "Machine Learning Engineer                    87932.0\n",
       "Lead Data Analyst                            87000.0\n",
       "Head of Machine Learning                     79039.0\n",
       "Machine Learning Developer                   78791.0\n",
       "Data Science Consultant                      76833.0\n",
       "BI Data Analyst                              76500.0\n",
       "Research Scientist                           76263.5\n",
       "Business Data Analyst                        70912.0\n",
       "ML Engineer                                  70537.5\n",
       "Data Analytics Engineer                      64598.5\n",
       "Finance Data Analyst                         61896.0\n",
       "Data Science Engineer                        60000.0\n",
       "Machine Learning Infrastructure Engineer     58255.0\n",
       "Applied Machine Learning Scientist           56700.0\n",
       "ETL Developer                                54957.0\n",
       "AI Scientist                                 45896.0\n",
       "Big Data Engineer                            41305.5\n",
       "NLP Engineer                                 37236.0\n",
       "Computer Vision Engineer                     26304.5\n",
       "Product Data Analyst                         13036.0\n",
       "3D Computer Vision Researcher                 5409.0\n",
       "Name: salary_in_usd, dtype: float64"
      ]
     },
     "execution_count": 10,
     "metadata": {},
     "output_type": "execute_result"
    }
   ],
   "source": [
    "df.groupby('job_title').median()['salary_in_usd'].sort_values(ascending=False)"
   ]
  },
  {
   "cell_type": "code",
   "execution_count": 11,
   "id": "a69746be-d261-489a-b860-57221c4afcd4",
   "metadata": {},
   "outputs": [
    {
     "data": {
      "text/plain": [
       "job_title\n",
       "Data Analytics Lead                         405000.0\n",
       "Financial Data Analyst                      275000.0\n",
       "Head of Data                                200000.0\n",
       "Principal Data Engineer                     200000.0\n",
       "Data Architect                              180000.0\n",
       "Analytics Engineer                          179850.0\n",
       "Principal Data Scientist                    173762.0\n",
       "Director of Data Science                    168000.0\n",
       "Data Specialist                             165000.0\n",
       "Applied Data Scientist                      157000.0\n",
       "Director of Data Engineering                156738.0\n",
       "Machine Learning Scientist                  156500.0\n",
       "Data Science Manager                        155750.0\n",
       "Data Engineering Manager                    150000.0\n",
       "Head of Data Science                        138937.5\n",
       "Cloud Data Engineer                         124647.0\n",
       "Principal Data Analyst                      122500.0\n",
       "Lead Data Engineer                          121593.5\n",
       "Data Analytics Manager                      120000.0\n",
       "Machine Learning Manager                    117104.0\n",
       "Lead Data Scientist                         115000.0\n",
       "Data Engineer                               105500.0\n",
       "Staff Data Scientist                        105000.0\n",
       "Data Scientist                              103691.0\n",
       "Big Data Architect                           99703.0\n",
       "Computer Vision Software Engineer            95746.0\n",
       "Data Analyst                                 90320.0\n",
       "Marketing Data Analyst                       88654.0\n",
       "Lead Machine Learning Engineer               87932.0\n",
       "Machine Learning Engineer                    87932.0\n",
       "Lead Data Analyst                            87000.0\n",
       "Head of Machine Learning                     79039.0\n",
       "Machine Learning Developer                   78791.0\n",
       "Data Science Consultant                      76833.0\n",
       "BI Data Analyst                              76500.0\n",
       "Research Scientist                           76263.5\n",
       "Business Data Analyst                        70912.0\n",
       "ML Engineer                                  70537.5\n",
       "Data Analytics Engineer                      64598.5\n",
       "Finance Data Analyst                         61896.0\n",
       "Data Science Engineer                        60000.0\n",
       "Machine Learning Infrastructure Engineer     58255.0\n",
       "Applied Machine Learning Scientist           56700.0\n",
       "ETL Developer                                54957.0\n",
       "AI Scientist                                 45896.0\n",
       "Big Data Engineer                            41305.5\n",
       "NLP Engineer                                 37236.0\n",
       "Computer Vision Engineer                     26304.5\n",
       "Product Data Analyst                         13036.0\n",
       "3D Computer Vision Researcher                 5409.0\n",
       "Name: salary_in_usd, dtype: float64"
      ]
     },
     "execution_count": 11,
     "metadata": {},
     "output_type": "execute_result"
    }
   ],
   "source": [
    "df.groupby('job_title').median()['salary_in_usd'].sort_values(ascending=False)"
   ]
  },
  {
   "cell_type": "code",
   "execution_count": 12,
   "id": "f229a26a-6bb9-45fc-96d8-0e115220325c",
   "metadata": {},
   "outputs": [
    {
     "data": {
      "text/plain": [
       "<AxesSubplot:xlabel='job_title'>"
      ]
     },
     "execution_count": 12,
     "metadata": {},
     "output_type": "execute_result"
    },
    {
     "data": {
      "image/png": "[encoded data removed]",
      "text/plain": [
       "<Figure size 864x432 with 1 Axes>"
      ]
     },
     "metadata": {
      "needs_background": "light"
     },
     "output_type": "display_data"
    }
   ],
   "source": [
    "df.groupby('job_title').median()['salary_in_usd'].sort_values(ascending=False).head(10).plot(kind='bar',figsize=(12,6))"
   ]
  },
  {
   "cell_type": "code",
   "execution_count": 13,
   "id": "85f0d738-76b5-4d7b-a771-3f3b46013db8",
   "metadata": {},
   "outputs": [
    {
     "data": {
      "text/html": [
       "<div>\n",
       "<style scoped>\n",
       "    .dataframe tbody tr th:only-of-type {\n",
       "        vertical-align: middle;\n",
       "    }\n",
       "\n",
       "    .dataframe tbody tr th {\n",
       "        vertical-align: top;\n",
       "    }\n",
       "\n",
       "    .dataframe thead th {\n",
       "        text-align: right;\n",
       "    }\n",
       "</style>\n",
       "<table border=\"1\" class=\"dataframe\">\n",
       "  <thead>\n",
       "    <tr style=\"text-align: right;\">\n",
       "      <th></th>\n",
       "      <th>work_year</th>\n",
       "      <th>salary_in_usd</th>\n",
       "      <th>remote_ratio</th>\n",
       "    </tr>\n",
       "    <tr>\n",
       "      <th>company_location</th>\n",
       "      <th></th>\n",
       "      <th></th>\n",
       "      <th></th>\n",
       "    </tr>\n",
       "  </thead>\n",
       "  <tbody>\n",
       "    <tr>\n",
       "      <th>RU</th>\n",
       "      <td>2021.0</td>\n",
       "      <td>157500.0</td>\n",
       "      <td>25.0</td>\n",
       "    </tr>\n",
       "    <tr>\n",
       "      <th>US</th>\n",
       "      <td>2022.0</td>\n",
       "      <td>135000.0</td>\n",
       "      <td>100.0</td>\n",
       "    </tr>\n",
       "    <tr>\n",
       "      <th>NZ</th>\n",
       "      <td>2020.0</td>\n",
       "      <td>125000.0</td>\n",
       "      <td>50.0</td>\n",
       "    </tr>\n",
       "    <tr>\n",
       "      <th>IL</th>\n",
       "      <td>2021.0</td>\n",
       "      <td>119059.0</td>\n",
       "      <td>100.0</td>\n",
       "    </tr>\n",
       "    <tr>\n",
       "      <th>AE</th>\n",
       "      <td>2022.0</td>\n",
       "      <td>115000.0</td>\n",
       "      <td>100.0</td>\n",
       "    </tr>\n",
       "    <tr>\n",
       "      <th>DZ</th>\n",
       "      <td>2022.0</td>\n",
       "      <td>100000.0</td>\n",
       "      <td>50.0</td>\n",
       "    </tr>\n",
       "    <tr>\n",
       "      <th>IQ</th>\n",
       "      <td>2021.0</td>\n",
       "      <td>100000.0</td>\n",
       "      <td>50.0</td>\n",
       "    </tr>\n",
       "    <tr>\n",
       "      <th>SG</th>\n",
       "      <td>2021.0</td>\n",
       "      <td>89294.0</td>\n",
       "      <td>50.0</td>\n",
       "    </tr>\n",
       "    <tr>\n",
       "      <th>AU</th>\n",
       "      <td>2022.0</td>\n",
       "      <td>87425.0</td>\n",
       "      <td>100.0</td>\n",
       "    </tr>\n",
       "    <tr>\n",
       "      <th>BE</th>\n",
       "      <td>2021.0</td>\n",
       "      <td>85699.0</td>\n",
       "      <td>75.0</td>\n",
       "    </tr>\n",
       "  </tbody>\n",
       "</table>\n",
       "</div>"
      ],
      "text/plain": [
       "                  work_year  salary_in_usd  remote_ratio\n",
       "company_location                                        \n",
       "RU                   2021.0       157500.0          25.0\n",
       "US                   2022.0       135000.0         100.0\n",
       "NZ                   2020.0       125000.0          50.0\n",
       "IL                   2021.0       119059.0         100.0\n",
       "AE                   2022.0       115000.0         100.0\n",
       "DZ                   2022.0       100000.0          50.0\n",
       "IQ                   2021.0       100000.0          50.0\n",
       "SG                   2021.0        89294.0          50.0\n",
       "AU                   2022.0        87425.0         100.0\n",
       "BE                   2021.0        85699.0          75.0"
      ]
     },
     "execution_count": 13,
     "metadata": {},
     "output_type": "execute_result"
    }
   ],
   "source": [
    "df.groupby('company_location').median().sort_values('salary_in_usd',ascending=False).head(10)"
   ]
  },
  {
   "cell_type": "code",
   "execution_count": 14,
   "id": "b07a54b6-d027-408d-aec1-8e20d24a9066",
   "metadata": {},
   "outputs": [
    {
     "data": {
      "text/plain": [
       "<AxesSubplot:xlabel='company_location'>"
      ]
     },
     "execution_count": 14,
     "metadata": {},
     "output_type": "execute_result"
    },
    {
     "data": {
      "image/png": "[encoded data removed]",
      "text/plain": [
       "<Figure size 864x432 with 1 Axes>"
      ]
     },
     "metadata": {
      "needs_background": "light"
     },
     "output_type": "display_data"
    }
   ],
   "source": [
    "df.groupby('company_location').median()['salary_in_usd'].sort_values(ascending=False).head(10).plot(kind='bar',figsize=(12,6))"
   ]
  },
  {
   "cell_type": "markdown",
   "id": "b6e614d0-cefa-4871-a592-aa3628883428",
   "metadata": {},
   "source": [
    "### 2) Experience Level"
   ]
  },
  {
   "cell_type": "code",
   "execution_count": 15,
   "id": "8b7836e6-50d8-4f66-ae7e-494015aa40da",
   "metadata": {},
   "outputs": [
    {
     "data": {
      "text/plain": [
       "experience_level  company_size\n",
       "EX                L               196979.0\n",
       "                  M               171437.5\n",
       "SE                L               147000.0\n",
       "                  M               135500.0\n",
       "EX                S               118187.0\n",
       "SE                S               108603.5\n",
       "MI                L                86000.0\n",
       "                  M                78658.5\n",
       "EN                L                63831.0\n",
       "                  S                60000.0\n",
       "MI                S                56738.0\n",
       "EN                M                49823.0\n",
       "Name: salary_in_usd, dtype: float64"
      ]
     },
     "execution_count": 15,
     "metadata": {},
     "output_type": "execute_result"
    }
   ],
   "source": [
    "df.groupby(['experience_level','company_size']).median()['salary_in_usd'].sort_values(ascending=False)"
   ]
  },
  {
   "cell_type": "code",
   "execution_count": 16,
   "id": "4205b446-cb46-49bd-964e-5459e0dc1c2b",
   "metadata": {},
   "outputs": [
    {
     "data": {
      "text/plain": [
       "<AxesSubplot:xlabel='experience_level', ylabel='salary_in_usd'>"
      ]
     },
     "execution_count": 16,
     "metadata": {},
     "output_type": "execute_result"
    },
    {
     "data": {
      "image/png": "[encoded data removed]",
      "text/plain": [
       "<Figure size 864x432 with 1 Axes>"
      ]
     },
     "metadata": {
      "needs_background": "light"
     },
     "output_type": "display_data"
    }
   ],
   "source": [
    "plt.figure(figsize=(12,6))\n",
    "sns.barplot(data=df,x='experience_level',y='salary_in_usd',order=['EX','SE','MI','EN'], hue='company_size',hue_order=['L','M','S'])"
   ]
  },
  {
   "cell_type": "code",
   "execution_count": 17,
   "id": "4d236365-d476-4332-8537-be148fff8449",
   "metadata": {},
   "outputs": [
    {
     "data": {
      "text/plain": [
       "<AxesSubplot:xlabel='experience_level', ylabel='salary_in_usd'>"
      ]
     },
     "execution_count": 17,
     "metadata": {},
     "output_type": "execute_result"
    },
    {
     "data": {
      "image/png": "[encoded data removed]",
      "text/plain": [
       "<Figure size 864x432 with 1 Axes>"
      ]
     },
     "metadata": {
      "needs_background": "light"
     },
     "output_type": "display_data"
    }
   ],
   "source": [
    "plt.figure(figsize=(12,6))\n",
    "sns.boxplot(data=df,x='experience_level',y='salary_in_usd',order=['EX','SE','MI','EN'], hue='company_size',hue_order=['L','M','S'])"
   ]
  },
  {
   "cell_type": "markdown",
   "id": "a0c07b3e-3d92-4e6f-b36c-ed3606646282",
   "metadata": {},
   "source": [
    "### Inference:\n",
    "We can notice that in entry level, small campanies pay more than Medium scale companies. Also, on Executive level the pay range of small comppanies is higher than some large companies. I think that such small companies are actually not that common, and can also be vaguely classified as outliers."
   ]
  },
  {
   "cell_type": "code",
   "execution_count": null,
   "id": "849037f8-ac3d-4272-a02c-11cbe5d226d8",
   "metadata": {},
   "outputs": [],
   "source": []
  },
  {
   "cell_type": "code",
   "execution_count": null,
   "id": "82387ad8-77a3-4845-b3f1-98ad76684328",
   "metadata": {},
   "outputs": [],
   "source": []
  },
  {
   "cell_type": "markdown",
   "id": "336ef030-9ba3-43e0-a637-7f84ce9ed40e",
   "metadata": {},
   "source": [
    "### 2) Employment Type"
   ]
  },
  {
   "cell_type": "code",
   "execution_count": 18,
   "id": "7c5d4032-1336-432a-b5a2-d5008a68354b",
   "metadata": {},
   "outputs": [
    {
     "data": {
      "text/plain": [
       "employment_type  company_size\n",
       "CT               S               416000.0\n",
       "                 L               185000.0\n",
       "FT               M               115717.0\n",
       "                 L               100800.0\n",
       "                 S                69741.0\n",
       "CT               M                68437.5\n",
       "PT               L                62349.0\n",
       "FL               S                60000.0\n",
       "                 M                56000.0\n",
       "                 L                20000.0\n",
       "PT               S                18817.5\n",
       "                 M                11177.0\n",
       "Name: salary_in_usd, dtype: float64"
      ]
     },
     "execution_count": 18,
     "metadata": {},
     "output_type": "execute_result"
    }
   ],
   "source": [
    "df.groupby(['employment_type','company_size']).median()['salary_in_usd'].sort_values(ascending=False)"
   ]
  },
  {
   "cell_type": "code",
   "execution_count": 19,
   "id": "e69f20ba-23ab-4d7d-a635-5ec60aae4874",
   "metadata": {},
   "outputs": [
    {
     "data": {
      "text/plain": [
       "array(['FT', 'CT', 'PT', 'FL'], dtype=object)"
      ]
     },
     "execution_count": 19,
     "metadata": {},
     "output_type": "execute_result"
    }
   ],
   "source": [
    "df['employment_type'].unique()"
   ]
  },
  {
   "cell_type": "code",
   "execution_count": 20,
   "id": "86e9f185-e73c-4dd0-8ad4-7b2daae8fb26",
   "metadata": {},
   "outputs": [
    {
     "data": {
      "text/plain": [
       "<AxesSubplot:xlabel='employment_type', ylabel='salary_in_usd'>"
      ]
     },
     "execution_count": 20,
     "metadata": {},
     "output_type": "execute_result"
    },
    {
     "data": {
      "image/png": "[encoded data removed]",
      "text/plain": [
       "<Figure size 864x432 with 1 Axes>"
      ]
     },
     "metadata": {
      "needs_background": "light"
     },
     "output_type": "display_data"
    }
   ],
   "source": [
    "plt.figure(figsize=(12,6))\n",
    "sns.barplot(data=df,x='employment_type',y='salary_in_usd',order=['FT','PT','CT','FL','PT'])"
   ]
  },
  {
   "cell_type": "code",
   "execution_count": 21,
   "id": "e95c730f-adf9-49ab-b3b1-6f9fb1379738",
   "metadata": {},
   "outputs": [
    {
     "data": {
      "text/plain": [
       "<AxesSubplot:xlabel='employment_type', ylabel='salary_in_usd'>"
      ]
     },
     "execution_count": 21,
     "metadata": {},
     "output_type": "execute_result"
    },
    {
     "data": {
      "image/png": "[encoded data removed]",
      "text/plain": [
       "<Figure size 864x432 with 1 Axes>"
      ]
     },
     "metadata": {
      "needs_background": "light"
     },
     "output_type": "display_data"
    }
   ],
   "source": [
    "plt.figure(figsize=(12,6))\n",
    "sns.barplot(data=df,x='employment_type',y='salary_in_usd',order=['FT','PT','CT','FL','PT'], hue='company_size',hue_order=['L','M','S'])"
   ]
  },
  {
   "cell_type": "code",
   "execution_count": 22,
   "id": "88db46c6-31d3-4aa5-8122-3950419bb883",
   "metadata": {},
   "outputs": [
    {
     "data": {
      "text/plain": [
       "<AxesSubplot:xlabel='employment_type', ylabel='salary_in_usd'>"
      ]
     },
     "execution_count": 22,
     "metadata": {},
     "output_type": "execute_result"
    },
    {
     "data": {
      "image/png": "[encoded data removed]",
      "text/plain": [
       "<Figure size 864x432 with 1 Axes>"
      ]
     },
     "metadata": {
      "needs_background": "light"
     },
     "output_type": "display_data"
    }
   ],
   "source": [
    "plt.figure(figsize=(12,6))\n",
    "sns.boxplot(data=df,x='employment_type',y='salary_in_usd',order=['FT','PT','CT','FL','PT'])"
   ]
  },
  {
   "cell_type": "code",
   "execution_count": 23,
   "id": "cd44cc89-d02c-4e34-b1a4-a49ce18f2736",
   "metadata": {},
   "outputs": [
    {
     "data": {
      "text/plain": [
       "<AxesSubplot:xlabel='employment_type', ylabel='salary_in_usd'>"
      ]
     },
     "execution_count": 23,
     "metadata": {},
     "output_type": "execute_result"
    },
    {
     "data": {
      "image/png": "[encoded data removed]",
      "text/plain": [
       "<Figure size 864x432 with 1 Axes>"
      ]
     },
     "metadata": {
      "needs_background": "light"
     },
     "output_type": "display_data"
    }
   ],
   "source": [
    "plt.figure(figsize=(12,6))\n",
    "sns.boxplot(data=df,x='employment_type',y='salary_in_usd',order=['FT','PT','CT','FL','PT'], hue='company_size',hue_order=['L','M','S'])"
   ]
  },
  {
   "cell_type": "markdown",
   "id": "454bc043-06f1-4283-b4cc-c94d9acfdeff",
   "metadata": {},
   "source": [
    "### Inferences:\n",
    "1) Contract employees are paid highest followed by Full Time, Freelance, Part time.\n",
    "2) However, contract employees who are working in small companies ear way more than large or medium scale companies. For freelance, small companies pay way more than large or mid scale companies. \n",
    "3) For full time, medium companies pay more than large scale companies."
   ]
  },
  {
   "cell_type": "code",
   "execution_count": 24,
   "id": "0802964f-ef66-41e4-b547-010734197d23",
   "metadata": {},
   "outputs": [
    {
     "data": {
      "text/plain": [
       "count       607.000000\n",
       "mean     112297.869852\n",
       "std       70957.259411\n",
       "min        2859.000000\n",
       "25%       62726.000000\n",
       "50%      101570.000000\n",
       "75%      150000.000000\n",
       "max      600000.000000\n",
       "Name: salary_in_usd, dtype: float64"
      ]
     },
     "execution_count": 24,
     "metadata": {},
     "output_type": "execute_result"
    }
   ],
   "source": [
    "df['salary_in_usd'].describe()"
   ]
  },
  {
   "cell_type": "code",
   "execution_count": 25,
   "id": "f9f11591-4f2e-40b6-86bf-e3fba3f3c57c",
   "metadata": {},
   "outputs": [
    {
     "data": {
      "text/plain": [
       "<AxesSubplot:xlabel='salary_in_usd', ylabel='Count'>"
      ]
     },
     "execution_count": 25,
     "metadata": {},
     "output_type": "execute_result"
    },
    {
     "data": {
      "image/png": "[encoded data removed]",
      "text/plain": [
       "<Figure size 864x432 with 1 Axes>"
      ]
     },
     "metadata": {
      "needs_background": "light"
     },
     "output_type": "display_data"
    }
   ],
   "source": [
    "plt.figure(figsize=(12,6))\n",
    "sns.histplot(data=df,x='salary_in_usd',kde=True)"
   ]
  },
  {
   "cell_type": "markdown",
   "id": "ba25d69f-7b7d-4b96-90c7-4ba25e893b27",
   "metadata": {},
   "source": [
    "#### Right skewed"
   ]
  },
  {
   "cell_type": "markdown",
   "id": "1114f11e-1ec0-4ef5-9234-7da2b8c5e2e7",
   "metadata": {},
   "source": [
    "### EDA Continued on Tableau"
   ]
  },
  {
   "cell_type": "code",
   "execution_count": 26,
   "id": "d790dd44-429b-4e1e-9546-b5d2552c1056",
   "metadata": {},
   "outputs": [
    {
     "data": {
      "text/html": [
       "<div>\n",
       "<style scoped>\n",
       "    .dataframe tbody tr th:only-of-type {\n",
       "        vertical-align: middle;\n",
       "    }\n",
       "\n",
       "    .dataframe tbody tr th {\n",
       "        vertical-align: top;\n",
       "    }\n",
       "\n",
       "    .dataframe thead th {\n",
       "        text-align: right;\n",
       "    }\n",
       "</style>\n",
       "<table border=\"1\" class=\"dataframe\">\n",
       "  <thead>\n",
       "    <tr style=\"text-align: right;\">\n",
       "      <th></th>\n",
       "      <th>work_year</th>\n",
       "      <th>experience_level</th>\n",
       "      <th>employment_type</th>\n",
       "      <th>job_title</th>\n",
       "      <th>salary_in_usd</th>\n",
       "      <th>employee_residence</th>\n",
       "      <th>remote_ratio</th>\n",
       "      <th>company_location</th>\n",
       "      <th>company_size</th>\n",
       "    </tr>\n",
       "  </thead>\n",
       "  <tbody>\n",
       "    <tr>\n",
       "      <th>0</th>\n",
       "      <td>2020</td>\n",
       "      <td>MI</td>\n",
       "      <td>FT</td>\n",
       "      <td>Data Scientist</td>\n",
       "      <td>79833</td>\n",
       "      <td>DE</td>\n",
       "      <td>0</td>\n",
       "      <td>DE</td>\n",
       "      <td>L</td>\n",
       "    </tr>\n",
       "    <tr>\n",
       "      <th>1</th>\n",
       "      <td>2020</td>\n",
       "      <td>SE</td>\n",
       "      <td>FT</td>\n",
       "      <td>Machine Learning Scientist</td>\n",
       "      <td>260000</td>\n",
       "      <td>JP</td>\n",
       "      <td>0</td>\n",
       "      <td>JP</td>\n",
       "      <td>S</td>\n",
       "    </tr>\n",
       "    <tr>\n",
       "      <th>2</th>\n",
       "      <td>2020</td>\n",
       "      <td>SE</td>\n",
       "      <td>FT</td>\n",
       "      <td>Big Data Engineer</td>\n",
       "      <td>109024</td>\n",
       "      <td>GB</td>\n",
       "      <td>50</td>\n",
       "      <td>GB</td>\n",
       "      <td>M</td>\n",
       "    </tr>\n",
       "    <tr>\n",
       "      <th>3</th>\n",
       "      <td>2020</td>\n",
       "      <td>MI</td>\n",
       "      <td>FT</td>\n",
       "      <td>Product Data Analyst</td>\n",
       "      <td>20000</td>\n",
       "      <td>HN</td>\n",
       "      <td>0</td>\n",
       "      <td>HN</td>\n",
       "      <td>S</td>\n",
       "    </tr>\n",
       "    <tr>\n",
       "      <th>4</th>\n",
       "      <td>2020</td>\n",
       "      <td>SE</td>\n",
       "      <td>FT</td>\n",
       "      <td>Machine Learning Engineer</td>\n",
       "      <td>150000</td>\n",
       "      <td>US</td>\n",
       "      <td>50</td>\n",
       "      <td>US</td>\n",
       "      <td>L</td>\n",
       "    </tr>\n",
       "    <tr>\n",
       "      <th>...</th>\n",
       "      <td>...</td>\n",
       "      <td>...</td>\n",
       "      <td>...</td>\n",
       "      <td>...</td>\n",
       "      <td>...</td>\n",
       "      <td>...</td>\n",
       "      <td>...</td>\n",
       "      <td>...</td>\n",
       "      <td>...</td>\n",
       "    </tr>\n",
       "    <tr>\n",
       "      <th>602</th>\n",
       "      <td>2022</td>\n",
       "      <td>SE</td>\n",
       "      <td>FT</td>\n",
       "      <td>Data Engineer</td>\n",
       "      <td>154000</td>\n",
       "      <td>US</td>\n",
       "      <td>100</td>\n",
       "      <td>US</td>\n",
       "      <td>M</td>\n",
       "    </tr>\n",
       "    <tr>\n",
       "      <th>603</th>\n",
       "      <td>2022</td>\n",
       "      <td>SE</td>\n",
       "      <td>FT</td>\n",
       "      <td>Data Engineer</td>\n",
       "      <td>126000</td>\n",
       "      <td>US</td>\n",
       "      <td>100</td>\n",
       "      <td>US</td>\n",
       "      <td>M</td>\n",
       "    </tr>\n",
       "    <tr>\n",
       "      <th>604</th>\n",
       "      <td>2022</td>\n",
       "      <td>SE</td>\n",
       "      <td>FT</td>\n",
       "      <td>Data Analyst</td>\n",
       "      <td>129000</td>\n",
       "      <td>US</td>\n",
       "      <td>0</td>\n",
       "      <td>US</td>\n",
       "      <td>M</td>\n",
       "    </tr>\n",
       "    <tr>\n",
       "      <th>605</th>\n",
       "      <td>2022</td>\n",
       "      <td>SE</td>\n",
       "      <td>FT</td>\n",
       "      <td>Data Analyst</td>\n",
       "      <td>150000</td>\n",
       "      <td>US</td>\n",
       "      <td>100</td>\n",
       "      <td>US</td>\n",
       "      <td>M</td>\n",
       "    </tr>\n",
       "    <tr>\n",
       "      <th>606</th>\n",
       "      <td>2022</td>\n",
       "      <td>MI</td>\n",
       "      <td>FT</td>\n",
       "      <td>AI Scientist</td>\n",
       "      <td>200000</td>\n",
       "      <td>IN</td>\n",
       "      <td>100</td>\n",
       "      <td>US</td>\n",
       "      <td>L</td>\n",
       "    </tr>\n",
       "  </tbody>\n",
       "</table>\n",
       "<p>607 rows × 9 columns</p>\n",
       "</div>"
      ],
      "text/plain": [
       "     work_year experience_level employment_type                   job_title  \\\n",
       "0         2020               MI              FT              Data Scientist   \n",
       "1         2020               SE              FT  Machine Learning Scientist   \n",
       "2         2020               SE              FT           Big Data Engineer   \n",
       "3         2020               MI              FT        Product Data Analyst   \n",
       "4         2020               SE              FT   Machine Learning Engineer   \n",
       "..         ...              ...             ...                         ...   \n",
       "602       2022               SE              FT               Data Engineer   \n",
       "603       2022               SE              FT               Data Engineer   \n",
       "604       2022               SE              FT                Data Analyst   \n",
       "605       2022               SE              FT                Data Analyst   \n",
       "606       2022               MI              FT                AI Scientist   \n",
       "\n",
       "     salary_in_usd employee_residence  remote_ratio company_location  \\\n",
       "0            79833                 DE             0               DE   \n",
       "1           260000                 JP             0               JP   \n",
       "2           109024                 GB            50               GB   \n",
       "3            20000                 HN             0               HN   \n",
       "4           150000                 US            50               US   \n",
       "..             ...                ...           ...              ...   \n",
       "602         154000                 US           100               US   \n",
       "603         126000                 US           100               US   \n",
       "604         129000                 US             0               US   \n",
       "605         150000                 US           100               US   \n",
       "606         200000                 IN           100               US   \n",
       "\n",
       "    company_size  \n",
       "0              L  \n",
       "1              S  \n",
       "2              M  \n",
       "3              S  \n",
       "4              L  \n",
       "..           ...  \n",
       "602            M  \n",
       "603            M  \n",
       "604            M  \n",
       "605            M  \n",
       "606            L  \n",
       "\n",
       "[607 rows x 9 columns]"
      ]
     },
     "execution_count": 26,
     "metadata": {},
     "output_type": "execute_result"
    }
   ],
   "source": [
    "df"
   ]
  },
  {
   "cell_type": "code",
   "execution_count": 27,
   "id": "d6416ae9-04f0-4a2f-b2b5-598735a4001b",
   "metadata": {},
   "outputs": [
    {
     "data": {
      "text/plain": [
       "array([  0,  50, 100], dtype=int64)"
      ]
     },
     "execution_count": 27,
     "metadata": {},
     "output_type": "execute_result"
    }
   ],
   "source": [
    "df['remote_ratio'].unique()"
   ]
  },
  {
   "cell_type": "code",
   "execution_count": 28,
   "id": "dfb1525e-c498-42f4-94eb-aa148bc0745f",
   "metadata": {},
   "outputs": [],
   "source": [
    "#df['remote_ratio'] = df['remote_ratio'].astype('object')"
   ]
  },
  {
   "cell_type": "code",
   "execution_count": 29,
   "id": "538d1d47-2363-4c21-9960-b38e4b91ba23",
   "metadata": {},
   "outputs": [],
   "source": [
    "#df['remote_ratio'] = df['remote_ratio'].astype('object')"
   ]
  },
  {
   "cell_type": "code",
   "execution_count": 30,
   "id": "84fa67aa-b0bb-44a4-a801-bbf4a7acab7d",
   "metadata": {},
   "outputs": [],
   "source": [
    "def remote_ration_converter(x):\n",
    "    if x==0:\n",
    "        return 'Fully Remote'\n",
    "    elif x==50:\n",
    "        return 'Hybrid'\n",
    "    else:\n",
    "        return 'On-prem'"
   ]
  },
  {
   "cell_type": "code",
   "execution_count": 31,
   "id": "aec5bebc-0003-4b25-8962-3fe3fd699706",
   "metadata": {},
   "outputs": [],
   "source": [
    "df['remote_ratio'] = df['remote_ratio'].apply(lambda x: remote_ration_converter(x))"
   ]
  },
  {
   "cell_type": "code",
   "execution_count": 32,
   "id": "2a3ea1a9-b281-4bf5-963a-b489135d22d9",
   "metadata": {},
   "outputs": [
    {
     "data": {
      "text/html": [
       "<div>\n",
       "<style scoped>\n",
       "    .dataframe tbody tr th:only-of-type {\n",
       "        vertical-align: middle;\n",
       "    }\n",
       "\n",
       "    .dataframe tbody tr th {\n",
       "        vertical-align: top;\n",
       "    }\n",
       "\n",
       "    .dataframe thead th {\n",
       "        text-align: right;\n",
       "    }\n",
       "</style>\n",
       "<table border=\"1\" class=\"dataframe\">\n",
       "  <thead>\n",
       "    <tr style=\"text-align: right;\">\n",
       "      <th></th>\n",
       "      <th>work_year</th>\n",
       "      <th>experience_level</th>\n",
       "      <th>employment_type</th>\n",
       "      <th>job_title</th>\n",
       "      <th>salary_in_usd</th>\n",
       "      <th>employee_residence</th>\n",
       "      <th>remote_ratio</th>\n",
       "      <th>company_location</th>\n",
       "      <th>company_size</th>\n",
       "    </tr>\n",
       "  </thead>\n",
       "  <tbody>\n",
       "    <tr>\n",
       "      <th>0</th>\n",
       "      <td>2020</td>\n",
       "      <td>MI</td>\n",
       "      <td>FT</td>\n",
       "      <td>Data Scientist</td>\n",
       "      <td>79833</td>\n",
       "      <td>DE</td>\n",
       "      <td>Fully Remote</td>\n",
       "      <td>DE</td>\n",
       "      <td>L</td>\n",
       "    </tr>\n",
       "    <tr>\n",
       "      <th>1</th>\n",
       "      <td>2020</td>\n",
       "      <td>SE</td>\n",
       "      <td>FT</td>\n",
       "      <td>Machine Learning Scientist</td>\n",
       "      <td>260000</td>\n",
       "      <td>JP</td>\n",
       "      <td>Fully Remote</td>\n",
       "      <td>JP</td>\n",
       "      <td>S</td>\n",
       "    </tr>\n",
       "    <tr>\n",
       "      <th>2</th>\n",
       "      <td>2020</td>\n",
       "      <td>SE</td>\n",
       "      <td>FT</td>\n",
       "      <td>Big Data Engineer</td>\n",
       "      <td>109024</td>\n",
       "      <td>GB</td>\n",
       "      <td>Hybrid</td>\n",
       "      <td>GB</td>\n",
       "      <td>M</td>\n",
       "    </tr>\n",
       "    <tr>\n",
       "      <th>3</th>\n",
       "      <td>2020</td>\n",
       "      <td>MI</td>\n",
       "      <td>FT</td>\n",
       "      <td>Product Data Analyst</td>\n",
       "      <td>20000</td>\n",
       "      <td>HN</td>\n",
       "      <td>Fully Remote</td>\n",
       "      <td>HN</td>\n",
       "      <td>S</td>\n",
       "    </tr>\n",
       "    <tr>\n",
       "      <th>4</th>\n",
       "      <td>2020</td>\n",
       "      <td>SE</td>\n",
       "      <td>FT</td>\n",
       "      <td>Machine Learning Engineer</td>\n",
       "      <td>150000</td>\n",
       "      <td>US</td>\n",
       "      <td>Hybrid</td>\n",
       "      <td>US</td>\n",
       "      <td>L</td>\n",
       "    </tr>\n",
       "    <tr>\n",
       "      <th>...</th>\n",
       "      <td>...</td>\n",
       "      <td>...</td>\n",
       "      <td>...</td>\n",
       "      <td>...</td>\n",
       "      <td>...</td>\n",
       "      <td>...</td>\n",
       "      <td>...</td>\n",
       "      <td>...</td>\n",
       "      <td>...</td>\n",
       "    </tr>\n",
       "    <tr>\n",
       "      <th>602</th>\n",
       "      <td>2022</td>\n",
       "      <td>SE</td>\n",
       "      <td>FT</td>\n",
       "      <td>Data Engineer</td>\n",
       "      <td>154000</td>\n",
       "      <td>US</td>\n",
       "      <td>On-prem</td>\n",
       "      <td>US</td>\n",
       "      <td>M</td>\n",
       "    </tr>\n",
       "    <tr>\n",
       "      <th>603</th>\n",
       "      <td>2022</td>\n",
       "      <td>SE</td>\n",
       "      <td>FT</td>\n",
       "      <td>Data Engineer</td>\n",
       "      <td>126000</td>\n",
       "      <td>US</td>\n",
       "      <td>On-prem</td>\n",
       "      <td>US</td>\n",
       "      <td>M</td>\n",
       "    </tr>\n",
       "    <tr>\n",
       "      <th>604</th>\n",
       "      <td>2022</td>\n",
       "      <td>SE</td>\n",
       "      <td>FT</td>\n",
       "      <td>Data Analyst</td>\n",
       "      <td>129000</td>\n",
       "      <td>US</td>\n",
       "      <td>Fully Remote</td>\n",
       "      <td>US</td>\n",
       "      <td>M</td>\n",
       "    </tr>\n",
       "    <tr>\n",
       "      <th>605</th>\n",
       "      <td>2022</td>\n",
       "      <td>SE</td>\n",
       "      <td>FT</td>\n",
       "      <td>Data Analyst</td>\n",
       "      <td>150000</td>\n",
       "      <td>US</td>\n",
       "      <td>On-prem</td>\n",
       "      <td>US</td>\n",
       "      <td>M</td>\n",
       "    </tr>\n",
       "    <tr>\n",
       "      <th>606</th>\n",
       "      <td>2022</td>\n",
       "      <td>MI</td>\n",
       "      <td>FT</td>\n",
       "      <td>AI Scientist</td>\n",
       "      <td>200000</td>\n",
       "      <td>IN</td>\n",
       "      <td>On-prem</td>\n",
       "      <td>US</td>\n",
       "      <td>L</td>\n",
       "    </tr>\n",
       "  </tbody>\n",
       "</table>\n",
       "<p>607 rows × 9 columns</p>\n",
       "</div>"
      ],
      "text/plain": [
       "     work_year experience_level employment_type                   job_title  \\\n",
       "0         2020               MI              FT              Data Scientist   \n",
       "1         2020               SE              FT  Machine Learning Scientist   \n",
       "2         2020               SE              FT           Big Data Engineer   \n",
       "3         2020               MI              FT        Product Data Analyst   \n",
       "4         2020               SE              FT   Machine Learning Engineer   \n",
       "..         ...              ...             ...                         ...   \n",
       "602       2022               SE              FT               Data Engineer   \n",
       "603       2022               SE              FT               Data Engineer   \n",
       "604       2022               SE              FT                Data Analyst   \n",
       "605       2022               SE              FT                Data Analyst   \n",
       "606       2022               MI              FT                AI Scientist   \n",
       "\n",
       "     salary_in_usd employee_residence  remote_ratio company_location  \\\n",
       "0            79833                 DE  Fully Remote               DE   \n",
       "1           260000                 JP  Fully Remote               JP   \n",
       "2           109024                 GB        Hybrid               GB   \n",
       "3            20000                 HN  Fully Remote               HN   \n",
       "4           150000                 US        Hybrid               US   \n",
       "..             ...                ...           ...              ...   \n",
       "602         154000                 US       On-prem               US   \n",
       "603         126000                 US       On-prem               US   \n",
       "604         129000                 US  Fully Remote               US   \n",
       "605         150000                 US       On-prem               US   \n",
       "606         200000                 IN       On-prem               US   \n",
       "\n",
       "    company_size  \n",
       "0              L  \n",
       "1              S  \n",
       "2              M  \n",
       "3              S  \n",
       "4              L  \n",
       "..           ...  \n",
       "602            M  \n",
       "603            M  \n",
       "604            M  \n",
       "605            M  \n",
       "606            L  \n",
       "\n",
       "[607 rows x 9 columns]"
      ]
     },
     "execution_count": 32,
     "metadata": {},
     "output_type": "execute_result"
    }
   ],
   "source": [
    "df"
   ]
  },
  {
   "cell_type": "markdown",
   "id": "9cd87f4e-1567-4994-8fa0-9662794d0d27",
   "metadata": {},
   "source": [
    "### Let's divide the samples into Tier 1,2,3,4,5 paying jobs with 5 paying higest quartile and 1 paying lowest quartile"
   ]
  },
  {
   "cell_type": "code",
   "execution_count": 33,
   "id": "3f4b98ef-f74c-4d32-9dc3-ecc53ee0e5cc",
   "metadata": {},
   "outputs": [],
   "source": [
    "df['Pay grade'] = pd.qcut(df['salary_in_usd'],q=5,labels=[1,2,3,4,5])"
   ]
  },
  {
   "cell_type": "code",
   "execution_count": 34,
   "id": "5707003c-8b62-429e-98bb-959fa75a6a68",
   "metadata": {},
   "outputs": [
    {
     "data": {
      "text/html": [
       "<div>\n",
       "<style scoped>\n",
       "    .dataframe tbody tr th:only-of-type {\n",
       "        vertical-align: middle;\n",
       "    }\n",
       "\n",
       "    .dataframe tbody tr th {\n",
       "        vertical-align: top;\n",
       "    }\n",
       "\n",
       "    .dataframe thead th {\n",
       "        text-align: right;\n",
       "    }\n",
       "</style>\n",
       "<table border=\"1\" class=\"dataframe\">\n",
       "  <thead>\n",
       "    <tr style=\"text-align: right;\">\n",
       "      <th></th>\n",
       "      <th>work_year</th>\n",
       "      <th>experience_level</th>\n",
       "      <th>employment_type</th>\n",
       "      <th>job_title</th>\n",
       "      <th>salary_in_usd</th>\n",
       "      <th>employee_residence</th>\n",
       "      <th>remote_ratio</th>\n",
       "      <th>company_location</th>\n",
       "      <th>company_size</th>\n",
       "      <th>Pay grade</th>\n",
       "    </tr>\n",
       "  </thead>\n",
       "  <tbody>\n",
       "    <tr>\n",
       "      <th>0</th>\n",
       "      <td>2020</td>\n",
       "      <td>MI</td>\n",
       "      <td>FT</td>\n",
       "      <td>Data Scientist</td>\n",
       "      <td>79833</td>\n",
       "      <td>DE</td>\n",
       "      <td>Fully Remote</td>\n",
       "      <td>DE</td>\n",
       "      <td>L</td>\n",
       "      <td>2</td>\n",
       "    </tr>\n",
       "    <tr>\n",
       "      <th>1</th>\n",
       "      <td>2020</td>\n",
       "      <td>SE</td>\n",
       "      <td>FT</td>\n",
       "      <td>Machine Learning Scientist</td>\n",
       "      <td>260000</td>\n",
       "      <td>JP</td>\n",
       "      <td>Fully Remote</td>\n",
       "      <td>JP</td>\n",
       "      <td>S</td>\n",
       "      <td>5</td>\n",
       "    </tr>\n",
       "    <tr>\n",
       "      <th>2</th>\n",
       "      <td>2020</td>\n",
       "      <td>SE</td>\n",
       "      <td>FT</td>\n",
       "      <td>Big Data Engineer</td>\n",
       "      <td>109024</td>\n",
       "      <td>GB</td>\n",
       "      <td>Hybrid</td>\n",
       "      <td>GB</td>\n",
       "      <td>M</td>\n",
       "      <td>3</td>\n",
       "    </tr>\n",
       "    <tr>\n",
       "      <th>3</th>\n",
       "      <td>2020</td>\n",
       "      <td>MI</td>\n",
       "      <td>FT</td>\n",
       "      <td>Product Data Analyst</td>\n",
       "      <td>20000</td>\n",
       "      <td>HN</td>\n",
       "      <td>Fully Remote</td>\n",
       "      <td>HN</td>\n",
       "      <td>S</td>\n",
       "      <td>1</td>\n",
       "    </tr>\n",
       "    <tr>\n",
       "      <th>4</th>\n",
       "      <td>2020</td>\n",
       "      <td>SE</td>\n",
       "      <td>FT</td>\n",
       "      <td>Machine Learning Engineer</td>\n",
       "      <td>150000</td>\n",
       "      <td>US</td>\n",
       "      <td>Hybrid</td>\n",
       "      <td>US</td>\n",
       "      <td>L</td>\n",
       "      <td>4</td>\n",
       "    </tr>\n",
       "    <tr>\n",
       "      <th>...</th>\n",
       "      <td>...</td>\n",
       "      <td>...</td>\n",
       "      <td>...</td>\n",
       "      <td>...</td>\n",
       "      <td>...</td>\n",
       "      <td>...</td>\n",
       "      <td>...</td>\n",
       "      <td>...</td>\n",
       "      <td>...</td>\n",
       "      <td>...</td>\n",
       "    </tr>\n",
       "    <tr>\n",
       "      <th>602</th>\n",
       "      <td>2022</td>\n",
       "      <td>SE</td>\n",
       "      <td>FT</td>\n",
       "      <td>Data Engineer</td>\n",
       "      <td>154000</td>\n",
       "      <td>US</td>\n",
       "      <td>On-prem</td>\n",
       "      <td>US</td>\n",
       "      <td>M</td>\n",
       "      <td>4</td>\n",
       "    </tr>\n",
       "    <tr>\n",
       "      <th>603</th>\n",
       "      <td>2022</td>\n",
       "      <td>SE</td>\n",
       "      <td>FT</td>\n",
       "      <td>Data Engineer</td>\n",
       "      <td>126000</td>\n",
       "      <td>US</td>\n",
       "      <td>On-prem</td>\n",
       "      <td>US</td>\n",
       "      <td>M</td>\n",
       "      <td>4</td>\n",
       "    </tr>\n",
       "    <tr>\n",
       "      <th>604</th>\n",
       "      <td>2022</td>\n",
       "      <td>SE</td>\n",
       "      <td>FT</td>\n",
       "      <td>Data Analyst</td>\n",
       "      <td>129000</td>\n",
       "      <td>US</td>\n",
       "      <td>Fully Remote</td>\n",
       "      <td>US</td>\n",
       "      <td>M</td>\n",
       "      <td>4</td>\n",
       "    </tr>\n",
       "    <tr>\n",
       "      <th>605</th>\n",
       "      <td>2022</td>\n",
       "      <td>SE</td>\n",
       "      <td>FT</td>\n",
       "      <td>Data Analyst</td>\n",
       "      <td>150000</td>\n",
       "      <td>US</td>\n",
       "      <td>On-prem</td>\n",
       "      <td>US</td>\n",
       "      <td>M</td>\n",
       "      <td>4</td>\n",
       "    </tr>\n",
       "    <tr>\n",
       "      <th>606</th>\n",
       "      <td>2022</td>\n",
       "      <td>MI</td>\n",
       "      <td>FT</td>\n",
       "      <td>AI Scientist</td>\n",
       "      <td>200000</td>\n",
       "      <td>IN</td>\n",
       "      <td>On-prem</td>\n",
       "      <td>US</td>\n",
       "      <td>L</td>\n",
       "      <td>5</td>\n",
       "    </tr>\n",
       "  </tbody>\n",
       "</table>\n",
       "<p>607 rows × 10 columns</p>\n",
       "</div>"
      ],
      "text/plain": [
       "     work_year experience_level employment_type                   job_title  \\\n",
       "0         2020               MI              FT              Data Scientist   \n",
       "1         2020               SE              FT  Machine Learning Scientist   \n",
       "2         2020               SE              FT           Big Data Engineer   \n",
       "3         2020               MI              FT        Product Data Analyst   \n",
       "4         2020               SE              FT   Machine Learning Engineer   \n",
       "..         ...              ...             ...                         ...   \n",
       "602       2022               SE              FT               Data Engineer   \n",
       "603       2022               SE              FT               Data Engineer   \n",
       "604       2022               SE              FT                Data Analyst   \n",
       "605       2022               SE              FT                Data Analyst   \n",
       "606       2022               MI              FT                AI Scientist   \n",
       "\n",
       "     salary_in_usd employee_residence  remote_ratio company_location  \\\n",
       "0            79833                 DE  Fully Remote               DE   \n",
       "1           260000                 JP  Fully Remote               JP   \n",
       "2           109024                 GB        Hybrid               GB   \n",
       "3            20000                 HN  Fully Remote               HN   \n",
       "4           150000                 US        Hybrid               US   \n",
       "..             ...                ...           ...              ...   \n",
       "602         154000                 US       On-prem               US   \n",
       "603         126000                 US       On-prem               US   \n",
       "604         129000                 US  Fully Remote               US   \n",
       "605         150000                 US       On-prem               US   \n",
       "606         200000                 IN       On-prem               US   \n",
       "\n",
       "    company_size Pay grade  \n",
       "0              L         2  \n",
       "1              S         5  \n",
       "2              M         3  \n",
       "3              S         1  \n",
       "4              L         4  \n",
       "..           ...       ...  \n",
       "602            M         4  \n",
       "603            M         4  \n",
       "604            M         4  \n",
       "605            M         4  \n",
       "606            L         5  \n",
       "\n",
       "[607 rows x 10 columns]"
      ]
     },
     "execution_count": 34,
     "metadata": {},
     "output_type": "execute_result"
    }
   ],
   "source": [
    "df"
   ]
  },
  {
   "cell_type": "code",
   "execution_count": 35,
   "id": "16b63074-f005-4920-97e2-d2851fd0cbdb",
   "metadata": {},
   "outputs": [
    {
     "data": {
      "text/plain": [
       "Pay grade\n",
       "1     34699.0\n",
       "2     71884.0\n",
       "3    103691.0\n",
       "4    140000.0\n",
       "5    200000.0\n",
       "Name: salary_in_usd, dtype: float64"
      ]
     },
     "execution_count": 35,
     "metadata": {},
     "output_type": "execute_result"
    }
   ],
   "source": [
    "df.groupby('Pay grade').median()['salary_in_usd']"
   ]
  },
  {
   "cell_type": "code",
   "execution_count": 36,
   "id": "8fa0f156-3a29-4c23-81ef-b413601c770f",
   "metadata": {},
   "outputs": [
    {
     "data": {
      "text/plain": [
       "556"
      ]
     },
     "execution_count": 36,
     "metadata": {},
     "output_type": "execute_result"
    }
   ],
   "source": [
    "len(df[df['employee_residence']==df['company_location']])"
   ]
  },
  {
   "cell_type": "markdown",
   "id": "9d907830-d168-4d10-ac21-d283d7461779",
   "metadata": {},
   "source": [
    "### Which countries work the most for foreign companies"
   ]
  },
  {
   "cell_type": "code",
   "execution_count": 37,
   "id": "3b5396ae-2b63-4a4d-9409-d1089d02e996",
   "metadata": {},
   "outputs": [
    {
     "data": {
      "text/plain": [
       "<AxesSubplot:>"
      ]
     },
     "execution_count": 37,
     "metadata": {},
     "output_type": "execute_result"
    },
    {
     "data": {
      "image/png": "[encoded data removed]",
      "text/plain": [
       "<Figure size 864x432 with 1 Axes>"
      ]
     },
     "metadata": {
      "needs_background": "light"
     },
     "output_type": "display_data"
    }
   ],
   "source": [
    "df[df['employee_residence']!=df['company_location']]['employee_residence'].value_counts(ascending=False).head(10).plot(kind='bar',figsize=(12,6))"
   ]
  },
  {
   "cell_type": "markdown",
   "id": "f739b02e-8852-4688-8606-283ff8f19755",
   "metadata": {},
   "source": [
    "### Which countries outsourced the most"
   ]
  },
  {
   "cell_type": "code",
   "execution_count": 38,
   "id": "5e9f5fa1-30a2-4f12-84c9-5a6b6a9bd662",
   "metadata": {},
   "outputs": [
    {
     "data": {
      "text/plain": [
       "<AxesSubplot:>"
      ]
     },
     "execution_count": 38,
     "metadata": {},
     "output_type": "execute_result"
    },
    {
     "data": {
      "image/png": "[encoded data removed]",
      "text/plain": [
       "<Figure size 864x432 with 1 Axes>"
      ]
     },
     "metadata": {
      "needs_background": "light"
     },
     "output_type": "display_data"
    }
   ],
   "source": [
    "df[df['employee_residence']!=df['company_location']]['company_location'].value_counts(ascending=False).head(10).plot(kind='bar',figsize=(12,6))"
   ]
  },
  {
   "cell_type": "code",
   "execution_count": null,
   "id": "ea856d8c-0fe6-4a0d-80fc-f329b4b5e01c",
   "metadata": {},
   "outputs": [],
   "source": []
  },
  {
   "cell_type": "code",
   "execution_count": 39,
   "id": "c2d55ff4-1540-485f-8cac-71440dd2c9e6",
   "metadata": {},
   "outputs": [
    {
     "data": {
      "text/html": [
       "<div>\n",
       "<style scoped>\n",
       "    .dataframe tbody tr th:only-of-type {\n",
       "        vertical-align: middle;\n",
       "    }\n",
       "\n",
       "    .dataframe tbody tr th {\n",
       "        vertical-align: top;\n",
       "    }\n",
       "\n",
       "    .dataframe thead th {\n",
       "        text-align: right;\n",
       "    }\n",
       "</style>\n",
       "<table border=\"1\" class=\"dataframe\">\n",
       "  <thead>\n",
       "    <tr style=\"text-align: right;\">\n",
       "      <th></th>\n",
       "      <th>work_year</th>\n",
       "      <th>experience_level</th>\n",
       "      <th>employment_type</th>\n",
       "      <th>job_title</th>\n",
       "      <th>salary_in_usd</th>\n",
       "      <th>employee_residence</th>\n",
       "      <th>remote_ratio</th>\n",
       "      <th>company_location</th>\n",
       "      <th>company_size</th>\n",
       "      <th>Pay grade</th>\n",
       "    </tr>\n",
       "  </thead>\n",
       "  <tbody>\n",
       "    <tr>\n",
       "      <th>0</th>\n",
       "      <td>2020</td>\n",
       "      <td>MI</td>\n",
       "      <td>FT</td>\n",
       "      <td>Data Scientist</td>\n",
       "      <td>79833</td>\n",
       "      <td>DE</td>\n",
       "      <td>Fully Remote</td>\n",
       "      <td>DE</td>\n",
       "      <td>L</td>\n",
       "      <td>2</td>\n",
       "    </tr>\n",
       "    <tr>\n",
       "      <th>1</th>\n",
       "      <td>2020</td>\n",
       "      <td>SE</td>\n",
       "      <td>FT</td>\n",
       "      <td>Machine Learning Scientist</td>\n",
       "      <td>260000</td>\n",
       "      <td>JP</td>\n",
       "      <td>Fully Remote</td>\n",
       "      <td>JP</td>\n",
       "      <td>S</td>\n",
       "      <td>5</td>\n",
       "    </tr>\n",
       "    <tr>\n",
       "      <th>2</th>\n",
       "      <td>2020</td>\n",
       "      <td>SE</td>\n",
       "      <td>FT</td>\n",
       "      <td>Big Data Engineer</td>\n",
       "      <td>109024</td>\n",
       "      <td>GB</td>\n",
       "      <td>Hybrid</td>\n",
       "      <td>GB</td>\n",
       "      <td>M</td>\n",
       "      <td>3</td>\n",
       "    </tr>\n",
       "    <tr>\n",
       "      <th>3</th>\n",
       "      <td>2020</td>\n",
       "      <td>MI</td>\n",
       "      <td>FT</td>\n",
       "      <td>Product Data Analyst</td>\n",
       "      <td>20000</td>\n",
       "      <td>HN</td>\n",
       "      <td>Fully Remote</td>\n",
       "      <td>HN</td>\n",
       "      <td>S</td>\n",
       "      <td>1</td>\n",
       "    </tr>\n",
       "    <tr>\n",
       "      <th>4</th>\n",
       "      <td>2020</td>\n",
       "      <td>SE</td>\n",
       "      <td>FT</td>\n",
       "      <td>Machine Learning Engineer</td>\n",
       "      <td>150000</td>\n",
       "      <td>US</td>\n",
       "      <td>Hybrid</td>\n",
       "      <td>US</td>\n",
       "      <td>L</td>\n",
       "      <td>4</td>\n",
       "    </tr>\n",
       "    <tr>\n",
       "      <th>...</th>\n",
       "      <td>...</td>\n",
       "      <td>...</td>\n",
       "      <td>...</td>\n",
       "      <td>...</td>\n",
       "      <td>...</td>\n",
       "      <td>...</td>\n",
       "      <td>...</td>\n",
       "      <td>...</td>\n",
       "      <td>...</td>\n",
       "      <td>...</td>\n",
       "    </tr>\n",
       "    <tr>\n",
       "      <th>602</th>\n",
       "      <td>2022</td>\n",
       "      <td>SE</td>\n",
       "      <td>FT</td>\n",
       "      <td>Data Engineer</td>\n",
       "      <td>154000</td>\n",
       "      <td>US</td>\n",
       "      <td>On-prem</td>\n",
       "      <td>US</td>\n",
       "      <td>M</td>\n",
       "      <td>4</td>\n",
       "    </tr>\n",
       "    <tr>\n",
       "      <th>603</th>\n",
       "      <td>2022</td>\n",
       "      <td>SE</td>\n",
       "      <td>FT</td>\n",
       "      <td>Data Engineer</td>\n",
       "      <td>126000</td>\n",
       "      <td>US</td>\n",
       "      <td>On-prem</td>\n",
       "      <td>US</td>\n",
       "      <td>M</td>\n",
       "      <td>4</td>\n",
       "    </tr>\n",
       "    <tr>\n",
       "      <th>604</th>\n",
       "      <td>2022</td>\n",
       "      <td>SE</td>\n",
       "      <td>FT</td>\n",
       "      <td>Data Analyst</td>\n",
       "      <td>129000</td>\n",
       "      <td>US</td>\n",
       "      <td>Fully Remote</td>\n",
       "      <td>US</td>\n",
       "      <td>M</td>\n",
       "      <td>4</td>\n",
       "    </tr>\n",
       "    <tr>\n",
       "      <th>605</th>\n",
       "      <td>2022</td>\n",
       "      <td>SE</td>\n",
       "      <td>FT</td>\n",
       "      <td>Data Analyst</td>\n",
       "      <td>150000</td>\n",
       "      <td>US</td>\n",
       "      <td>On-prem</td>\n",
       "      <td>US</td>\n",
       "      <td>M</td>\n",
       "      <td>4</td>\n",
       "    </tr>\n",
       "    <tr>\n",
       "      <th>606</th>\n",
       "      <td>2022</td>\n",
       "      <td>MI</td>\n",
       "      <td>FT</td>\n",
       "      <td>AI Scientist</td>\n",
       "      <td>200000</td>\n",
       "      <td>IN</td>\n",
       "      <td>On-prem</td>\n",
       "      <td>US</td>\n",
       "      <td>L</td>\n",
       "      <td>5</td>\n",
       "    </tr>\n",
       "  </tbody>\n",
       "</table>\n",
       "<p>607 rows × 10 columns</p>\n",
       "</div>"
      ],
      "text/plain": [
       "     work_year experience_level employment_type                   job_title  \\\n",
       "0         2020               MI              FT              Data Scientist   \n",
       "1         2020               SE              FT  Machine Learning Scientist   \n",
       "2         2020               SE              FT           Big Data Engineer   \n",
       "3         2020               MI              FT        Product Data Analyst   \n",
       "4         2020               SE              FT   Machine Learning Engineer   \n",
       "..         ...              ...             ...                         ...   \n",
       "602       2022               SE              FT               Data Engineer   \n",
       "603       2022               SE              FT               Data Engineer   \n",
       "604       2022               SE              FT                Data Analyst   \n",
       "605       2022               SE              FT                Data Analyst   \n",
       "606       2022               MI              FT                AI Scientist   \n",
       "\n",
       "     salary_in_usd employee_residence  remote_ratio company_location  \\\n",
       "0            79833                 DE  Fully Remote               DE   \n",
       "1           260000                 JP  Fully Remote               JP   \n",
       "2           109024                 GB        Hybrid               GB   \n",
       "3            20000                 HN  Fully Remote               HN   \n",
       "4           150000                 US        Hybrid               US   \n",
       "..             ...                ...           ...              ...   \n",
       "602         154000                 US       On-prem               US   \n",
       "603         126000                 US       On-prem               US   \n",
       "604         129000                 US  Fully Remote               US   \n",
       "605         150000                 US       On-prem               US   \n",
       "606         200000                 IN       On-prem               US   \n",
       "\n",
       "    company_size Pay grade  \n",
       "0              L         2  \n",
       "1              S         5  \n",
       "2              M         3  \n",
       "3              S         1  \n",
       "4              L         4  \n",
       "..           ...       ...  \n",
       "602            M         4  \n",
       "603            M         4  \n",
       "604            M         4  \n",
       "605            M         4  \n",
       "606            L         5  \n",
       "\n",
       "[607 rows x 10 columns]"
      ]
     },
     "execution_count": 39,
     "metadata": {},
     "output_type": "execute_result"
    }
   ],
   "source": [
    "df"
   ]
  },
  {
   "cell_type": "code",
   "execution_count": 40,
   "id": "c180e9aa-3100-437e-a7a3-7b9a8c84c55c",
   "metadata": {},
   "outputs": [
    {
     "data": {
      "text/plain": [
       "50"
      ]
     },
     "execution_count": 40,
     "metadata": {},
     "output_type": "execute_result"
    }
   ],
   "source": [
    "df['company_location'].nunique()"
   ]
  },
  {
   "cell_type": "markdown",
   "id": "88e954a2-6b2a-4356-af6b-5bc2e4833b0a",
   "metadata": {},
   "source": [
    "#### We'll divide locations in 5 division based on based on median salary"
   ]
  },
  {
   "cell_type": "code",
   "execution_count": 41,
   "id": "5fe24632-1a9e-4c78-9f89-9da64d36cddc",
   "metadata": {},
   "outputs": [
    {
     "data": {
      "text/plain": [
       "Index(['RU', 'US', 'NZ', 'IL', 'AE', 'DZ', 'IQ', 'SG', 'AU', 'BE'], dtype='object', name='company_location')"
      ]
     },
     "execution_count": 41,
     "metadata": {},
     "output_type": "execute_result"
    }
   ],
   "source": [
    "df.groupby('company_location').median()['salary_in_usd'].sort_values(ascending=False).iloc[:10].index"
   ]
  },
  {
   "cell_type": "code",
   "execution_count": 42,
   "id": "edfd9b13-90ca-4621-8601-04f8bc9f7260",
   "metadata": {},
   "outputs": [
    {
     "data": {
      "text/plain": [
       "Index(['CA', 'GB', 'DE', 'JP', 'CN', 'IE', 'AT', 'CH', 'SI', 'RO'], dtype='object', name='company_location')"
      ]
     },
     "execution_count": 42,
     "metadata": {},
     "output_type": "execute_result"
    }
   ],
   "source": [
    "df.groupby('company_location').median()['salary_in_usd'].sort_values(ascending=False).iloc[10:20].index"
   ]
  },
  {
   "cell_type": "code",
   "execution_count": 43,
   "id": "f26273cc-df18-46a4-b2b5-92bb803501dc",
   "metadata": {},
   "outputs": [
    {
     "data": {
      "text/plain": [
       "Index(['LU', 'FR', 'PT', 'NL', 'CZ', 'GR', 'ES', 'DK', 'HR', 'PL'], dtype='object', name='company_location')"
      ]
     },
     "execution_count": 43,
     "metadata": {},
     "output_type": "execute_result"
    }
   ],
   "source": [
    "df.groupby('company_location').median()['salary_in_usd'].sort_values(ascending=False).iloc[20:30].index"
   ]
  },
  {
   "cell_type": "code",
   "execution_count": 44,
   "id": "dd8a07f7-116d-48d7-8e18-77dfd2975c37",
   "metadata": {},
   "outputs": [
    {
     "data": {
      "text/plain": [
       "Index(['CL', 'MY', 'IT', 'HU', 'MX', 'EE', 'NG', 'MT', 'IN', 'CO'], dtype='object', name='company_location')"
      ]
     },
     "execution_count": 44,
     "metadata": {},
     "output_type": "execute_result"
    }
   ],
   "source": [
    "df.groupby('company_location').median()['salary_in_usd'].sort_values(ascending=False).iloc[30:40].index"
   ]
  },
  {
   "cell_type": "code",
   "execution_count": 45,
   "id": "cf22843d-5b93-4870-bf00-bcaf5a639d7a",
   "metadata": {},
   "outputs": [
    {
     "data": {
      "text/plain": [
       "Index(['TR', 'HN', 'BR', 'AS', 'MD', 'UA', 'PK', 'KE', 'IR', 'VN'], dtype='object', name='company_location')"
      ]
     },
     "execution_count": 45,
     "metadata": {},
     "output_type": "execute_result"
    }
   ],
   "source": [
    "df.groupby('company_location').median()['salary_in_usd'].sort_values(ascending=False).iloc[40:].index"
   ]
  },
  {
   "cell_type": "code",
   "execution_count": 46,
   "id": "162dabc1-b62b-4249-964d-a3d5e0ba7e13",
   "metadata": {},
   "outputs": [],
   "source": [
    "def geo_region(x):\n",
    "    if x in df.groupby('company_location').median()['salary_in_usd'].sort_values(ascending=False).iloc[:10].index:\n",
    "        return 5\n",
    "    elif x in df.groupby('company_location').median()['salary_in_usd'].sort_values(ascending=False).iloc[10:20].index:\n",
    "        return 4\n",
    "    elif x in df.groupby('company_location').median()['salary_in_usd'].sort_values(ascending=False).iloc[20:30].index:\n",
    "        return 3\n",
    "    elif x in df.groupby('company_location').median()['salary_in_usd'].sort_values(ascending=False).iloc[30:40].index:\n",
    "        return 2\n",
    "    else:\n",
    "        return 1"
   ]
  },
  {
   "cell_type": "code",
   "execution_count": 47,
   "id": "58c68b3a-f6f7-488d-a55d-87ec444234f8",
   "metadata": {},
   "outputs": [],
   "source": [
    "df['company_country_pay_scale'] = df['company_location'].apply(lambda x: geo_region(x))"
   ]
  },
  {
   "cell_type": "code",
   "execution_count": 48,
   "id": "1f34fb27-81b6-4254-ae07-3b1b7ac3e645",
   "metadata": {},
   "outputs": [
    {
     "data": {
      "text/html": [
       "<div>\n",
       "<style scoped>\n",
       "    .dataframe tbody tr th:only-of-type {\n",
       "        vertical-align: middle;\n",
       "    }\n",
       "\n",
       "    .dataframe tbody tr th {\n",
       "        vertical-align: top;\n",
       "    }\n",
       "\n",
       "    .dataframe thead th {\n",
       "        text-align: right;\n",
       "    }\n",
       "</style>\n",
       "<table border=\"1\" class=\"dataframe\">\n",
       "  <thead>\n",
       "    <tr style=\"text-align: right;\">\n",
       "      <th></th>\n",
       "      <th>work_year</th>\n",
       "      <th>experience_level</th>\n",
       "      <th>employment_type</th>\n",
       "      <th>job_title</th>\n",
       "      <th>salary_in_usd</th>\n",
       "      <th>employee_residence</th>\n",
       "      <th>remote_ratio</th>\n",
       "      <th>company_location</th>\n",
       "      <th>company_size</th>\n",
       "      <th>Pay grade</th>\n",
       "      <th>company_country_pay_scale</th>\n",
       "    </tr>\n",
       "  </thead>\n",
       "  <tbody>\n",
       "    <tr>\n",
       "      <th>0</th>\n",
       "      <td>2020</td>\n",
       "      <td>MI</td>\n",
       "      <td>FT</td>\n",
       "      <td>Data Scientist</td>\n",
       "      <td>79833</td>\n",
       "      <td>DE</td>\n",
       "      <td>Fully Remote</td>\n",
       "      <td>DE</td>\n",
       "      <td>L</td>\n",
       "      <td>2</td>\n",
       "      <td>4</td>\n",
       "    </tr>\n",
       "    <tr>\n",
       "      <th>1</th>\n",
       "      <td>2020</td>\n",
       "      <td>SE</td>\n",
       "      <td>FT</td>\n",
       "      <td>Machine Learning Scientist</td>\n",
       "      <td>260000</td>\n",
       "      <td>JP</td>\n",
       "      <td>Fully Remote</td>\n",
       "      <td>JP</td>\n",
       "      <td>S</td>\n",
       "      <td>5</td>\n",
       "      <td>4</td>\n",
       "    </tr>\n",
       "    <tr>\n",
       "      <th>2</th>\n",
       "      <td>2020</td>\n",
       "      <td>SE</td>\n",
       "      <td>FT</td>\n",
       "      <td>Big Data Engineer</td>\n",
       "      <td>109024</td>\n",
       "      <td>GB</td>\n",
       "      <td>Hybrid</td>\n",
       "      <td>GB</td>\n",
       "      <td>M</td>\n",
       "      <td>3</td>\n",
       "      <td>4</td>\n",
       "    </tr>\n",
       "    <tr>\n",
       "      <th>3</th>\n",
       "      <td>2020</td>\n",
       "      <td>MI</td>\n",
       "      <td>FT</td>\n",
       "      <td>Product Data Analyst</td>\n",
       "      <td>20000</td>\n",
       "      <td>HN</td>\n",
       "      <td>Fully Remote</td>\n",
       "      <td>HN</td>\n",
       "      <td>S</td>\n",
       "      <td>1</td>\n",
       "      <td>1</td>\n",
       "    </tr>\n",
       "    <tr>\n",
       "      <th>4</th>\n",
       "      <td>2020</td>\n",
       "      <td>SE</td>\n",
       "      <td>FT</td>\n",
       "      <td>Machine Learning Engineer</td>\n",
       "      <td>150000</td>\n",
       "      <td>US</td>\n",
       "      <td>Hybrid</td>\n",
       "      <td>US</td>\n",
       "      <td>L</td>\n",
       "      <td>4</td>\n",
       "      <td>5</td>\n",
       "    </tr>\n",
       "    <tr>\n",
       "      <th>...</th>\n",
       "      <td>...</td>\n",
       "      <td>...</td>\n",
       "      <td>...</td>\n",
       "      <td>...</td>\n",
       "      <td>...</td>\n",
       "      <td>...</td>\n",
       "      <td>...</td>\n",
       "      <td>...</td>\n",
       "      <td>...</td>\n",
       "      <td>...</td>\n",
       "      <td>...</td>\n",
       "    </tr>\n",
       "    <tr>\n",
       "      <th>602</th>\n",
       "      <td>2022</td>\n",
       "      <td>SE</td>\n",
       "      <td>FT</td>\n",
       "      <td>Data Engineer</td>\n",
       "      <td>154000</td>\n",
       "      <td>US</td>\n",
       "      <td>On-prem</td>\n",
       "      <td>US</td>\n",
       "      <td>M</td>\n",
       "      <td>4</td>\n",
       "      <td>5</td>\n",
       "    </tr>\n",
       "    <tr>\n",
       "      <th>603</th>\n",
       "      <td>2022</td>\n",
       "      <td>SE</td>\n",
       "      <td>FT</td>\n",
       "      <td>Data Engineer</td>\n",
       "      <td>126000</td>\n",
       "      <td>US</td>\n",
       "      <td>On-prem</td>\n",
       "      <td>US</td>\n",
       "      <td>M</td>\n",
       "      <td>4</td>\n",
       "      <td>5</td>\n",
       "    </tr>\n",
       "    <tr>\n",
       "      <th>604</th>\n",
       "      <td>2022</td>\n",
       "      <td>SE</td>\n",
       "      <td>FT</td>\n",
       "      <td>Data Analyst</td>\n",
       "      <td>129000</td>\n",
       "      <td>US</td>\n",
       "      <td>Fully Remote</td>\n",
       "      <td>US</td>\n",
       "      <td>M</td>\n",
       "      <td>4</td>\n",
       "      <td>5</td>\n",
       "    </tr>\n",
       "    <tr>\n",
       "      <th>605</th>\n",
       "      <td>2022</td>\n",
       "      <td>SE</td>\n",
       "      <td>FT</td>\n",
       "      <td>Data Analyst</td>\n",
       "      <td>150000</td>\n",
       "      <td>US</td>\n",
       "      <td>On-prem</td>\n",
       "      <td>US</td>\n",
       "      <td>M</td>\n",
       "      <td>4</td>\n",
       "      <td>5</td>\n",
       "    </tr>\n",
       "    <tr>\n",
       "      <th>606</th>\n",
       "      <td>2022</td>\n",
       "      <td>MI</td>\n",
       "      <td>FT</td>\n",
       "      <td>AI Scientist</td>\n",
       "      <td>200000</td>\n",
       "      <td>IN</td>\n",
       "      <td>On-prem</td>\n",
       "      <td>US</td>\n",
       "      <td>L</td>\n",
       "      <td>5</td>\n",
       "      <td>5</td>\n",
       "    </tr>\n",
       "  </tbody>\n",
       "</table>\n",
       "<p>607 rows × 11 columns</p>\n",
       "</div>"
      ],
      "text/plain": [
       "     work_year experience_level employment_type                   job_title  \\\n",
       "0         2020               MI              FT              Data Scientist   \n",
       "1         2020               SE              FT  Machine Learning Scientist   \n",
       "2         2020               SE              FT           Big Data Engineer   \n",
       "3         2020               MI              FT        Product Data Analyst   \n",
       "4         2020               SE              FT   Machine Learning Engineer   \n",
       "..         ...              ...             ...                         ...   \n",
       "602       2022               SE              FT               Data Engineer   \n",
       "603       2022               SE              FT               Data Engineer   \n",
       "604       2022               SE              FT                Data Analyst   \n",
       "605       2022               SE              FT                Data Analyst   \n",
       "606       2022               MI              FT                AI Scientist   \n",
       "\n",
       "     salary_in_usd employee_residence  remote_ratio company_location  \\\n",
       "0            79833                 DE  Fully Remote               DE   \n",
       "1           260000                 JP  Fully Remote               JP   \n",
       "2           109024                 GB        Hybrid               GB   \n",
       "3            20000                 HN  Fully Remote               HN   \n",
       "4           150000                 US        Hybrid               US   \n",
       "..             ...                ...           ...              ...   \n",
       "602         154000                 US       On-prem               US   \n",
       "603         126000                 US       On-prem               US   \n",
       "604         129000                 US  Fully Remote               US   \n",
       "605         150000                 US       On-prem               US   \n",
       "606         200000                 IN       On-prem               US   \n",
       "\n",
       "    company_size Pay grade  company_country_pay_scale  \n",
       "0              L         2                          4  \n",
       "1              S         5                          4  \n",
       "2              M         3                          4  \n",
       "3              S         1                          1  \n",
       "4              L         4                          5  \n",
       "..           ...       ...                        ...  \n",
       "602            M         4                          5  \n",
       "603            M         4                          5  \n",
       "604            M         4                          5  \n",
       "605            M         4                          5  \n",
       "606            L         5                          5  \n",
       "\n",
       "[607 rows x 11 columns]"
      ]
     },
     "execution_count": 48,
     "metadata": {},
     "output_type": "execute_result"
    }
   ],
   "source": [
    "df"
   ]
  },
  {
   "cell_type": "code",
   "execution_count": 49,
   "id": "5efa3ff9-7e25-4bf8-852b-3175d5bb13df",
   "metadata": {},
   "outputs": [],
   "source": [
    "df2 = df.drop(['employee_residence','company_location'],axis=1)"
   ]
  },
  {
   "cell_type": "code",
   "execution_count": 50,
   "id": "66fb7a56-3459-4ced-8283-f80d6a869b72",
   "metadata": {},
   "outputs": [
    {
     "data": {
      "text/html": [
       "<div>\n",
       "<style scoped>\n",
       "    .dataframe tbody tr th:only-of-type {\n",
       "        vertical-align: middle;\n",
       "    }\n",
       "\n",
       "    .dataframe tbody tr th {\n",
       "        vertical-align: top;\n",
       "    }\n",
       "\n",
       "    .dataframe thead th {\n",
       "        text-align: right;\n",
       "    }\n",
       "</style>\n",
       "<table border=\"1\" class=\"dataframe\">\n",
       "  <thead>\n",
       "    <tr style=\"text-align: right;\">\n",
       "      <th></th>\n",
       "      <th>work_year</th>\n",
       "      <th>experience_level</th>\n",
       "      <th>employment_type</th>\n",
       "      <th>job_title</th>\n",
       "      <th>salary_in_usd</th>\n",
       "      <th>remote_ratio</th>\n",
       "      <th>company_size</th>\n",
       "      <th>Pay grade</th>\n",
       "      <th>company_country_pay_scale</th>\n",
       "    </tr>\n",
       "  </thead>\n",
       "  <tbody>\n",
       "    <tr>\n",
       "      <th>0</th>\n",
       "      <td>2020</td>\n",
       "      <td>MI</td>\n",
       "      <td>FT</td>\n",
       "      <td>Data Scientist</td>\n",
       "      <td>79833</td>\n",
       "      <td>Fully Remote</td>\n",
       "      <td>L</td>\n",
       "      <td>2</td>\n",
       "      <td>4</td>\n",
       "    </tr>\n",
       "    <tr>\n",
       "      <th>1</th>\n",
       "      <td>2020</td>\n",
       "      <td>SE</td>\n",
       "      <td>FT</td>\n",
       "      <td>Machine Learning Scientist</td>\n",
       "      <td>260000</td>\n",
       "      <td>Fully Remote</td>\n",
       "      <td>S</td>\n",
       "      <td>5</td>\n",
       "      <td>4</td>\n",
       "    </tr>\n",
       "    <tr>\n",
       "      <th>2</th>\n",
       "      <td>2020</td>\n",
       "      <td>SE</td>\n",
       "      <td>FT</td>\n",
       "      <td>Big Data Engineer</td>\n",
       "      <td>109024</td>\n",
       "      <td>Hybrid</td>\n",
       "      <td>M</td>\n",
       "      <td>3</td>\n",
       "      <td>4</td>\n",
       "    </tr>\n",
       "    <tr>\n",
       "      <th>3</th>\n",
       "      <td>2020</td>\n",
       "      <td>MI</td>\n",
       "      <td>FT</td>\n",
       "      <td>Product Data Analyst</td>\n",
       "      <td>20000</td>\n",
       "      <td>Fully Remote</td>\n",
       "      <td>S</td>\n",
       "      <td>1</td>\n",
       "      <td>1</td>\n",
       "    </tr>\n",
       "    <tr>\n",
       "      <th>4</th>\n",
       "      <td>2020</td>\n",
       "      <td>SE</td>\n",
       "      <td>FT</td>\n",
       "      <td>Machine Learning Engineer</td>\n",
       "      <td>150000</td>\n",
       "      <td>Hybrid</td>\n",
       "      <td>L</td>\n",
       "      <td>4</td>\n",
       "      <td>5</td>\n",
       "    </tr>\n",
       "    <tr>\n",
       "      <th>...</th>\n",
       "      <td>...</td>\n",
       "      <td>...</td>\n",
       "      <td>...</td>\n",
       "      <td>...</td>\n",
       "      <td>...</td>\n",
       "      <td>...</td>\n",
       "      <td>...</td>\n",
       "      <td>...</td>\n",
       "      <td>...</td>\n",
       "    </tr>\n",
       "    <tr>\n",
       "      <th>602</th>\n",
       "      <td>2022</td>\n",
       "      <td>SE</td>\n",
       "      <td>FT</td>\n",
       "      <td>Data Engineer</td>\n",
       "      <td>154000</td>\n",
       "      <td>On-prem</td>\n",
       "      <td>M</td>\n",
       "      <td>4</td>\n",
       "      <td>5</td>\n",
       "    </tr>\n",
       "    <tr>\n",
       "      <th>603</th>\n",
       "      <td>2022</td>\n",
       "      <td>SE</td>\n",
       "      <td>FT</td>\n",
       "      <td>Data Engineer</td>\n",
       "      <td>126000</td>\n",
       "      <td>On-prem</td>\n",
       "      <td>M</td>\n",
       "      <td>4</td>\n",
       "      <td>5</td>\n",
       "    </tr>\n",
       "    <tr>\n",
       "      <th>604</th>\n",
       "      <td>2022</td>\n",
       "      <td>SE</td>\n",
       "      <td>FT</td>\n",
       "      <td>Data Analyst</td>\n",
       "      <td>129000</td>\n",
       "      <td>Fully Remote</td>\n",
       "      <td>M</td>\n",
       "      <td>4</td>\n",
       "      <td>5</td>\n",
       "    </tr>\n",
       "    <tr>\n",
       "      <th>605</th>\n",
       "      <td>2022</td>\n",
       "      <td>SE</td>\n",
       "      <td>FT</td>\n",
       "      <td>Data Analyst</td>\n",
       "      <td>150000</td>\n",
       "      <td>On-prem</td>\n",
       "      <td>M</td>\n",
       "      <td>4</td>\n",
       "      <td>5</td>\n",
       "    </tr>\n",
       "    <tr>\n",
       "      <th>606</th>\n",
       "      <td>2022</td>\n",
       "      <td>MI</td>\n",
       "      <td>FT</td>\n",
       "      <td>AI Scientist</td>\n",
       "      <td>200000</td>\n",
       "      <td>On-prem</td>\n",
       "      <td>L</td>\n",
       "      <td>5</td>\n",
       "      <td>5</td>\n",
       "    </tr>\n",
       "  </tbody>\n",
       "</table>\n",
       "<p>607 rows × 9 columns</p>\n",
       "</div>"
      ],
      "text/plain": [
       "     work_year experience_level employment_type                   job_title  \\\n",
       "0         2020               MI              FT              Data Scientist   \n",
       "1         2020               SE              FT  Machine Learning Scientist   \n",
       "2         2020               SE              FT           Big Data Engineer   \n",
       "3         2020               MI              FT        Product Data Analyst   \n",
       "4         2020               SE              FT   Machine Learning Engineer   \n",
       "..         ...              ...             ...                         ...   \n",
       "602       2022               SE              FT               Data Engineer   \n",
       "603       2022               SE              FT               Data Engineer   \n",
       "604       2022               SE              FT                Data Analyst   \n",
       "605       2022               SE              FT                Data Analyst   \n",
       "606       2022               MI              FT                AI Scientist   \n",
       "\n",
       "     salary_in_usd  remote_ratio company_size Pay grade  \\\n",
       "0            79833  Fully Remote            L         2   \n",
       "1           260000  Fully Remote            S         5   \n",
       "2           109024        Hybrid            M         3   \n",
       "3            20000  Fully Remote            S         1   \n",
       "4           150000        Hybrid            L         4   \n",
       "..             ...           ...          ...       ...   \n",
       "602         154000       On-prem            M         4   \n",
       "603         126000       On-prem            M         4   \n",
       "604         129000  Fully Remote            M         4   \n",
       "605         150000       On-prem            M         4   \n",
       "606         200000       On-prem            L         5   \n",
       "\n",
       "     company_country_pay_scale  \n",
       "0                            4  \n",
       "1                            4  \n",
       "2                            4  \n",
       "3                            1  \n",
       "4                            5  \n",
       "..                         ...  \n",
       "602                          5  \n",
       "603                          5  \n",
       "604                          5  \n",
       "605                          5  \n",
       "606                          5  \n",
       "\n",
       "[607 rows x 9 columns]"
      ]
     },
     "execution_count": 50,
     "metadata": {},
     "output_type": "execute_result"
    }
   ],
   "source": [
    "df2"
   ]
  },
  {
   "cell_type": "code",
   "execution_count": 51,
   "id": "7562fe8b-26a9-43f2-8f4a-096e480b0429",
   "metadata": {},
   "outputs": [
    {
     "name": "stdout",
     "output_type": "stream",
     "text": [
      "experience_level --->  4\n",
      "employment_type --->  4\n",
      "job_title --->  50\n",
      "remote_ratio --->  3\n",
      "company_size --->  3\n"
     ]
    }
   ],
   "source": [
    "for i in df2.select_dtypes(include='object').columns:\n",
    "    print(f\"{i} --->  {df[i].nunique()}\")"
   ]
  },
  {
   "cell_type": "code",
   "execution_count": 52,
   "id": "dd0ed6d8-ea32-4665-b912-27f2d366c7d0",
   "metadata": {},
   "outputs": [
    {
     "data": {
      "text/plain": [
       "Data Scientist                143\n",
       "Data Engineer                 132\n",
       "Data Analyst                   97\n",
       "Machine Learning Engineer      41\n",
       "Research Scientist             16\n",
       "Data Science Manager           12\n",
       "Data Architect                 11\n",
       "Big Data Engineer               8\n",
       "Machine Learning Scientist      8\n",
       "Principal Data Scientist        7\n",
       "AI Scientist                    7\n",
       "Data Science Consultant         7\n",
       "Director of Data Science        7\n",
       "Data Analytics Manager          7\n",
       "ML Engineer                     6\n",
       "Computer Vision Engineer        6\n",
       "BI Data Analyst                 6\n",
       "Lead Data Engineer              6\n",
       "Data Engineering Manager        5\n",
       "Business Data Analyst           5\n",
       "Name: job_title, dtype: int64"
      ]
     },
     "execution_count": 52,
     "metadata": {},
     "output_type": "execute_result"
    }
   ],
   "source": [
    "df['job_title'].value_counts(ascending=False).head(20)"
   ]
  },
  {
   "cell_type": "code",
   "execution_count": 53,
   "id": "077cb4a9-540c-42d1-97ca-43ef2a1ad864",
   "metadata": {},
   "outputs": [
    {
     "data": {
      "text/plain": [
       "Index(['Data Analytics Lead', 'Financial Data Analyst', 'Head of Data',\n",
       "       'Principal Data Engineer', 'Data Architect', 'Analytics Engineer',\n",
       "       'Principal Data Scientist', 'Director of Data Science',\n",
       "       'Data Specialist', 'Applied Data Scientist'],\n",
       "      dtype='object', name='job_title')"
      ]
     },
     "execution_count": 53,
     "metadata": {},
     "output_type": "execute_result"
    }
   ],
   "source": [
    "df.groupby('job_title').median()['salary_in_usd'].sort_values(ascending=False).iloc[:10].index"
   ]
  },
  {
   "cell_type": "code",
   "execution_count": 54,
   "id": "5babdd32-52e4-48a2-8481-d9c2aed51542",
   "metadata": {},
   "outputs": [],
   "source": [
    "def job_pay_scale(x):\n",
    "    if x in df.groupby('job_title').median()['salary_in_usd'].sort_values(ascending=False).iloc[:10].index:\n",
    "        return 5\n",
    "    elif x in df.groupby('job_title').median()['salary_in_usd'].sort_values(ascending=False).iloc[10:20].index:\n",
    "        return 4\n",
    "    elif x in df.groupby('job_title').median()['salary_in_usd'].sort_values(ascending=False).iloc[20:30].index:\n",
    "        return 3\n",
    "    elif x in df.groupby('job_title').median()['salary_in_usd'].sort_values(ascending=False).iloc[30:40].index:\n",
    "        return 2\n",
    "    else:\n",
    "        return 1"
   ]
  },
  {
   "cell_type": "code",
   "execution_count": 55,
   "id": "32db1585-2f94-499a-982e-808abcf0b496",
   "metadata": {},
   "outputs": [],
   "source": [
    "df2['job_pay_scale'] = df['job_title'].apply(lambda x: job_pay_scale(x))"
   ]
  },
  {
   "cell_type": "code",
   "execution_count": 56,
   "id": "1f03c1dd-7bf7-4807-87e7-7a498a18a33d",
   "metadata": {},
   "outputs": [
    {
     "data": {
      "text/html": [
       "<div>\n",
       "<style scoped>\n",
       "    .dataframe tbody tr th:only-of-type {\n",
       "        vertical-align: middle;\n",
       "    }\n",
       "\n",
       "    .dataframe tbody tr th {\n",
       "        vertical-align: top;\n",
       "    }\n",
       "\n",
       "    .dataframe thead th {\n",
       "        text-align: right;\n",
       "    }\n",
       "</style>\n",
       "<table border=\"1\" class=\"dataframe\">\n",
       "  <thead>\n",
       "    <tr style=\"text-align: right;\">\n",
       "      <th></th>\n",
       "      <th>work_year</th>\n",
       "      <th>experience_level</th>\n",
       "      <th>employment_type</th>\n",
       "      <th>job_title</th>\n",
       "      <th>salary_in_usd</th>\n",
       "      <th>remote_ratio</th>\n",
       "      <th>company_size</th>\n",
       "      <th>Pay grade</th>\n",
       "      <th>company_country_pay_scale</th>\n",
       "      <th>job_pay_scale</th>\n",
       "    </tr>\n",
       "  </thead>\n",
       "  <tbody>\n",
       "    <tr>\n",
       "      <th>0</th>\n",
       "      <td>2020</td>\n",
       "      <td>MI</td>\n",
       "      <td>FT</td>\n",
       "      <td>Data Scientist</td>\n",
       "      <td>79833</td>\n",
       "      <td>Fully Remote</td>\n",
       "      <td>L</td>\n",
       "      <td>2</td>\n",
       "      <td>4</td>\n",
       "      <td>3</td>\n",
       "    </tr>\n",
       "    <tr>\n",
       "      <th>1</th>\n",
       "      <td>2020</td>\n",
       "      <td>SE</td>\n",
       "      <td>FT</td>\n",
       "      <td>Machine Learning Scientist</td>\n",
       "      <td>260000</td>\n",
       "      <td>Fully Remote</td>\n",
       "      <td>S</td>\n",
       "      <td>5</td>\n",
       "      <td>4</td>\n",
       "      <td>4</td>\n",
       "    </tr>\n",
       "    <tr>\n",
       "      <th>2</th>\n",
       "      <td>2020</td>\n",
       "      <td>SE</td>\n",
       "      <td>FT</td>\n",
       "      <td>Big Data Engineer</td>\n",
       "      <td>109024</td>\n",
       "      <td>Hybrid</td>\n",
       "      <td>M</td>\n",
       "      <td>3</td>\n",
       "      <td>4</td>\n",
       "      <td>1</td>\n",
       "    </tr>\n",
       "    <tr>\n",
       "      <th>3</th>\n",
       "      <td>2020</td>\n",
       "      <td>MI</td>\n",
       "      <td>FT</td>\n",
       "      <td>Product Data Analyst</td>\n",
       "      <td>20000</td>\n",
       "      <td>Fully Remote</td>\n",
       "      <td>S</td>\n",
       "      <td>1</td>\n",
       "      <td>1</td>\n",
       "      <td>1</td>\n",
       "    </tr>\n",
       "    <tr>\n",
       "      <th>4</th>\n",
       "      <td>2020</td>\n",
       "      <td>SE</td>\n",
       "      <td>FT</td>\n",
       "      <td>Machine Learning Engineer</td>\n",
       "      <td>150000</td>\n",
       "      <td>Hybrid</td>\n",
       "      <td>L</td>\n",
       "      <td>4</td>\n",
       "      <td>5</td>\n",
       "      <td>3</td>\n",
       "    </tr>\n",
       "    <tr>\n",
       "      <th>...</th>\n",
       "      <td>...</td>\n",
       "      <td>...</td>\n",
       "      <td>...</td>\n",
       "      <td>...</td>\n",
       "      <td>...</td>\n",
       "      <td>...</td>\n",
       "      <td>...</td>\n",
       "      <td>...</td>\n",
       "      <td>...</td>\n",
       "      <td>...</td>\n",
       "    </tr>\n",
       "    <tr>\n",
       "      <th>602</th>\n",
       "      <td>2022</td>\n",
       "      <td>SE</td>\n",
       "      <td>FT</td>\n",
       "      <td>Data Engineer</td>\n",
       "      <td>154000</td>\n",
       "      <td>On-prem</td>\n",
       "      <td>M</td>\n",
       "      <td>4</td>\n",
       "      <td>5</td>\n",
       "      <td>3</td>\n",
       "    </tr>\n",
       "    <tr>\n",
       "      <th>603</th>\n",
       "      <td>2022</td>\n",
       "      <td>SE</td>\n",
       "      <td>FT</td>\n",
       "      <td>Data Engineer</td>\n",
       "      <td>126000</td>\n",
       "      <td>On-prem</td>\n",
       "      <td>M</td>\n",
       "      <td>4</td>\n",
       "      <td>5</td>\n",
       "      <td>3</td>\n",
       "    </tr>\n",
       "    <tr>\n",
       "      <th>604</th>\n",
       "      <td>2022</td>\n",
       "      <td>SE</td>\n",
       "      <td>FT</td>\n",
       "      <td>Data Analyst</td>\n",
       "      <td>129000</td>\n",
       "      <td>Fully Remote</td>\n",
       "      <td>M</td>\n",
       "      <td>4</td>\n",
       "      <td>5</td>\n",
       "      <td>3</td>\n",
       "    </tr>\n",
       "    <tr>\n",
       "      <th>605</th>\n",
       "      <td>2022</td>\n",
       "      <td>SE</td>\n",
       "      <td>FT</td>\n",
       "      <td>Data Analyst</td>\n",
       "      <td>150000</td>\n",
       "      <td>On-prem</td>\n",
       "      <td>M</td>\n",
       "      <td>4</td>\n",
       "      <td>5</td>\n",
       "      <td>3</td>\n",
       "    </tr>\n",
       "    <tr>\n",
       "      <th>606</th>\n",
       "      <td>2022</td>\n",
       "      <td>MI</td>\n",
       "      <td>FT</td>\n",
       "      <td>AI Scientist</td>\n",
       "      <td>200000</td>\n",
       "      <td>On-prem</td>\n",
       "      <td>L</td>\n",
       "      <td>5</td>\n",
       "      <td>5</td>\n",
       "      <td>1</td>\n",
       "    </tr>\n",
       "  </tbody>\n",
       "</table>\n",
       "<p>607 rows × 10 columns</p>\n",
       "</div>"
      ],
      "text/plain": [
       "     work_year experience_level employment_type                   job_title  \\\n",
       "0         2020               MI              FT              Data Scientist   \n",
       "1         2020               SE              FT  Machine Learning Scientist   \n",
       "2         2020               SE              FT           Big Data Engineer   \n",
       "3         2020               MI              FT        Product Data Analyst   \n",
       "4         2020               SE              FT   Machine Learning Engineer   \n",
       "..         ...              ...             ...                         ...   \n",
       "602       2022               SE              FT               Data Engineer   \n",
       "603       2022               SE              FT               Data Engineer   \n",
       "604       2022               SE              FT                Data Analyst   \n",
       "605       2022               SE              FT                Data Analyst   \n",
       "606       2022               MI              FT                AI Scientist   \n",
       "\n",
       "     salary_in_usd  remote_ratio company_size Pay grade  \\\n",
       "0            79833  Fully Remote            L         2   \n",
       "1           260000  Fully Remote            S         5   \n",
       "2           109024        Hybrid            M         3   \n",
       "3            20000  Fully Remote            S         1   \n",
       "4           150000        Hybrid            L         4   \n",
       "..             ...           ...          ...       ...   \n",
       "602         154000       On-prem            M         4   \n",
       "603         126000       On-prem            M         4   \n",
       "604         129000  Fully Remote            M         4   \n",
       "605         150000       On-prem            M         4   \n",
       "606         200000       On-prem            L         5   \n",
       "\n",
       "     company_country_pay_scale  job_pay_scale  \n",
       "0                            4              3  \n",
       "1                            4              4  \n",
       "2                            4              1  \n",
       "3                            1              1  \n",
       "4                            5              3  \n",
       "..                         ...            ...  \n",
       "602                          5              3  \n",
       "603                          5              3  \n",
       "604                          5              3  \n",
       "605                          5              3  \n",
       "606                          5              1  \n",
       "\n",
       "[607 rows x 10 columns]"
      ]
     },
     "execution_count": 56,
     "metadata": {},
     "output_type": "execute_result"
    }
   ],
   "source": [
    "df2"
   ]
  },
  {
   "cell_type": "code",
   "execution_count": 57,
   "id": "672f1526-b8d4-4133-be8e-eac7a063b6ac",
   "metadata": {},
   "outputs": [],
   "source": [
    "df2.drop('job_title',axis=1,inplace=True)"
   ]
  },
  {
   "cell_type": "code",
   "execution_count": 58,
   "id": "ae113afd-beb5-421f-964e-a5deb51efc8c",
   "metadata": {},
   "outputs": [
    {
     "data": {
      "text/html": [
       "<div>\n",
       "<style scoped>\n",
       "    .dataframe tbody tr th:only-of-type {\n",
       "        vertical-align: middle;\n",
       "    }\n",
       "\n",
       "    .dataframe tbody tr th {\n",
       "        vertical-align: top;\n",
       "    }\n",
       "\n",
       "    .dataframe thead th {\n",
       "        text-align: right;\n",
       "    }\n",
       "</style>\n",
       "<table border=\"1\" class=\"dataframe\">\n",
       "  <thead>\n",
       "    <tr style=\"text-align: right;\">\n",
       "      <th></th>\n",
       "      <th>work_year</th>\n",
       "      <th>experience_level</th>\n",
       "      <th>employment_type</th>\n",
       "      <th>salary_in_usd</th>\n",
       "      <th>remote_ratio</th>\n",
       "      <th>company_size</th>\n",
       "      <th>Pay grade</th>\n",
       "      <th>company_country_pay_scale</th>\n",
       "      <th>job_pay_scale</th>\n",
       "    </tr>\n",
       "  </thead>\n",
       "  <tbody>\n",
       "    <tr>\n",
       "      <th>0</th>\n",
       "      <td>2020</td>\n",
       "      <td>MI</td>\n",
       "      <td>FT</td>\n",
       "      <td>79833</td>\n",
       "      <td>Fully Remote</td>\n",
       "      <td>L</td>\n",
       "      <td>2</td>\n",
       "      <td>4</td>\n",
       "      <td>3</td>\n",
       "    </tr>\n",
       "    <tr>\n",
       "      <th>1</th>\n",
       "      <td>2020</td>\n",
       "      <td>SE</td>\n",
       "      <td>FT</td>\n",
       "      <td>260000</td>\n",
       "      <td>Fully Remote</td>\n",
       "      <td>S</td>\n",
       "      <td>5</td>\n",
       "      <td>4</td>\n",
       "      <td>4</td>\n",
       "    </tr>\n",
       "    <tr>\n",
       "      <th>2</th>\n",
       "      <td>2020</td>\n",
       "      <td>SE</td>\n",
       "      <td>FT</td>\n",
       "      <td>109024</td>\n",
       "      <td>Hybrid</td>\n",
       "      <td>M</td>\n",
       "      <td>3</td>\n",
       "      <td>4</td>\n",
       "      <td>1</td>\n",
       "    </tr>\n",
       "    <tr>\n",
       "      <th>3</th>\n",
       "      <td>2020</td>\n",
       "      <td>MI</td>\n",
       "      <td>FT</td>\n",
       "      <td>20000</td>\n",
       "      <td>Fully Remote</td>\n",
       "      <td>S</td>\n",
       "      <td>1</td>\n",
       "      <td>1</td>\n",
       "      <td>1</td>\n",
       "    </tr>\n",
       "    <tr>\n",
       "      <th>4</th>\n",
       "      <td>2020</td>\n",
       "      <td>SE</td>\n",
       "      <td>FT</td>\n",
       "      <td>150000</td>\n",
       "      <td>Hybrid</td>\n",
       "      <td>L</td>\n",
       "      <td>4</td>\n",
       "      <td>5</td>\n",
       "      <td>3</td>\n",
       "    </tr>\n",
       "    <tr>\n",
       "      <th>...</th>\n",
       "      <td>...</td>\n",
       "      <td>...</td>\n",
       "      <td>...</td>\n",
       "      <td>...</td>\n",
       "      <td>...</td>\n",
       "      <td>...</td>\n",
       "      <td>...</td>\n",
       "      <td>...</td>\n",
       "      <td>...</td>\n",
       "    </tr>\n",
       "    <tr>\n",
       "      <th>602</th>\n",
       "      <td>2022</td>\n",
       "      <td>SE</td>\n",
       "      <td>FT</td>\n",
       "      <td>154000</td>\n",
       "      <td>On-prem</td>\n",
       "      <td>M</td>\n",
       "      <td>4</td>\n",
       "      <td>5</td>\n",
       "      <td>3</td>\n",
       "    </tr>\n",
       "    <tr>\n",
       "      <th>603</th>\n",
       "      <td>2022</td>\n",
       "      <td>SE</td>\n",
       "      <td>FT</td>\n",
       "      <td>126000</td>\n",
       "      <td>On-prem</td>\n",
       "      <td>M</td>\n",
       "      <td>4</td>\n",
       "      <td>5</td>\n",
       "      <td>3</td>\n",
       "    </tr>\n",
       "    <tr>\n",
       "      <th>604</th>\n",
       "      <td>2022</td>\n",
       "      <td>SE</td>\n",
       "      <td>FT</td>\n",
       "      <td>129000</td>\n",
       "      <td>Fully Remote</td>\n",
       "      <td>M</td>\n",
       "      <td>4</td>\n",
       "      <td>5</td>\n",
       "      <td>3</td>\n",
       "    </tr>\n",
       "    <tr>\n",
       "      <th>605</th>\n",
       "      <td>2022</td>\n",
       "      <td>SE</td>\n",
       "      <td>FT</td>\n",
       "      <td>150000</td>\n",
       "      <td>On-prem</td>\n",
       "      <td>M</td>\n",
       "      <td>4</td>\n",
       "      <td>5</td>\n",
       "      <td>3</td>\n",
       "    </tr>\n",
       "    <tr>\n",
       "      <th>606</th>\n",
       "      <td>2022</td>\n",
       "      <td>MI</td>\n",
       "      <td>FT</td>\n",
       "      <td>200000</td>\n",
       "      <td>On-prem</td>\n",
       "      <td>L</td>\n",
       "      <td>5</td>\n",
       "      <td>5</td>\n",
       "      <td>1</td>\n",
       "    </tr>\n",
       "  </tbody>\n",
       "</table>\n",
       "<p>607 rows × 9 columns</p>\n",
       "</div>"
      ],
      "text/plain": [
       "     work_year experience_level employment_type  salary_in_usd  remote_ratio  \\\n",
       "0         2020               MI              FT          79833  Fully Remote   \n",
       "1         2020               SE              FT         260000  Fully Remote   \n",
       "2         2020               SE              FT         109024        Hybrid   \n",
       "3         2020               MI              FT          20000  Fully Remote   \n",
       "4         2020               SE              FT         150000        Hybrid   \n",
       "..         ...              ...             ...            ...           ...   \n",
       "602       2022               SE              FT         154000       On-prem   \n",
       "603       2022               SE              FT         126000       On-prem   \n",
       "604       2022               SE              FT         129000  Fully Remote   \n",
       "605       2022               SE              FT         150000       On-prem   \n",
       "606       2022               MI              FT         200000       On-prem   \n",
       "\n",
       "    company_size Pay grade  company_country_pay_scale  job_pay_scale  \n",
       "0              L         2                          4              3  \n",
       "1              S         5                          4              4  \n",
       "2              M         3                          4              1  \n",
       "3              S         1                          1              1  \n",
       "4              L         4                          5              3  \n",
       "..           ...       ...                        ...            ...  \n",
       "602            M         4                          5              3  \n",
       "603            M         4                          5              3  \n",
       "604            M         4                          5              3  \n",
       "605            M         4                          5              3  \n",
       "606            L         5                          5              1  \n",
       "\n",
       "[607 rows x 9 columns]"
      ]
     },
     "execution_count": 58,
     "metadata": {},
     "output_type": "execute_result"
    }
   ],
   "source": [
    "df2"
   ]
  },
  {
   "cell_type": "code",
   "execution_count": 59,
   "id": "85fdc55c-0abb-43ce-93ea-c98c33977375",
   "metadata": {},
   "outputs": [
    {
     "data": {
      "text/plain": [
       "company_size  remote_ratio\n",
       "M             On-prem         123000.0\n",
       "L             Fully Remote    117500.0\n",
       "              On-prem         112150.0\n",
       "M             Fully Remote     99000.0\n",
       "S             On-prem          75000.0\n",
       "L             Hybrid           73171.0\n",
       "S             Hybrid           64866.5\n",
       "M             Hybrid           61467.0\n",
       "S             Fully Remote     50294.5\n",
       "Name: salary_in_usd, dtype: float64"
      ]
     },
     "execution_count": 59,
     "metadata": {},
     "output_type": "execute_result"
    }
   ],
   "source": [
    "df2.groupby(['company_size','remote_ratio']).median()['salary_in_usd'].sort_values(ascending=False)"
   ]
  },
  {
   "cell_type": "code",
   "execution_count": 60,
   "id": "691fab08-8fe3-4471-b5b1-d80d7eac5f02",
   "metadata": {},
   "outputs": [
    {
     "data": {
      "text/plain": [
       "<AxesSubplot:xlabel='remote_ratio', ylabel='salary_in_usd'>"
      ]
     },
     "execution_count": 60,
     "metadata": {},
     "output_type": "execute_result"
    },
    {
     "data": {
      "image/png": "[encoded data removed]",
      "text/plain": [
       "<Figure size 864x432 with 1 Axes>"
      ]
     },
     "metadata": {
      "needs_background": "light"
     },
     "output_type": "display_data"
    }
   ],
   "source": [
    "plt.figure(figsize=(12,6))\n",
    "sns.boxplot(data=df2,x='remote_ratio',y='salary_in_usd',hue='company_size',hue_order=['L','M','S'])"
   ]
  },
  {
   "cell_type": "code",
   "execution_count": null,
   "id": "8fc1cd55-1e3a-4f7c-8571-6141f7edf58f",
   "metadata": {},
   "outputs": [],
   "source": []
  },
  {
   "cell_type": "code",
   "execution_count": 61,
   "id": "3ffc2c81-71b0-4681-809d-3bf00a80bd94",
   "metadata": {},
   "outputs": [],
   "source": [
    "df3 = df2.copy()"
   ]
  },
  {
   "cell_type": "code",
   "execution_count": 62,
   "id": "70d35ce5-dff8-4273-801f-a28f9797dcae",
   "metadata": {},
   "outputs": [
    {
     "data": {
      "text/html": [
       "<div>\n",
       "<style scoped>\n",
       "    .dataframe tbody tr th:only-of-type {\n",
       "        vertical-align: middle;\n",
       "    }\n",
       "\n",
       "    .dataframe tbody tr th {\n",
       "        vertical-align: top;\n",
       "    }\n",
       "\n",
       "    .dataframe thead th {\n",
       "        text-align: right;\n",
       "    }\n",
       "</style>\n",
       "<table border=\"1\" class=\"dataframe\">\n",
       "  <thead>\n",
       "    <tr style=\"text-align: right;\">\n",
       "      <th></th>\n",
       "      <th>work_year</th>\n",
       "      <th>experience_level</th>\n",
       "      <th>employment_type</th>\n",
       "      <th>salary_in_usd</th>\n",
       "      <th>remote_ratio</th>\n",
       "      <th>company_size</th>\n",
       "      <th>Pay grade</th>\n",
       "      <th>company_country_pay_scale</th>\n",
       "      <th>job_pay_scale</th>\n",
       "    </tr>\n",
       "  </thead>\n",
       "  <tbody>\n",
       "    <tr>\n",
       "      <th>0</th>\n",
       "      <td>2020</td>\n",
       "      <td>MI</td>\n",
       "      <td>FT</td>\n",
       "      <td>79833</td>\n",
       "      <td>Fully Remote</td>\n",
       "      <td>L</td>\n",
       "      <td>2</td>\n",
       "      <td>4</td>\n",
       "      <td>3</td>\n",
       "    </tr>\n",
       "    <tr>\n",
       "      <th>1</th>\n",
       "      <td>2020</td>\n",
       "      <td>SE</td>\n",
       "      <td>FT</td>\n",
       "      <td>260000</td>\n",
       "      <td>Fully Remote</td>\n",
       "      <td>S</td>\n",
       "      <td>5</td>\n",
       "      <td>4</td>\n",
       "      <td>4</td>\n",
       "    </tr>\n",
       "    <tr>\n",
       "      <th>2</th>\n",
       "      <td>2020</td>\n",
       "      <td>SE</td>\n",
       "      <td>FT</td>\n",
       "      <td>109024</td>\n",
       "      <td>Hybrid</td>\n",
       "      <td>M</td>\n",
       "      <td>3</td>\n",
       "      <td>4</td>\n",
       "      <td>1</td>\n",
       "    </tr>\n",
       "    <tr>\n",
       "      <th>3</th>\n",
       "      <td>2020</td>\n",
       "      <td>MI</td>\n",
       "      <td>FT</td>\n",
       "      <td>20000</td>\n",
       "      <td>Fully Remote</td>\n",
       "      <td>S</td>\n",
       "      <td>1</td>\n",
       "      <td>1</td>\n",
       "      <td>1</td>\n",
       "    </tr>\n",
       "    <tr>\n",
       "      <th>4</th>\n",
       "      <td>2020</td>\n",
       "      <td>SE</td>\n",
       "      <td>FT</td>\n",
       "      <td>150000</td>\n",
       "      <td>Hybrid</td>\n",
       "      <td>L</td>\n",
       "      <td>4</td>\n",
       "      <td>5</td>\n",
       "      <td>3</td>\n",
       "    </tr>\n",
       "    <tr>\n",
       "      <th>...</th>\n",
       "      <td>...</td>\n",
       "      <td>...</td>\n",
       "      <td>...</td>\n",
       "      <td>...</td>\n",
       "      <td>...</td>\n",
       "      <td>...</td>\n",
       "      <td>...</td>\n",
       "      <td>...</td>\n",
       "      <td>...</td>\n",
       "    </tr>\n",
       "    <tr>\n",
       "      <th>602</th>\n",
       "      <td>2022</td>\n",
       "      <td>SE</td>\n",
       "      <td>FT</td>\n",
       "      <td>154000</td>\n",
       "      <td>On-prem</td>\n",
       "      <td>M</td>\n",
       "      <td>4</td>\n",
       "      <td>5</td>\n",
       "      <td>3</td>\n",
       "    </tr>\n",
       "    <tr>\n",
       "      <th>603</th>\n",
       "      <td>2022</td>\n",
       "      <td>SE</td>\n",
       "      <td>FT</td>\n",
       "      <td>126000</td>\n",
       "      <td>On-prem</td>\n",
       "      <td>M</td>\n",
       "      <td>4</td>\n",
       "      <td>5</td>\n",
       "      <td>3</td>\n",
       "    </tr>\n",
       "    <tr>\n",
       "      <th>604</th>\n",
       "      <td>2022</td>\n",
       "      <td>SE</td>\n",
       "      <td>FT</td>\n",
       "      <td>129000</td>\n",
       "      <td>Fully Remote</td>\n",
       "      <td>M</td>\n",
       "      <td>4</td>\n",
       "      <td>5</td>\n",
       "      <td>3</td>\n",
       "    </tr>\n",
       "    <tr>\n",
       "      <th>605</th>\n",
       "      <td>2022</td>\n",
       "      <td>SE</td>\n",
       "      <td>FT</td>\n",
       "      <td>150000</td>\n",
       "      <td>On-prem</td>\n",
       "      <td>M</td>\n",
       "      <td>4</td>\n",
       "      <td>5</td>\n",
       "      <td>3</td>\n",
       "    </tr>\n",
       "    <tr>\n",
       "      <th>606</th>\n",
       "      <td>2022</td>\n",
       "      <td>MI</td>\n",
       "      <td>FT</td>\n",
       "      <td>200000</td>\n",
       "      <td>On-prem</td>\n",
       "      <td>L</td>\n",
       "      <td>5</td>\n",
       "      <td>5</td>\n",
       "      <td>1</td>\n",
       "    </tr>\n",
       "  </tbody>\n",
       "</table>\n",
       "<p>607 rows × 9 columns</p>\n",
       "</div>"
      ],
      "text/plain": [
       "     work_year experience_level employment_type  salary_in_usd  remote_ratio  \\\n",
       "0         2020               MI              FT          79833  Fully Remote   \n",
       "1         2020               SE              FT         260000  Fully Remote   \n",
       "2         2020               SE              FT         109024        Hybrid   \n",
       "3         2020               MI              FT          20000  Fully Remote   \n",
       "4         2020               SE              FT         150000        Hybrid   \n",
       "..         ...              ...             ...            ...           ...   \n",
       "602       2022               SE              FT         154000       On-prem   \n",
       "603       2022               SE              FT         126000       On-prem   \n",
       "604       2022               SE              FT         129000  Fully Remote   \n",
       "605       2022               SE              FT         150000       On-prem   \n",
       "606       2022               MI              FT         200000       On-prem   \n",
       "\n",
       "    company_size Pay grade  company_country_pay_scale  job_pay_scale  \n",
       "0              L         2                          4              3  \n",
       "1              S         5                          4              4  \n",
       "2              M         3                          4              1  \n",
       "3              S         1                          1              1  \n",
       "4              L         4                          5              3  \n",
       "..           ...       ...                        ...            ...  \n",
       "602            M         4                          5              3  \n",
       "603            M         4                          5              3  \n",
       "604            M         4                          5              3  \n",
       "605            M         4                          5              3  \n",
       "606            L         5                          5              1  \n",
       "\n",
       "[607 rows x 9 columns]"
      ]
     },
     "execution_count": 62,
     "metadata": {},
     "output_type": "execute_result"
    }
   ],
   "source": [
    "df3"
   ]
  },
  {
   "cell_type": "code",
   "execution_count": 63,
   "id": "dbd0f467-7aaa-436a-bcb0-a6c54b0799d4",
   "metadata": {},
   "outputs": [
    {
     "data": {
      "text/plain": [
       "experience_level\n",
       "EX    171437.5\n",
       "SE    135500.0\n",
       "MI     76940.0\n",
       "EN     56500.0\n",
       "Name: salary_in_usd, dtype: float64"
      ]
     },
     "execution_count": 63,
     "metadata": {},
     "output_type": "execute_result"
    }
   ],
   "source": [
    "df.groupby('experience_level').median()['salary_in_usd'].sort_values(ascending=False)"
   ]
  },
  {
   "cell_type": "code",
   "execution_count": 64,
   "id": "c2cd302f-6054-4452-bbde-9016266c6124",
   "metadata": {},
   "outputs": [],
   "source": [
    "def exp_level_grade(x):\n",
    "    if x=='EX':\n",
    "        return 4\n",
    "    elif x=='SE':\n",
    "        return 3\n",
    "    elif x=='MI':\n",
    "        return 2\n",
    "    else:\n",
    "        return 1"
   ]
  },
  {
   "cell_type": "code",
   "execution_count": 65,
   "id": "0df5334f-8577-4062-9f04-c8d93cd75bb7",
   "metadata": {},
   "outputs": [],
   "source": [
    "df3['exp_level_grade'] = df3['experience_level'].apply(lambda x: exp_level_grade(x))"
   ]
  },
  {
   "cell_type": "code",
   "execution_count": 66,
   "id": "375122c8-2510-4038-9306-4e88bb389277",
   "metadata": {},
   "outputs": [
    {
     "data": {
      "text/plain": [
       "employment_type\n",
       "CT    105000.0\n",
       "FT    104196.5\n",
       "FL     40000.0\n",
       "PT     18817.5\n",
       "Name: salary_in_usd, dtype: float64"
      ]
     },
     "execution_count": 66,
     "metadata": {},
     "output_type": "execute_result"
    }
   ],
   "source": [
    "df.groupby('employment_type').median()['salary_in_usd'].sort_values(ascending=False)"
   ]
  },
  {
   "cell_type": "code",
   "execution_count": 67,
   "id": "d9ac7907-6ff9-4f3e-8c4d-97a68f5387e2",
   "metadata": {},
   "outputs": [],
   "source": [
    "def emploment_type_grade(x):\n",
    "    if x=='CT':\n",
    "        return 4\n",
    "    elif x=='FE':\n",
    "        return 3\n",
    "    elif x=='FL':\n",
    "        return 2\n",
    "    else:\n",
    "        return 1"
   ]
  },
  {
   "cell_type": "code",
   "execution_count": 68,
   "id": "2bd8b532-2953-4e87-ab94-76077c075974",
   "metadata": {},
   "outputs": [],
   "source": [
    "#df3['employment_type_grade'] = df3['employment_type'].apply(lambda x: emploment_type_grade(x))"
   ]
  },
  {
   "cell_type": "code",
   "execution_count": 69,
   "id": "c0f029ac-3c27-4676-a2e2-12f97b536c73",
   "metadata": {},
   "outputs": [],
   "source": [
    "df3.drop('experience_level',axis=1,inplace=True)"
   ]
  },
  {
   "cell_type": "code",
   "execution_count": 70,
   "id": "8d18f928-090b-49a9-84b4-723245fc1188",
   "metadata": {},
   "outputs": [
    {
     "data": {
      "text/html": [
       "<div>\n",
       "<style scoped>\n",
       "    .dataframe tbody tr th:only-of-type {\n",
       "        vertical-align: middle;\n",
       "    }\n",
       "\n",
       "    .dataframe tbody tr th {\n",
       "        vertical-align: top;\n",
       "    }\n",
       "\n",
       "    .dataframe thead th {\n",
       "        text-align: right;\n",
       "    }\n",
       "</style>\n",
       "<table border=\"1\" class=\"dataframe\">\n",
       "  <thead>\n",
       "    <tr style=\"text-align: right;\">\n",
       "      <th></th>\n",
       "      <th>work_year</th>\n",
       "      <th>employment_type</th>\n",
       "      <th>salary_in_usd</th>\n",
       "      <th>remote_ratio</th>\n",
       "      <th>company_size</th>\n",
       "      <th>Pay grade</th>\n",
       "      <th>company_country_pay_scale</th>\n",
       "      <th>job_pay_scale</th>\n",
       "      <th>exp_level_grade</th>\n",
       "    </tr>\n",
       "  </thead>\n",
       "  <tbody>\n",
       "    <tr>\n",
       "      <th>0</th>\n",
       "      <td>2020</td>\n",
       "      <td>FT</td>\n",
       "      <td>79833</td>\n",
       "      <td>Fully Remote</td>\n",
       "      <td>L</td>\n",
       "      <td>2</td>\n",
       "      <td>4</td>\n",
       "      <td>3</td>\n",
       "      <td>2</td>\n",
       "    </tr>\n",
       "    <tr>\n",
       "      <th>1</th>\n",
       "      <td>2020</td>\n",
       "      <td>FT</td>\n",
       "      <td>260000</td>\n",
       "      <td>Fully Remote</td>\n",
       "      <td>S</td>\n",
       "      <td>5</td>\n",
       "      <td>4</td>\n",
       "      <td>4</td>\n",
       "      <td>3</td>\n",
       "    </tr>\n",
       "    <tr>\n",
       "      <th>2</th>\n",
       "      <td>2020</td>\n",
       "      <td>FT</td>\n",
       "      <td>109024</td>\n",
       "      <td>Hybrid</td>\n",
       "      <td>M</td>\n",
       "      <td>3</td>\n",
       "      <td>4</td>\n",
       "      <td>1</td>\n",
       "      <td>3</td>\n",
       "    </tr>\n",
       "    <tr>\n",
       "      <th>3</th>\n",
       "      <td>2020</td>\n",
       "      <td>FT</td>\n",
       "      <td>20000</td>\n",
       "      <td>Fully Remote</td>\n",
       "      <td>S</td>\n",
       "      <td>1</td>\n",
       "      <td>1</td>\n",
       "      <td>1</td>\n",
       "      <td>2</td>\n",
       "    </tr>\n",
       "    <tr>\n",
       "      <th>4</th>\n",
       "      <td>2020</td>\n",
       "      <td>FT</td>\n",
       "      <td>150000</td>\n",
       "      <td>Hybrid</td>\n",
       "      <td>L</td>\n",
       "      <td>4</td>\n",
       "      <td>5</td>\n",
       "      <td>3</td>\n",
       "      <td>3</td>\n",
       "    </tr>\n",
       "    <tr>\n",
       "      <th>...</th>\n",
       "      <td>...</td>\n",
       "      <td>...</td>\n",
       "      <td>...</td>\n",
       "      <td>...</td>\n",
       "      <td>...</td>\n",
       "      <td>...</td>\n",
       "      <td>...</td>\n",
       "      <td>...</td>\n",
       "      <td>...</td>\n",
       "    </tr>\n",
       "    <tr>\n",
       "      <th>602</th>\n",
       "      <td>2022</td>\n",
       "      <td>FT</td>\n",
       "      <td>154000</td>\n",
       "      <td>On-prem</td>\n",
       "      <td>M</td>\n",
       "      <td>4</td>\n",
       "      <td>5</td>\n",
       "      <td>3</td>\n",
       "      <td>3</td>\n",
       "    </tr>\n",
       "    <tr>\n",
       "      <th>603</th>\n",
       "      <td>2022</td>\n",
       "      <td>FT</td>\n",
       "      <td>126000</td>\n",
       "      <td>On-prem</td>\n",
       "      <td>M</td>\n",
       "      <td>4</td>\n",
       "      <td>5</td>\n",
       "      <td>3</td>\n",
       "      <td>3</td>\n",
       "    </tr>\n",
       "    <tr>\n",
       "      <th>604</th>\n",
       "      <td>2022</td>\n",
       "      <td>FT</td>\n",
       "      <td>129000</td>\n",
       "      <td>Fully Remote</td>\n",
       "      <td>M</td>\n",
       "      <td>4</td>\n",
       "      <td>5</td>\n",
       "      <td>3</td>\n",
       "      <td>3</td>\n",
       "    </tr>\n",
       "    <tr>\n",
       "      <th>605</th>\n",
       "      <td>2022</td>\n",
       "      <td>FT</td>\n",
       "      <td>150000</td>\n",
       "      <td>On-prem</td>\n",
       "      <td>M</td>\n",
       "      <td>4</td>\n",
       "      <td>5</td>\n",
       "      <td>3</td>\n",
       "      <td>3</td>\n",
       "    </tr>\n",
       "    <tr>\n",
       "      <th>606</th>\n",
       "      <td>2022</td>\n",
       "      <td>FT</td>\n",
       "      <td>200000</td>\n",
       "      <td>On-prem</td>\n",
       "      <td>L</td>\n",
       "      <td>5</td>\n",
       "      <td>5</td>\n",
       "      <td>1</td>\n",
       "      <td>2</td>\n",
       "    </tr>\n",
       "  </tbody>\n",
       "</table>\n",
       "<p>607 rows × 9 columns</p>\n",
       "</div>"
      ],
      "text/plain": [
       "     work_year employment_type  salary_in_usd  remote_ratio company_size  \\\n",
       "0         2020              FT          79833  Fully Remote            L   \n",
       "1         2020              FT         260000  Fully Remote            S   \n",
       "2         2020              FT         109024        Hybrid            M   \n",
       "3         2020              FT          20000  Fully Remote            S   \n",
       "4         2020              FT         150000        Hybrid            L   \n",
       "..         ...             ...            ...           ...          ...   \n",
       "602       2022              FT         154000       On-prem            M   \n",
       "603       2022              FT         126000       On-prem            M   \n",
       "604       2022              FT         129000  Fully Remote            M   \n",
       "605       2022              FT         150000       On-prem            M   \n",
       "606       2022              FT         200000       On-prem            L   \n",
       "\n",
       "    Pay grade  company_country_pay_scale  job_pay_scale  exp_level_grade  \n",
       "0           2                          4              3                2  \n",
       "1           5                          4              4                3  \n",
       "2           3                          4              1                3  \n",
       "3           1                          1              1                2  \n",
       "4           4                          5              3                3  \n",
       "..        ...                        ...            ...              ...  \n",
       "602         4                          5              3                3  \n",
       "603         4                          5              3                3  \n",
       "604         4                          5              3                3  \n",
       "605         4                          5              3                3  \n",
       "606         5                          5              1                2  \n",
       "\n",
       "[607 rows x 9 columns]"
      ]
     },
     "execution_count": 70,
     "metadata": {},
     "output_type": "execute_result"
    }
   ],
   "source": [
    "df3"
   ]
  },
  {
   "cell_type": "markdown",
   "id": "1b748910-6aa3-4d11-9a80-d7dc437e493f",
   "metadata": {},
   "source": [
    "### Train test split"
   ]
  },
  {
   "cell_type": "code",
   "execution_count": 71,
   "id": "35bd4f8a-4fa5-44c3-84fb-1a0cfcdbbc44",
   "metadata": {},
   "outputs": [],
   "source": [
    "from sklearn.model_selection import train_test_split, StratifiedKFold, cross_validate"
   ]
  },
  {
   "cell_type": "code",
   "execution_count": 72,
   "id": "057beba6-1579-48fc-8e17-db0252ea65d8",
   "metadata": {},
   "outputs": [],
   "source": [
    "X = df2.drop('salary_in_usd',axis=1)\n",
    "y = df2['salary_in_usd']"
   ]
  },
  {
   "cell_type": "code",
   "execution_count": 73,
   "id": "57cfe7a2-0b9b-4cfe-b1fe-11d87b2614c1",
   "metadata": {},
   "outputs": [],
   "source": [
    "cat_columns = X.select_dtypes(include='object').columns"
   ]
  },
  {
   "cell_type": "code",
   "execution_count": 74,
   "id": "a1e334ec-9373-42a7-a02f-5a62ec246538",
   "metadata": {},
   "outputs": [
    {
     "data": {
      "text/plain": [
       "Index(['experience_level', 'employment_type', 'remote_ratio', 'company_size'], dtype='object')"
      ]
     },
     "execution_count": 74,
     "metadata": {},
     "output_type": "execute_result"
    }
   ],
   "source": [
    "cat_columns"
   ]
  },
  {
   "cell_type": "code",
   "execution_count": 75,
   "id": "223bde72-9da4-42c2-8536-e3770efa28d5",
   "metadata": {},
   "outputs": [],
   "source": [
    "X = pd.get_dummies(X,columns=cat_columns)"
   ]
  },
  {
   "cell_type": "code",
   "execution_count": 76,
   "id": "e226aca0-d53b-4232-a234-54944fb4b2e9",
   "metadata": {},
   "outputs": [
    {
     "data": {
      "text/html": [
       "<div>\n",
       "<style scoped>\n",
       "    .dataframe tbody tr th:only-of-type {\n",
       "        vertical-align: middle;\n",
       "    }\n",
       "\n",
       "    .dataframe tbody tr th {\n",
       "        vertical-align: top;\n",
       "    }\n",
       "\n",
       "    .dataframe thead th {\n",
       "        text-align: right;\n",
       "    }\n",
       "</style>\n",
       "<table border=\"1\" class=\"dataframe\">\n",
       "  <thead>\n",
       "    <tr style=\"text-align: right;\">\n",
       "      <th></th>\n",
       "      <th>work_year</th>\n",
       "      <th>Pay grade</th>\n",
       "      <th>company_country_pay_scale</th>\n",
       "      <th>job_pay_scale</th>\n",
       "      <th>experience_level_EN</th>\n",
       "      <th>experience_level_EX</th>\n",
       "      <th>experience_level_MI</th>\n",
       "      <th>experience_level_SE</th>\n",
       "      <th>employment_type_CT</th>\n",
       "      <th>employment_type_FL</th>\n",
       "      <th>employment_type_FT</th>\n",
       "      <th>employment_type_PT</th>\n",
       "      <th>remote_ratio_Fully Remote</th>\n",
       "      <th>remote_ratio_Hybrid</th>\n",
       "      <th>remote_ratio_On-prem</th>\n",
       "      <th>company_size_L</th>\n",
       "      <th>company_size_M</th>\n",
       "      <th>company_size_S</th>\n",
       "    </tr>\n",
       "  </thead>\n",
       "  <tbody>\n",
       "    <tr>\n",
       "      <th>0</th>\n",
       "      <td>2020</td>\n",
       "      <td>2</td>\n",
       "      <td>4</td>\n",
       "      <td>3</td>\n",
       "      <td>0</td>\n",
       "      <td>0</td>\n",
       "      <td>1</td>\n",
       "      <td>0</td>\n",
       "      <td>0</td>\n",
       "      <td>0</td>\n",
       "      <td>1</td>\n",
       "      <td>0</td>\n",
       "      <td>1</td>\n",
       "      <td>0</td>\n",
       "      <td>0</td>\n",
       "      <td>1</td>\n",
       "      <td>0</td>\n",
       "      <td>0</td>\n",
       "    </tr>\n",
       "    <tr>\n",
       "      <th>1</th>\n",
       "      <td>2020</td>\n",
       "      <td>5</td>\n",
       "      <td>4</td>\n",
       "      <td>4</td>\n",
       "      <td>0</td>\n",
       "      <td>0</td>\n",
       "      <td>0</td>\n",
       "      <td>1</td>\n",
       "      <td>0</td>\n",
       "      <td>0</td>\n",
       "      <td>1</td>\n",
       "      <td>0</td>\n",
       "      <td>1</td>\n",
       "      <td>0</td>\n",
       "      <td>0</td>\n",
       "      <td>0</td>\n",
       "      <td>0</td>\n",
       "      <td>1</td>\n",
       "    </tr>\n",
       "    <tr>\n",
       "      <th>2</th>\n",
       "      <td>2020</td>\n",
       "      <td>3</td>\n",
       "      <td>4</td>\n",
       "      <td>1</td>\n",
       "      <td>0</td>\n",
       "      <td>0</td>\n",
       "      <td>0</td>\n",
       "      <td>1</td>\n",
       "      <td>0</td>\n",
       "      <td>0</td>\n",
       "      <td>1</td>\n",
       "      <td>0</td>\n",
       "      <td>0</td>\n",
       "      <td>1</td>\n",
       "      <td>0</td>\n",
       "      <td>0</td>\n",
       "      <td>1</td>\n",
       "      <td>0</td>\n",
       "    </tr>\n",
       "    <tr>\n",
       "      <th>3</th>\n",
       "      <td>2020</td>\n",
       "      <td>1</td>\n",
       "      <td>1</td>\n",
       "      <td>1</td>\n",
       "      <td>0</td>\n",
       "      <td>0</td>\n",
       "      <td>1</td>\n",
       "      <td>0</td>\n",
       "      <td>0</td>\n",
       "      <td>0</td>\n",
       "      <td>1</td>\n",
       "      <td>0</td>\n",
       "      <td>1</td>\n",
       "      <td>0</td>\n",
       "      <td>0</td>\n",
       "      <td>0</td>\n",
       "      <td>0</td>\n",
       "      <td>1</td>\n",
       "    </tr>\n",
       "    <tr>\n",
       "      <th>4</th>\n",
       "      <td>2020</td>\n",
       "      <td>4</td>\n",
       "      <td>5</td>\n",
       "      <td>3</td>\n",
       "      <td>0</td>\n",
       "      <td>0</td>\n",
       "      <td>0</td>\n",
       "      <td>1</td>\n",
       "      <td>0</td>\n",
       "      <td>0</td>\n",
       "      <td>1</td>\n",
       "      <td>0</td>\n",
       "      <td>0</td>\n",
       "      <td>1</td>\n",
       "      <td>0</td>\n",
       "      <td>1</td>\n",
       "      <td>0</td>\n",
       "      <td>0</td>\n",
       "    </tr>\n",
       "    <tr>\n",
       "      <th>...</th>\n",
       "      <td>...</td>\n",
       "      <td>...</td>\n",
       "      <td>...</td>\n",
       "      <td>...</td>\n",
       "      <td>...</td>\n",
       "      <td>...</td>\n",
       "      <td>...</td>\n",
       "      <td>...</td>\n",
       "      <td>...</td>\n",
       "      <td>...</td>\n",
       "      <td>...</td>\n",
       "      <td>...</td>\n",
       "      <td>...</td>\n",
       "      <td>...</td>\n",
       "      <td>...</td>\n",
       "      <td>...</td>\n",
       "      <td>...</td>\n",
       "      <td>...</td>\n",
       "    </tr>\n",
       "    <tr>\n",
       "      <th>602</th>\n",
       "      <td>2022</td>\n",
       "      <td>4</td>\n",
       "      <td>5</td>\n",
       "      <td>3</td>\n",
       "      <td>0</td>\n",
       "      <td>0</td>\n",
       "      <td>0</td>\n",
       "      <td>1</td>\n",
       "      <td>0</td>\n",
       "      <td>0</td>\n",
       "      <td>1</td>\n",
       "      <td>0</td>\n",
       "      <td>0</td>\n",
       "      <td>0</td>\n",
       "      <td>1</td>\n",
       "      <td>0</td>\n",
       "      <td>1</td>\n",
       "      <td>0</td>\n",
       "    </tr>\n",
       "    <tr>\n",
       "      <th>603</th>\n",
       "      <td>2022</td>\n",
       "      <td>4</td>\n",
       "      <td>5</td>\n",
       "      <td>3</td>\n",
       "      <td>0</td>\n",
       "      <td>0</td>\n",
       "      <td>0</td>\n",
       "      <td>1</td>\n",
       "      <td>0</td>\n",
       "      <td>0</td>\n",
       "      <td>1</td>\n",
       "      <td>0</td>\n",
       "      <td>0</td>\n",
       "      <td>0</td>\n",
       "      <td>1</td>\n",
       "      <td>0</td>\n",
       "      <td>1</td>\n",
       "      <td>0</td>\n",
       "    </tr>\n",
       "    <tr>\n",
       "      <th>604</th>\n",
       "      <td>2022</td>\n",
       "      <td>4</td>\n",
       "      <td>5</td>\n",
       "      <td>3</td>\n",
       "      <td>0</td>\n",
       "      <td>0</td>\n",
       "      <td>0</td>\n",
       "      <td>1</td>\n",
       "      <td>0</td>\n",
       "      <td>0</td>\n",
       "      <td>1</td>\n",
       "      <td>0</td>\n",
       "      <td>1</td>\n",
       "      <td>0</td>\n",
       "      <td>0</td>\n",
       "      <td>0</td>\n",
       "      <td>1</td>\n",
       "      <td>0</td>\n",
       "    </tr>\n",
       "    <tr>\n",
       "      <th>605</th>\n",
       "      <td>2022</td>\n",
       "      <td>4</td>\n",
       "      <td>5</td>\n",
       "      <td>3</td>\n",
       "      <td>0</td>\n",
       "      <td>0</td>\n",
       "      <td>0</td>\n",
       "      <td>1</td>\n",
       "      <td>0</td>\n",
       "      <td>0</td>\n",
       "      <td>1</td>\n",
       "      <td>0</td>\n",
       "      <td>0</td>\n",
       "      <td>0</td>\n",
       "      <td>1</td>\n",
       "      <td>0</td>\n",
       "      <td>1</td>\n",
       "      <td>0</td>\n",
       "    </tr>\n",
       "    <tr>\n",
       "      <th>606</th>\n",
       "      <td>2022</td>\n",
       "      <td>5</td>\n",
       "      <td>5</td>\n",
       "      <td>1</td>\n",
       "      <td>0</td>\n",
       "      <td>0</td>\n",
       "      <td>1</td>\n",
       "      <td>0</td>\n",
       "      <td>0</td>\n",
       "      <td>0</td>\n",
       "      <td>1</td>\n",
       "      <td>0</td>\n",
       "      <td>0</td>\n",
       "      <td>0</td>\n",
       "      <td>1</td>\n",
       "      <td>1</td>\n",
       "      <td>0</td>\n",
       "      <td>0</td>\n",
       "    </tr>\n",
       "  </tbody>\n",
       "</table>\n",
       "<p>607 rows × 18 columns</p>\n",
       "</div>"
      ],
      "text/plain": [
       "     work_year Pay grade  company_country_pay_scale  job_pay_scale  \\\n",
       "0         2020         2                          4              3   \n",
       "1         2020         5                          4              4   \n",
       "2         2020         3                          4              1   \n",
       "3         2020         1                          1              1   \n",
       "4         2020         4                          5              3   \n",
       "..         ...       ...                        ...            ...   \n",
       "602       2022         4                          5              3   \n",
       "603       2022         4                          5              3   \n",
       "604       2022         4                          5              3   \n",
       "605       2022         4                          5              3   \n",
       "606       2022         5                          5              1   \n",
       "\n",
       "     experience_level_EN  experience_level_EX  experience_level_MI  \\\n",
       "0                      0                    0                    1   \n",
       "1                      0                    0                    0   \n",
       "2                      0                    0                    0   \n",
       "3                      0                    0                    1   \n",
       "4                      0                    0                    0   \n",
       "..                   ...                  ...                  ...   \n",
       "602                    0                    0                    0   \n",
       "603                    0                    0                    0   \n",
       "604                    0                    0                    0   \n",
       "605                    0                    0                    0   \n",
       "606                    0                    0                    1   \n",
       "\n",
       "     experience_level_SE  employment_type_CT  employment_type_FL  \\\n",
       "0                      0                   0                   0   \n",
       "1                      1                   0                   0   \n",
       "2                      1                   0                   0   \n",
       "3                      0                   0                   0   \n",
       "4                      1                   0                   0   \n",
       "..                   ...                 ...                 ...   \n",
       "602                    1                   0                   0   \n",
       "603                    1                   0                   0   \n",
       "604                    1                   0                   0   \n",
       "605                    1                   0                   0   \n",
       "606                    0                   0                   0   \n",
       "\n",
       "     employment_type_FT  employment_type_PT  remote_ratio_Fully Remote  \\\n",
       "0                     1                   0                          1   \n",
       "1                     1                   0                          1   \n",
       "2                     1                   0                          0   \n",
       "3                     1                   0                          1   \n",
       "4                     1                   0                          0   \n",
       "..                  ...                 ...                        ...   \n",
       "602                   1                   0                          0   \n",
       "603                   1                   0                          0   \n",
       "604                   1                   0                          1   \n",
       "605                   1                   0                          0   \n",
       "606                   1                   0                          0   \n",
       "\n",
       "     remote_ratio_Hybrid  remote_ratio_On-prem  company_size_L  \\\n",
       "0                      0                     0               1   \n",
       "1                      0                     0               0   \n",
       "2                      1                     0               0   \n",
       "3                      0                     0               0   \n",
       "4                      1                     0               1   \n",
       "..                   ...                   ...             ...   \n",
       "602                    0                     1               0   \n",
       "603                    0                     1               0   \n",
       "604                    0                     0               0   \n",
       "605                    0                     1               0   \n",
       "606                    0                     1               1   \n",
       "\n",
       "     company_size_M  company_size_S  \n",
       "0                 0               0  \n",
       "1                 0               1  \n",
       "2                 1               0  \n",
       "3                 0               1  \n",
       "4                 0               0  \n",
       "..              ...             ...  \n",
       "602               1               0  \n",
       "603               1               0  \n",
       "604               1               0  \n",
       "605               1               0  \n",
       "606               0               0  \n",
       "\n",
       "[607 rows x 18 columns]"
      ]
     },
     "execution_count": 76,
     "metadata": {},
     "output_type": "execute_result"
    }
   ],
   "source": [
    "X"
   ]
  },
  {
   "cell_type": "code",
   "execution_count": 77,
   "id": "aa168903-1f63-4df9-8c87-d78a5a3f823c",
   "metadata": {},
   "outputs": [],
   "source": [
    "X.rename(columns={'remote_ratio_Fully Remote': 'remote_ratio_Fully_Remote'},inplace=True)\n",
    "X.rename(columns={'remote_ratio_On-prem': 'remote_ratio_On_prem'},inplace=True)"
   ]
  },
  {
   "cell_type": "code",
   "execution_count": 78,
   "id": "df11847e-9150-493a-9907-38fb28f0560c",
   "metadata": {},
   "outputs": [],
   "source": [
    "X_train, X_test, y_train, y_test = train_test_split(X, y, test_size=0.33, random_state=42)"
   ]
  },
  {
   "cell_type": "code",
   "execution_count": 79,
   "id": "8f072593-9fee-4ba3-a62b-e99458dabdd3",
   "metadata": {},
   "outputs": [],
   "source": [
    "from sklearn.preprocessing import StandardScaler"
   ]
  },
  {
   "cell_type": "code",
   "execution_count": 80,
   "id": "9b96fdf6-7a67-47c7-92c7-87faf2b1c3bf",
   "metadata": {},
   "outputs": [],
   "source": [
    "from sklearn.metrics import mean_squared_error, mean_absolute_percentage_error, r2_score"
   ]
  },
  {
   "cell_type": "code",
   "execution_count": 81,
   "id": "373c04c2-04ea-4053-9fd4-0ca40b0446c9",
   "metadata": {},
   "outputs": [],
   "source": [
    "#sc = StandardScaler()"
   ]
  },
  {
   "cell_type": "code",
   "execution_count": 82,
   "id": "6fe19eb8-a636-4da5-8243-d650317f616c",
   "metadata": {},
   "outputs": [],
   "source": [
    "#X_train = sc.fit_transform(X_train)\n",
    "#X_test = sc.transform(X_test)"
   ]
  },
  {
   "cell_type": "code",
   "execution_count": null,
   "id": "fea1b9b5-a76d-4b28-9abb-7ccc73f2bece",
   "metadata": {},
   "outputs": [],
   "source": []
  },
  {
   "cell_type": "markdown",
   "id": "bb140ac0-a0c7-49c1-9ec0-96bdbfe7e2cc",
   "metadata": {},
   "source": [
    "### Model Building\n",
    "#### 1) Random Forest"
   ]
  },
  {
   "cell_type": "code",
   "execution_count": 83,
   "id": "3f264f5e-c647-4cec-913d-ad4b4d7d92d7",
   "metadata": {},
   "outputs": [],
   "source": [
    "from sklearn.ensemble import RandomForestRegressor"
   ]
  },
  {
   "cell_type": "code",
   "execution_count": 84,
   "id": "23af4209-6983-476f-9560-1a5b54bea175",
   "metadata": {},
   "outputs": [],
   "source": [
    "rf = RandomForestRegressor(random_state=42)"
   ]
  },
  {
   "cell_type": "code",
   "execution_count": 85,
   "id": "01cccb54-0838-4983-b690-4e319bcb584e",
   "metadata": {},
   "outputs": [
    {
     "data": {
      "text/html": [
       "<style>#sk-container-id-1 {color: black;background-color: white;}#sk-container-id-1 pre{padding: 0;}#sk-container-id-1 div.sk-toggleable {background-color: white;}#sk-container-id-1 label.sk-toggleable__label {cursor: pointer;display: block;width: 100%;margin-bottom: 0;padding: 0.3em;box-sizing: border-box;text-align: center;}#sk-container-id-1 label.sk-toggleable__label-arrow:before {content: \"▸\";float: left;margin-right: 0.25em;color: #696969;}#sk-container-id-1 label.sk-toggleable__label-arrow:hover:before {color: black;}#sk-container-id-1 div.sk-estimator:hover label.sk-toggleable__label-arrow:before {color: black;}#sk-container-id-1 div.sk-toggleable__content {max-height: 0;max-width: 0;overflow: hidden;text-align: left;background-color: #f0f8ff;}#sk-container-id-1 div.sk-toggleable__content pre {margin: 0.2em;color: black;border-radius: 0.25em;background-color: #f0f8ff;}#sk-container-id-1 input.sk-toggleable__control:checked~div.sk-toggleable__content {max-height: 200px;max-width: 100%;overflow: auto;}#sk-container-id-1 input.sk-toggleable__control:checked~label.sk-toggleable__label-arrow:before {content: \"▾\";}#sk-container-id-1 div.sk-estimator input.sk-toggleable__control:checked~label.sk-toggleable__label {background-color: #d4ebff;}#sk-container-id-1 div.sk-label input.sk-toggleable__control:checked~label.sk-toggleable__label {background-color: #d4ebff;}#sk-container-id-1 input.sk-hidden--visually {border: 0;clip: rect(1px 1px 1px 1px);clip: rect(1px, 1px, 1px, 1px);height: 1px;margin: -1px;overflow: hidden;padding: 0;position: absolute;width: 1px;}#sk-container-id-1 div.sk-estimator {font-family: monospace;background-color: #f0f8ff;border: 1px dotted black;border-radius: 0.25em;box-sizing: border-box;margin-bottom: 0.5em;}#sk-container-id-1 div.sk-estimator:hover {background-color: #d4ebff;}#sk-container-id-1 div.sk-parallel-item::after {content: \"\";width: 100%;border-bottom: 1px solid gray;flex-grow: 1;}#sk-container-id-1 div.sk-label:hover label.sk-toggleable__label {background-color: #d4ebff;}#sk-container-id-1 div.sk-serial::before {content: \"\";position: absolute;border-left: 1px solid gray;box-sizing: border-box;top: 0;bottom: 0;left: 50%;z-index: 0;}#sk-container-id-1 div.sk-serial {display: flex;flex-direction: column;align-items: center;background-color: white;padding-right: 0.2em;padding-left: 0.2em;position: relative;}#sk-container-id-1 div.sk-item {position: relative;z-index: 1;}#sk-container-id-1 div.sk-parallel {display: flex;align-items: stretch;justify-content: center;background-color: white;position: relative;}#sk-container-id-1 div.sk-item::before, #sk-container-id-1 div.sk-parallel-item::before {content: \"\";position: absolute;border-left: 1px solid gray;box-sizing: border-box;top: 0;bottom: 0;left: 50%;z-index: -1;}#sk-container-id-1 div.sk-parallel-item {display: flex;flex-direction: column;z-index: 1;position: relative;background-color: white;}#sk-container-id-1 div.sk-parallel-item:first-child::after {align-self: flex-end;width: 50%;}#sk-container-id-1 div.sk-parallel-item:last-child::after {align-self: flex-start;width: 50%;}#sk-container-id-1 div.sk-parallel-item:only-child::after {width: 0;}#sk-container-id-1 div.sk-dashed-wrapped {border: 1px dashed gray;margin: 0 0.4em 0.5em 0.4em;box-sizing: border-box;padding-bottom: 0.4em;background-color: white;}#sk-container-id-1 div.sk-label label {font-family: monospace;font-weight: bold;display: inline-block;line-height: 1.2em;}#sk-container-id-1 div.sk-label-container {text-align: center;}#sk-container-id-1 div.sk-container {/* jupyter's `normalize.less` sets `[hidden] { display: none; }` but bootstrap.min.css set `[hidden] { display: none !important; }` so we also need the `!important` here to be able to override the default hidden behavior on the sphinx rendered scikit-learn.org. See: https://github.com/scikit-learn/scikit-learn/issues/21755 */display: inline-block !important;position: relative;}#sk-container-id-1 div.sk-text-repr-fallback {display: none;}</style><div id=\"sk-container-id-1\" class=\"sk-top-container\"><div class=\"sk-text-repr-fallback\"><pre>RandomForestRegressor(random_state=42)</pre><b>In a Jupyter environment, please rerun this cell to show the HTML representation or trust the notebook. <br />On GitHub, the HTML representation is unable to render, please try loading this page with nbviewer.org.</b></div><div class=\"sk-container\" hidden><div class=\"sk-item\"><div class=\"sk-estimator sk-toggleable\"><input class=\"sk-toggleable__control sk-hidden--visually\" id=\"sk-estimator-id-1\" type=\"checkbox\" checked><label for=\"sk-estimator-id-1\" class=\"sk-toggleable__label sk-toggleable__label-arrow\">RandomForestRegressor</label><div class=\"sk-toggleable__content\"><pre>RandomForestRegressor(random_state=42)</pre></div></div></div></div></div>"
      ],
      "text/plain": [
       "RandomForestRegressor(random_state=42)"
      ]
     },
     "execution_count": 85,
     "metadata": {},
     "output_type": "execute_result"
    }
   ],
   "source": [
    "rf.fit(X_train,y_train)"
   ]
  },
  {
   "cell_type": "code",
   "execution_count": 86,
   "id": "632525c2-d425-4a4a-aa83-f07767915143",
   "metadata": {},
   "outputs": [
    {
     "name": "stdout",
     "output_type": "stream",
     "text": [
      "29859.09587806257\n"
     ]
    }
   ],
   "source": [
    "print(mean_squared_error(y_test,rf.predict(X_test))**0.5)"
   ]
  },
  {
   "cell_type": "code",
   "execution_count": 87,
   "id": "f67960ac-2fa6-4c0b-9bee-b06b8a08fc6e",
   "metadata": {},
   "outputs": [
    {
     "name": "stdout",
     "output_type": "stream",
     "text": [
      "24.368023838886202\n"
     ]
    }
   ],
   "source": [
    "print(100 * mean_absolute_percentage_error(y_test,rf.predict(X_test)))"
   ]
  },
  {
   "cell_type": "code",
   "execution_count": 88,
   "id": "f814354d-1d2e-4f0e-80ba-b078406377db",
   "metadata": {},
   "outputs": [
    {
     "name": "stdout",
     "output_type": "stream",
     "text": [
      "0.8060236468664267\n"
     ]
    }
   ],
   "source": [
    "print(r2_score(y_test,rf.predict(X_test)))"
   ]
  },
  {
   "cell_type": "code",
   "execution_count": 90,
   "id": "e19f8d72-a4e7-41ae-988e-892a5efdb88e",
   "metadata": {},
   "outputs": [
    {
     "data": {
      "text/plain": [
       "count       607.000000\n",
       "mean     112297.869852\n",
       "std       70957.259411\n",
       "min        2859.000000\n",
       "25%       62726.000000\n",
       "50%      101570.000000\n",
       "75%      150000.000000\n",
       "max      600000.000000\n",
       "Name: salary_in_usd, dtype: float64"
      ]
     },
     "execution_count": 90,
     "metadata": {},
     "output_type": "execute_result"
    }
   ],
   "source": [
    "df['salary_in_usd'].describe()"
   ]
  },
  {
   "cell_type": "code",
   "execution_count": 91,
   "id": "c6b0df57-c3af-4018-9f8d-a921d9aa38ae",
   "metadata": {},
   "outputs": [
    {
     "data": {
      "text/plain": [
       "Pay grade                    0.835826\n",
       "job_pay_scale                0.038336\n",
       "work_year                    0.022437\n",
       "experience_level_EX          0.022361\n",
       "experience_level_SE          0.018040\n",
       "company_size_M               0.009621\n",
       "experience_level_MI          0.008730\n",
       "remote_ratio_On_prem         0.008393\n",
       "company_size_L               0.008339\n",
       "remote_ratio_Hybrid          0.006688\n",
       "company_country_pay_scale    0.006347\n",
       "employment_type_CT           0.004369\n",
       "employment_type_FT           0.003443\n",
       "company_size_S               0.002370\n",
       "remote_ratio_Fully_Remote    0.001731\n",
       "experience_level_EN          0.001709\n",
       "employment_type_PT           0.001238\n",
       "employment_type_FL           0.000023\n",
       "dtype: float64"
      ]
     },
     "execution_count": 91,
     "metadata": {},
     "output_type": "execute_result"
    }
   ],
   "source": [
    "pd.Series(rf.feature_importances_, index=[X.columns]).sort_values(ascending=False)"
   ]
  },
  {
   "cell_type": "markdown",
   "id": "85641bda-3865-4bb1-b164-9e4ef1784cff",
   "metadata": {},
   "source": [
    "### Results:\n",
    "RMSE = 29860.987395831184\n",
    "MAPE = 24.374346538536635\n",
    "R2 = 0.8059990700110748"
   ]
  },
  {
   "cell_type": "markdown",
   "id": "b0848754-dabe-4fcc-97a4-d5965fd4f283",
   "metadata": {},
   "source": [
    "#### 2) Catboost"
   ]
  },
  {
   "cell_type": "code",
   "execution_count": 136,
   "id": "73426e3f-f98d-4c87-bfcf-883ec9abb0cd",
   "metadata": {},
   "outputs": [],
   "source": [
    "from catboost import CatBoostRegressor"
   ]
  },
  {
   "cell_type": "code",
   "execution_count": 137,
   "id": "aa5ea926-4f22-492d-9975-fe8220891127",
   "metadata": {},
   "outputs": [
    {
     "name": "stdout",
     "output_type": "stream",
     "text": [
      "Learning rate set to 0.044201\n",
      "0:\tlearn: 70223.2754588\ttest: 65978.1971081\tbest: 65978.1971081 (0)\ttotal: 770us\tremaining: 769ms\n",
      "100:\tlearn: 25873.7202626\ttest: 31438.6023846\tbest: 31424.5539631 (99)\ttotal: 70.5ms\tremaining: 627ms\n",
      "200:\tlearn: 23367.6285225\ttest: 31559.4037157\tbest: 31359.3642345 (147)\ttotal: 140ms\tremaining: 555ms\n",
      "300:\tlearn: 22347.5345581\ttest: 31642.4615486\tbest: 31359.3642345 (147)\ttotal: 212ms\tremaining: 492ms\n",
      "400:\tlearn: 21771.2957939\ttest: 31803.2361380\tbest: 31359.3642345 (147)\ttotal: 283ms\tremaining: 423ms\n",
      "500:\tlearn: 21468.3712995\ttest: 32019.3398767\tbest: 31359.3642345 (147)\ttotal: 362ms\tremaining: 361ms\n",
      "600:\tlearn: 21251.8956760\ttest: 32100.1615721\tbest: 31359.3642345 (147)\ttotal: 454ms\tremaining: 301ms\n",
      "700:\tlearn: 21126.5510455\ttest: 32202.7458061\tbest: 31359.3642345 (147)\ttotal: 536ms\tremaining: 229ms\n",
      "800:\tlearn: 21039.3519050\ttest: 32269.6450311\tbest: 31359.3642345 (147)\ttotal: 617ms\tremaining: 153ms\n",
      "900:\tlearn: 20967.4921922\ttest: 32308.9556610\tbest: 31359.3642345 (147)\ttotal: 702ms\tremaining: 77.1ms\n",
      "999:\tlearn: 20916.4987409\ttest: 32355.4628468\tbest: 31359.3642345 (147)\ttotal: 779ms\tremaining: 0us\n",
      "\n",
      "bestTest = 31359.36423\n",
      "bestIteration = 147\n",
      "\n",
      "Shrink model to first 148 iterations.\n",
      "31359.36423449792\n",
      "28.33588943849558\n",
      "0.7860412843375191\n"
     ]
    }
   ],
   "source": [
    "cb = CatBoostRegressor(random_state=42,verbose=100,use_best_model=True,eval_metric='RMSE')\n",
    "cb.fit(X_train,y_train,eval_set=(X_test,y_test))\n",
    "print(mean_squared_error(y_test,cb.predict(X_test))**0.5)\n",
    "print(100 * mean_absolute_percentage_error(y_test,cb.predict(X_test)))\n",
    "print(r2_score(y_test,cb.predict(X_test)))"
   ]
  },
  {
   "cell_type": "markdown",
   "id": "0070dbb9-eed1-4143-9b71-cdb37222afb8",
   "metadata": {},
   "source": [
    "#### 3) Linear Regression"
   ]
  },
  {
   "cell_type": "code",
   "execution_count": 82,
   "id": "813c63b4-c778-40b5-befb-64c5212eb3cc",
   "metadata": {},
   "outputs": [],
   "source": [
    "from sklearn.linear_model import LinearRegression, Lasso, Ridge\n",
    "from sklearn.model_selection import GridSearchCV"
   ]
  },
  {
   "cell_type": "code",
   "execution_count": 83,
   "id": "2707118e-4bd5-46fe-9bc9-af5a18de42f5",
   "metadata": {},
   "outputs": [
    {
     "name": "stdout",
     "output_type": "stream",
     "text": [
      "33298.470961034815\n",
      "25.248563277426705\n",
      "0.7587629180765912\n"
     ]
    }
   ],
   "source": [
    "ridge = Ridge()\n",
    "parameters = {'alpha':[1e-15,1e-10,1e-8,1e-5,1e-3,1e-2,1,5,10,20,30,35,40,45,50,55,100]}\n",
    "ridge = GridSearchCV(ridge,parameters,scoring=\"neg_mean_squared_error\",cv=5)\n",
    "ridge.fit(X_train,y_train)\n",
    "print(mean_squared_error(y_test,ridge.predict(X_test))**0.5)\n",
    "print(100 * mean_absolute_percentage_error(y_test,ridge.predict(X_test)))\n",
    "print(r2_score(y_test,ridge.predict(X_test)))"
   ]
  },
  {
   "cell_type": "code",
   "execution_count": 84,
   "id": "153d478d-3271-40b9-91e2-430d2f42d8e2",
   "metadata": {},
   "outputs": [
    {
     "name": "stdout",
     "output_type": "stream",
     "text": [
      "33171.309085283465\n",
      "27.964216702781354\n",
      "0.7606018965716052\n"
     ]
    }
   ],
   "source": [
    "lr = LinearRegression()\n",
    "#parameters = {'alpha':[1e-15,1e-10,1e-8,1e-5,1e-3,1e-2,1,5,10,20,30,35,40,45,50,55,100]}\n",
    "#lr = GridSearchCV(lr,parameters,scoring=\"neg_mean_squared_error\",cv=5)\n",
    "lr.fit(X_train,y_train)\n",
    "print(mean_squared_error(y_test,lr.predict(X_test))**0.5)\n",
    "print(100 * mean_absolute_percentage_error(y_test,lr.predict(X_test)))\n",
    "print(r2_score(y_test,lr.predict(X_test)))"
   ]
  },
  {
   "cell_type": "raw",
   "id": "863ec707-e9ee-4329-b855-1c7d71b12d42",
   "metadata": {},
   "source": [
    "lasso = Lasso()\n",
    "parameters = {'alpha':[1e-15,1e-10,1e-8,1e-5,1e-3,1e-2,1,5,10,20,30,35,40,45,50,55,100]}\n",
    "lasso = GridSearchCV(lasso,parameters,scoring=\"neg_mean_squared_error\",cv=5)\n",
    "lasso.fit(X_train,y_train)\n",
    "print(mean_squared_error(y_test,lasso.predict(X_test))**0.5)\n",
    "print(100 * mean_absolute_percentage_error(y_test,lasso.predict(X_test)))\n",
    "print(r2_score(y_test,lasso.predict(X_test)))"
   ]
  },
  {
   "cell_type": "markdown",
   "id": "8ec9be36-5d2c-4bfc-bb00-6fbf932519cf",
   "metadata": {},
   "source": [
    "### Not so good result with linear model"
   ]
  },
  {
   "cell_type": "markdown",
   "id": "b9786640-ba08-435f-be65-1d2efacd6e82",
   "metadata": {},
   "source": [
    "### 4) XGBOOST"
   ]
  },
  {
   "cell_type": "code",
   "execution_count": 85,
   "id": "62f58504-3198-4ede-a672-865099f5d328",
   "metadata": {},
   "outputs": [],
   "source": [
    "from xgboost import XGBRegressor"
   ]
  },
  {
   "cell_type": "code",
   "execution_count": 86,
   "id": "f554d9bd-16c7-4886-9543-b2d04499f300",
   "metadata": {},
   "outputs": [
    {
     "name": "stdout",
     "output_type": "stream",
     "text": [
      "31262.377526422588\n",
      "23.859704464446942\n",
      "0.7873626799033182\n"
     ]
    }
   ],
   "source": [
    "xgb = XGBRegressor(random_state=42,n_estimators=100,max_depth = 1)\n",
    "#parameters = {'learning_rate':[1e-15,1e-10,1e-8,1e-5,1e-3,1e-2,1,5,10,20,30,35,40,45,50,55,100]}\n",
    "#xgb = GridSearchCV(xgb,parameters,scoring=\"neg_mean_squared_error\",cv=5)\n",
    "xgb.fit(X_train,y_train)\n",
    "print(mean_squared_error(y_test,xgb.predict(X_test))**0.5)\n",
    "print(100 * mean_absolute_percentage_error(y_test,xgb.predict(X_test)))\n",
    "print(r2_score(y_test,xgb.predict(X_test)))"
   ]
  },
  {
   "cell_type": "markdown",
   "id": "806c71a4-ab11-4c1b-96a1-1011dd67d7d4",
   "metadata": {},
   "source": [
    "### 5) Adaboost"
   ]
  },
  {
   "cell_type": "code",
   "execution_count": 87,
   "id": "ebaddfc7-f141-4f9a-8fbd-c8ca2103b7e1",
   "metadata": {},
   "outputs": [],
   "source": [
    "from sklearn.ensemble import AdaBoostRegressor"
   ]
  },
  {
   "cell_type": "code",
   "execution_count": 88,
   "id": "6768cccb-1b11-437b-bb0f-ed575e2bb32a",
   "metadata": {},
   "outputs": [
    {
     "name": "stdout",
     "output_type": "stream",
     "text": [
      "31688.753877520852\n",
      "32.610359698179465\n",
      "0.7815229584543857\n"
     ]
    }
   ],
   "source": [
    "adb = AdaBoostRegressor(random_state=42)\n",
    "parameters = {'learning_rate':[1e-15,1e-10,1e-8,1e-5,1e-3,1e-2,1,5,10,20,30,35,40,45,50,55,100],'loss' : ['linear', 'square', 'exponential']}\n",
    "adb = GridSearchCV(adb,parameters,scoring=\"neg_mean_squared_error\",cv=5)\n",
    "adb.fit(X_train,y_train)\n",
    "print(mean_squared_error(y_test,adb.predict(X_test))**0.5)\n",
    "print(100 * mean_absolute_percentage_error(y_test,adb.predict(X_test)))\n",
    "print(r2_score(y_test,adb.predict(X_test)))"
   ]
  },
  {
   "cell_type": "markdown",
   "id": "cb9410db-6bc7-4e86-910a-5091770e98a7",
   "metadata": {},
   "source": [
    "### 6) ANN"
   ]
  },
  {
   "cell_type": "code",
   "execution_count": 89,
   "id": "f3d7cb38-cb30-4d33-91b6-17490bb18aa2",
   "metadata": {},
   "outputs": [
    {
     "data": {
      "text/plain": [
       "(406, 18)"
      ]
     },
     "execution_count": 89,
     "metadata": {},
     "output_type": "execute_result"
    }
   ],
   "source": [
    "X_train.shape"
   ]
  },
  {
   "cell_type": "code",
   "execution_count": 90,
   "id": "d41cee81-57bc-46c5-bfe2-1efe3ddd5d16",
   "metadata": {},
   "outputs": [],
   "source": [
    "from tensorflow.keras.models import Sequential, save_model, load_model\n",
    "from tensorflow.keras.layers import Dense, Dropout\n",
    "from tensorflow.keras.callbacks import EarlyStopping"
   ]
  },
  {
   "cell_type": "code",
   "execution_count": 91,
   "id": "8f88ba18-7c3c-434e-ae24-ee210cf45f92",
   "metadata": {},
   "outputs": [],
   "source": [
    "ann = Sequential()"
   ]
  },
  {
   "cell_type": "code",
   "execution_count": 92,
   "id": "c714436e-a09c-421b-85ee-72aa239efa5c",
   "metadata": {},
   "outputs": [],
   "source": [
    "ann.add(Dense(9,activation='relu'))\n",
    "#ann.add(Dropout(0.5))\n",
    "\n",
    "#ann.add(Dense(5,activation='relu'))\n",
    "#ann.add(Dropout(0.5))\n",
    "\n",
    "#ann.add(Dense(3,activation='relu'))\n",
    "#ann.add(Dropout(0.5))\n",
    "\n",
    "#ann.add(Dense(2,activation='relu'))\n",
    "#ann.add(Dropout(0.5))\n",
    "\n",
    "ann.add(Dense(1))\n",
    "ann.compile(optimizer='adam',loss='mse')"
   ]
  },
  {
   "cell_type": "code",
   "execution_count": 93,
   "id": "85a894b7-b26a-4985-8997-e27611166283",
   "metadata": {},
   "outputs": [],
   "source": [
    "early_stop = EarlyStopping(patience=30,restore_best_weights = True)"
   ]
  },
  {
   "cell_type": "code",
   "execution_count": 94,
   "id": "e2fa4d64-b70f-4c54-91fd-cd1a7b4e591b",
   "metadata": {},
   "outputs": [],
   "source": [
    "from sklearn.preprocessing import MinMaxScaler"
   ]
  },
  {
   "cell_type": "code",
   "execution_count": 95,
   "id": "46f2ad1c-0617-462c-92e6-3de3dfc941d3",
   "metadata": {},
   "outputs": [],
   "source": [
    "mm = MinMaxScaler()"
   ]
  },
  {
   "cell_type": "code",
   "execution_count": 96,
   "id": "bbdeba57-5afc-4fe1-a27f-02b5009e15d8",
   "metadata": {},
   "outputs": [],
   "source": [
    "X_train_mm = mm.fit_transform(X_train)\n",
    "X_test_mm = mm.transform(X_test)"
   ]
  },
  {
   "cell_type": "code",
   "execution_count": 97,
   "id": "6c8f5e66-ee0e-44c3-89b3-55aac6c6d783",
   "metadata": {},
   "outputs": [
    {
     "data": {
      "text/plain": [
       "(406, 18)"
      ]
     },
     "execution_count": 97,
     "metadata": {},
     "output_type": "execute_result"
    }
   ],
   "source": [
    "X_train_mm.shape"
   ]
  },
  {
   "cell_type": "code",
   "execution_count": 98,
   "id": "48c15bf7-4b6d-49ec-8fd0-6ea1ac827384",
   "metadata": {},
   "outputs": [
    {
     "data": {
      "text/plain": [
       "<keras.callbacks.History at 0x1994f90d690>"
      ]
     },
     "execution_count": 98,
     "metadata": {},
     "output_type": "execute_result"
    }
   ],
   "source": [
    "ann.fit(x=X_train_mm,y=y_train,epochs=600,callbacks=[early_stop],validation_data=(X_test_mm,y_test),verbose=None)"
   ]
  },
  {
   "cell_type": "code",
   "execution_count": 99,
   "id": "089ffb6f-87d7-4cab-bfcd-cfad89d1f827",
   "metadata": {},
   "outputs": [
    {
     "name": "stdout",
     "output_type": "stream",
     "text": [
      "7/7 [==============================] - 0s 2ms/step\n",
      "126651.37116444524\n"
     ]
    }
   ],
   "source": [
    "print(mean_squared_error(y_test,ann.predict(X_test_mm))**0.5)"
   ]
  },
  {
   "cell_type": "code",
   "execution_count": 100,
   "id": "99ac5b33-d745-47c0-b073-ec6e6206db25",
   "metadata": {},
   "outputs": [
    {
     "name": "stdout",
     "output_type": "stream",
     "text": [
      "7/7 [==============================] - 0s 2ms/step\n",
      "0.93821245846895\n"
     ]
    }
   ],
   "source": [
    "print(mean_absolute_percentage_error(y_test,ann.predict(X_test_mm)))"
   ]
  },
  {
   "cell_type": "markdown",
   "id": "258987dd-5753-4c68-bf82-1dd1a384b76a",
   "metadata": {},
   "source": [
    "#### ANN is not the best model"
   ]
  },
  {
   "cell_type": "code",
   "execution_count": 101,
   "id": "ba35d2df-3bdf-4778-a181-e1e36fb75486",
   "metadata": {},
   "outputs": [],
   "source": [
    "from sklearn.ensemble import ExtraTreesRegressor"
   ]
  },
  {
   "cell_type": "code",
   "execution_count": 102,
   "id": "8b4b253f-5d60-410d-90bf-7b4bc1046f3a",
   "metadata": {},
   "outputs": [
    {
     "name": "stdout",
     "output_type": "stream",
     "text": [
      "31082.561250111048\n",
      "22.052985505738125\n",
      "0.7898017578875882\n"
     ]
    }
   ],
   "source": [
    "etr = ExtraTreesRegressor(random_state=42)\n",
    "etr.fit(X_train,y_train)\n",
    "print(mean_squared_error(y_test,etr.predict(X_test))**0.5)\n",
    "print(100 * mean_absolute_percentage_error(y_test,etr.predict(X_test)))\n",
    "print(r2_score(y_test,etr.predict(X_test)))"
   ]
  },
  {
   "cell_type": "markdown",
   "id": "ac402fca-ce22-404c-b0fe-b6af0fada636",
   "metadata": {},
   "source": [
    "### RF worked the best"
   ]
  },
  {
   "cell_type": "code",
   "execution_count": 225,
   "id": "a7c0ecb7-3a54-4ea0-a299-eae98eb1d42d",
   "metadata": {},
   "outputs": [
    {
     "name": "stderr",
     "output_type": "stream",
     "text": [
      "C:\\ANACONDA\\envs\\my_env\\lib\\site-packages\\sklearn\\model_selection\\_split.py:680: UserWarning: The least populated class in y has only 1 members, which is less than n_splits=10.\n",
      "  warnings.warn(\n"
     ]
    }
   ],
   "source": [
    "cross_val_score = cross_validate(rf,X,y,scoring='neg_mean_squared_error',cv=StratifiedKFold(n_splits=10,random_state=42,shuffle=True))"
   ]
  },
  {
   "cell_type": "code",
   "execution_count": 218,
   "id": "228ee184-50ff-460f-98df-ef5f08a05cb0",
   "metadata": {},
   "outputs": [
    {
     "data": {
      "text/plain": [
       "35568.90145956634"
      ]
     },
     "execution_count": 218,
     "metadata": {},
     "output_type": "execute_result"
    }
   ],
   "source": [
    "abs(cross_val_score['test_score'].mean())**0.5"
   ]
  },
  {
   "cell_type": "code",
   "execution_count": 220,
   "id": "2bdd59a3-44ef-4026-820f-892f95eb10f4",
   "metadata": {},
   "outputs": [
    {
     "data": {
      "text/plain": [
       "29860.987395831184"
      ]
     },
     "execution_count": 220,
     "metadata": {},
     "output_type": "execute_result"
    }
   ],
   "source": [
    "mean_squared_error(y_test,rf.predict(X_test))**0.5"
   ]
  },
  {
   "cell_type": "code",
   "execution_count": null,
   "id": "a15cfb75-859d-4130-9f21-9bd29120dd0e",
   "metadata": {},
   "outputs": [],
   "source": []
  },
  {
   "cell_type": "code",
   "execution_count": null,
   "id": "e62551da-02c1-45ed-81e7-9117a0984488",
   "metadata": {},
   "outputs": [],
   "source": []
  },
  {
   "cell_type": "code",
   "execution_count": 92,
   "id": "8003f924-c700-46f8-809a-d5daad660f44",
   "metadata": {},
   "outputs": [],
   "source": [
    "import joblib"
   ]
  },
  {
   "cell_type": "code",
   "execution_count": 93,
   "id": "c3cf8d2a-21db-4dfb-b817-9ee1b3fba8f8",
   "metadata": {},
   "outputs": [
    {
     "data": {
      "text/plain": [
       "['rf.pkl']"
      ]
     },
     "execution_count": 93,
     "metadata": {},
     "output_type": "execute_result"
    }
   ],
   "source": [
    "joblib.dump(rf,\"rf.pkl\")"
   ]
  },
  {
   "cell_type": "code",
   "execution_count": 93,
   "id": "bea9bd68-333e-4d0b-9cd5-03b1e2348869",
   "metadata": {},
   "outputs": [
    {
     "data": {
      "text/html": [
       "<div>\n",
       "<style scoped>\n",
       "    .dataframe tbody tr th:only-of-type {\n",
       "        vertical-align: middle;\n",
       "    }\n",
       "\n",
       "    .dataframe tbody tr th {\n",
       "        vertical-align: top;\n",
       "    }\n",
       "\n",
       "    .dataframe thead th {\n",
       "        text-align: right;\n",
       "    }\n",
       "</style>\n",
       "<table border=\"1\" class=\"dataframe\">\n",
       "  <thead>\n",
       "    <tr style=\"text-align: right;\">\n",
       "      <th></th>\n",
       "      <th>work_year</th>\n",
       "      <th>Pay grade</th>\n",
       "      <th>company_country_pay_scale</th>\n",
       "      <th>job_pay_scale</th>\n",
       "      <th>experience_level_EN</th>\n",
       "      <th>experience_level_EX</th>\n",
       "      <th>experience_level_MI</th>\n",
       "      <th>experience_level_SE</th>\n",
       "      <th>employment_type_CT</th>\n",
       "      <th>employment_type_FL</th>\n",
       "      <th>employment_type_FT</th>\n",
       "      <th>employment_type_PT</th>\n",
       "      <th>remote_ratio_Fully Remote</th>\n",
       "      <th>remote_ratio_Hybrid</th>\n",
       "      <th>remote_ratio_On-prem</th>\n",
       "      <th>company_size_L</th>\n",
       "      <th>company_size_M</th>\n",
       "      <th>company_size_S</th>\n",
       "    </tr>\n",
       "  </thead>\n",
       "  <tbody>\n",
       "    <tr>\n",
       "      <th>0</th>\n",
       "      <td>2020</td>\n",
       "      <td>2</td>\n",
       "      <td>4</td>\n",
       "      <td>3</td>\n",
       "      <td>0</td>\n",
       "      <td>0</td>\n",
       "      <td>1</td>\n",
       "      <td>0</td>\n",
       "      <td>0</td>\n",
       "      <td>0</td>\n",
       "      <td>1</td>\n",
       "      <td>0</td>\n",
       "      <td>1</td>\n",
       "      <td>0</td>\n",
       "      <td>0</td>\n",
       "      <td>1</td>\n",
       "      <td>0</td>\n",
       "      <td>0</td>\n",
       "    </tr>\n",
       "    <tr>\n",
       "      <th>1</th>\n",
       "      <td>2020</td>\n",
       "      <td>5</td>\n",
       "      <td>4</td>\n",
       "      <td>4</td>\n",
       "      <td>0</td>\n",
       "      <td>0</td>\n",
       "      <td>0</td>\n",
       "      <td>1</td>\n",
       "      <td>0</td>\n",
       "      <td>0</td>\n",
       "      <td>1</td>\n",
       "      <td>0</td>\n",
       "      <td>1</td>\n",
       "      <td>0</td>\n",
       "      <td>0</td>\n",
       "      <td>0</td>\n",
       "      <td>0</td>\n",
       "      <td>1</td>\n",
       "    </tr>\n",
       "    <tr>\n",
       "      <th>2</th>\n",
       "      <td>2020</td>\n",
       "      <td>3</td>\n",
       "      <td>4</td>\n",
       "      <td>1</td>\n",
       "      <td>0</td>\n",
       "      <td>0</td>\n",
       "      <td>0</td>\n",
       "      <td>1</td>\n",
       "      <td>0</td>\n",
       "      <td>0</td>\n",
       "      <td>1</td>\n",
       "      <td>0</td>\n",
       "      <td>0</td>\n",
       "      <td>1</td>\n",
       "      <td>0</td>\n",
       "      <td>0</td>\n",
       "      <td>1</td>\n",
       "      <td>0</td>\n",
       "    </tr>\n",
       "    <tr>\n",
       "      <th>3</th>\n",
       "      <td>2020</td>\n",
       "      <td>1</td>\n",
       "      <td>1</td>\n",
       "      <td>1</td>\n",
       "      <td>0</td>\n",
       "      <td>0</td>\n",
       "      <td>1</td>\n",
       "      <td>0</td>\n",
       "      <td>0</td>\n",
       "      <td>0</td>\n",
       "      <td>1</td>\n",
       "      <td>0</td>\n",
       "      <td>1</td>\n",
       "      <td>0</td>\n",
       "      <td>0</td>\n",
       "      <td>0</td>\n",
       "      <td>0</td>\n",
       "      <td>1</td>\n",
       "    </tr>\n",
       "    <tr>\n",
       "      <th>4</th>\n",
       "      <td>2020</td>\n",
       "      <td>4</td>\n",
       "      <td>5</td>\n",
       "      <td>3</td>\n",
       "      <td>0</td>\n",
       "      <td>0</td>\n",
       "      <td>0</td>\n",
       "      <td>1</td>\n",
       "      <td>0</td>\n",
       "      <td>0</td>\n",
       "      <td>1</td>\n",
       "      <td>0</td>\n",
       "      <td>0</td>\n",
       "      <td>1</td>\n",
       "      <td>0</td>\n",
       "      <td>1</td>\n",
       "      <td>0</td>\n",
       "      <td>0</td>\n",
       "    </tr>\n",
       "    <tr>\n",
       "      <th>...</th>\n",
       "      <td>...</td>\n",
       "      <td>...</td>\n",
       "      <td>...</td>\n",
       "      <td>...</td>\n",
       "      <td>...</td>\n",
       "      <td>...</td>\n",
       "      <td>...</td>\n",
       "      <td>...</td>\n",
       "      <td>...</td>\n",
       "      <td>...</td>\n",
       "      <td>...</td>\n",
       "      <td>...</td>\n",
       "      <td>...</td>\n",
       "      <td>...</td>\n",
       "      <td>...</td>\n",
       "      <td>...</td>\n",
       "      <td>...</td>\n",
       "      <td>...</td>\n",
       "    </tr>\n",
       "    <tr>\n",
       "      <th>602</th>\n",
       "      <td>2022</td>\n",
       "      <td>4</td>\n",
       "      <td>5</td>\n",
       "      <td>3</td>\n",
       "      <td>0</td>\n",
       "      <td>0</td>\n",
       "      <td>0</td>\n",
       "      <td>1</td>\n",
       "      <td>0</td>\n",
       "      <td>0</td>\n",
       "      <td>1</td>\n",
       "      <td>0</td>\n",
       "      <td>0</td>\n",
       "      <td>0</td>\n",
       "      <td>1</td>\n",
       "      <td>0</td>\n",
       "      <td>1</td>\n",
       "      <td>0</td>\n",
       "    </tr>\n",
       "    <tr>\n",
       "      <th>603</th>\n",
       "      <td>2022</td>\n",
       "      <td>4</td>\n",
       "      <td>5</td>\n",
       "      <td>3</td>\n",
       "      <td>0</td>\n",
       "      <td>0</td>\n",
       "      <td>0</td>\n",
       "      <td>1</td>\n",
       "      <td>0</td>\n",
       "      <td>0</td>\n",
       "      <td>1</td>\n",
       "      <td>0</td>\n",
       "      <td>0</td>\n",
       "      <td>0</td>\n",
       "      <td>1</td>\n",
       "      <td>0</td>\n",
       "      <td>1</td>\n",
       "      <td>0</td>\n",
       "    </tr>\n",
       "    <tr>\n",
       "      <th>604</th>\n",
       "      <td>2022</td>\n",
       "      <td>4</td>\n",
       "      <td>5</td>\n",
       "      <td>3</td>\n",
       "      <td>0</td>\n",
       "      <td>0</td>\n",
       "      <td>0</td>\n",
       "      <td>1</td>\n",
       "      <td>0</td>\n",
       "      <td>0</td>\n",
       "      <td>1</td>\n",
       "      <td>0</td>\n",
       "      <td>1</td>\n",
       "      <td>0</td>\n",
       "      <td>0</td>\n",
       "      <td>0</td>\n",
       "      <td>1</td>\n",
       "      <td>0</td>\n",
       "    </tr>\n",
       "    <tr>\n",
       "      <th>605</th>\n",
       "      <td>2022</td>\n",
       "      <td>4</td>\n",
       "      <td>5</td>\n",
       "      <td>3</td>\n",
       "      <td>0</td>\n",
       "      <td>0</td>\n",
       "      <td>0</td>\n",
       "      <td>1</td>\n",
       "      <td>0</td>\n",
       "      <td>0</td>\n",
       "      <td>1</td>\n",
       "      <td>0</td>\n",
       "      <td>0</td>\n",
       "      <td>0</td>\n",
       "      <td>1</td>\n",
       "      <td>0</td>\n",
       "      <td>1</td>\n",
       "      <td>0</td>\n",
       "    </tr>\n",
       "    <tr>\n",
       "      <th>606</th>\n",
       "      <td>2022</td>\n",
       "      <td>5</td>\n",
       "      <td>5</td>\n",
       "      <td>1</td>\n",
       "      <td>0</td>\n",
       "      <td>0</td>\n",
       "      <td>1</td>\n",
       "      <td>0</td>\n",
       "      <td>0</td>\n",
       "      <td>0</td>\n",
       "      <td>1</td>\n",
       "      <td>0</td>\n",
       "      <td>0</td>\n",
       "      <td>0</td>\n",
       "      <td>1</td>\n",
       "      <td>1</td>\n",
       "      <td>0</td>\n",
       "      <td>0</td>\n",
       "    </tr>\n",
       "  </tbody>\n",
       "</table>\n",
       "<p>607 rows × 18 columns</p>\n",
       "</div>"
      ],
      "text/plain": [
       "     work_year Pay grade  company_country_pay_scale  job_pay_scale  \\\n",
       "0         2020         2                          4              3   \n",
       "1         2020         5                          4              4   \n",
       "2         2020         3                          4              1   \n",
       "3         2020         1                          1              1   \n",
       "4         2020         4                          5              3   \n",
       "..         ...       ...                        ...            ...   \n",
       "602       2022         4                          5              3   \n",
       "603       2022         4                          5              3   \n",
       "604       2022         4                          5              3   \n",
       "605       2022         4                          5              3   \n",
       "606       2022         5                          5              1   \n",
       "\n",
       "     experience_level_EN  experience_level_EX  experience_level_MI  \\\n",
       "0                      0                    0                    1   \n",
       "1                      0                    0                    0   \n",
       "2                      0                    0                    0   \n",
       "3                      0                    0                    1   \n",
       "4                      0                    0                    0   \n",
       "..                   ...                  ...                  ...   \n",
       "602                    0                    0                    0   \n",
       "603                    0                    0                    0   \n",
       "604                    0                    0                    0   \n",
       "605                    0                    0                    0   \n",
       "606                    0                    0                    1   \n",
       "\n",
       "     experience_level_SE  employment_type_CT  employment_type_FL  \\\n",
       "0                      0                   0                   0   \n",
       "1                      1                   0                   0   \n",
       "2                      1                   0                   0   \n",
       "3                      0                   0                   0   \n",
       "4                      1                   0                   0   \n",
       "..                   ...                 ...                 ...   \n",
       "602                    1                   0                   0   \n",
       "603                    1                   0                   0   \n",
       "604                    1                   0                   0   \n",
       "605                    1                   0                   0   \n",
       "606                    0                   0                   0   \n",
       "\n",
       "     employment_type_FT  employment_type_PT  remote_ratio_Fully Remote  \\\n",
       "0                     1                   0                          1   \n",
       "1                     1                   0                          1   \n",
       "2                     1                   0                          0   \n",
       "3                     1                   0                          1   \n",
       "4                     1                   0                          0   \n",
       "..                  ...                 ...                        ...   \n",
       "602                   1                   0                          0   \n",
       "603                   1                   0                          0   \n",
       "604                   1                   0                          1   \n",
       "605                   1                   0                          0   \n",
       "606                   1                   0                          0   \n",
       "\n",
       "     remote_ratio_Hybrid  remote_ratio_On-prem  company_size_L  \\\n",
       "0                      0                     0               1   \n",
       "1                      0                     0               0   \n",
       "2                      1                     0               0   \n",
       "3                      0                     0               0   \n",
       "4                      1                     0               1   \n",
       "..                   ...                   ...             ...   \n",
       "602                    0                     1               0   \n",
       "603                    0                     1               0   \n",
       "604                    0                     0               0   \n",
       "605                    0                     1               0   \n",
       "606                    0                     1               1   \n",
       "\n",
       "     company_size_M  company_size_S  \n",
       "0                 0               0  \n",
       "1                 0               1  \n",
       "2                 1               0  \n",
       "3                 0               1  \n",
       "4                 0               0  \n",
       "..              ...             ...  \n",
       "602               1               0  \n",
       "603               1               0  \n",
       "604               1               0  \n",
       "605               1               0  \n",
       "606               0               0  \n",
       "\n",
       "[607 rows x 18 columns]"
      ]
     },
     "execution_count": 93,
     "metadata": {},
     "output_type": "execute_result"
    }
   ],
   "source": [
    "X"
   ]
  },
  {
   "cell_type": "code",
   "execution_count": 243,
   "id": "1b88c851-b2b6-4ea7-a8b7-e3540c6cec06",
   "metadata": {},
   "outputs": [
    {
     "data": {
      "text/plain": [
       "Index(['work_year', 'Pay grade', 'company_country_pay_scale', 'job_pay_scale',\n",
       "       'experience_level_EN', 'experience_level_EX', 'experience_level_MI',\n",
       "       'experience_level_SE', 'employment_type_CT', 'employment_type_FL',\n",
       "       'employment_type_FT', 'employment_type_PT', 'remote_ratio_Fully Remote',\n",
       "       'remote_ratio_Hybrid', 'remote_ratio_On-prem', 'company_size_L',\n",
       "       'company_size_M', 'company_size_S'],\n",
       "      dtype='object')"
      ]
     },
     "execution_count": 243,
     "metadata": {},
     "output_type": "execute_result"
    }
   ],
   "source": [
    "X.columns"
   ]
  },
  {
   "cell_type": "code",
   "execution_count": 103,
   "id": "802bccb1-802c-4c02-a9e8-65b82691a3e5",
   "metadata": {},
   "outputs": [],
   "source": [
    "file = open('rf2.pkl', 'wb')\n",
    "\n",
    "# dump information to that file\n",
    "pickle.dump(rf, file)"
   ]
  },
  {
   "cell_type": "code",
   "execution_count": 104,
   "id": "b9ed0038-e2fd-48df-9c80-bea35de52592",
   "metadata": {},
   "outputs": [],
   "source": [
    "model = pickle.load(open('rf2.pkl', 'rb'))"
   ]
  },
  {
   "cell_type": "code",
   "execution_count": 105,
   "id": "74ebfe0a-5e61-4d19-938a-41789369ce9c",
   "metadata": {},
   "outputs": [
    {
     "data": {
      "text/plain": [
       "array([2.24365342e-02, 8.35826021e-01, 6.34727197e-03, 3.83363805e-02,\n",
       "       1.70906524e-03, 2.23610088e-02, 8.72972497e-03, 1.80397783e-02,\n",
       "       4.36949521e-03, 2.27843175e-05, 3.44292752e-03, 1.23764123e-03,\n",
       "       1.73094248e-03, 6.68772418e-03, 8.39335523e-03, 8.33886192e-03,\n",
       "       9.62083882e-03, 2.36964433e-03])"
      ]
     },
     "execution_count": 105,
     "metadata": {},
     "output_type": "execute_result"
    }
   ],
   "source": [
    "model.feature_importances_"
   ]
  },
  {
   "cell_type": "code",
   "execution_count": 98,
   "id": "5fe4359e-58b3-45e5-9587-d06489167d1e",
   "metadata": {},
   "outputs": [
    {
     "data": {
      "text/html": [
       "<div>\n",
       "<style scoped>\n",
       "    .dataframe tbody tr th:only-of-type {\n",
       "        vertical-align: middle;\n",
       "    }\n",
       "\n",
       "    .dataframe tbody tr th {\n",
       "        vertical-align: top;\n",
       "    }\n",
       "\n",
       "    .dataframe thead th {\n",
       "        text-align: right;\n",
       "    }\n",
       "</style>\n",
       "<table border=\"1\" class=\"dataframe\">\n",
       "  <thead>\n",
       "    <tr style=\"text-align: right;\">\n",
       "      <th></th>\n",
       "      <th>work_year</th>\n",
       "      <th>Pay grade</th>\n",
       "      <th>company_country_pay_scale</th>\n",
       "      <th>job_pay_scale</th>\n",
       "      <th>experience_level_EN</th>\n",
       "      <th>experience_level_EX</th>\n",
       "      <th>experience_level_MI</th>\n",
       "      <th>experience_level_SE</th>\n",
       "      <th>employment_type_CT</th>\n",
       "      <th>employment_type_FL</th>\n",
       "      <th>employment_type_FT</th>\n",
       "      <th>employment_type_PT</th>\n",
       "      <th>remote_ratio_Fully_Remote</th>\n",
       "      <th>remote_ratio_Hybrid</th>\n",
       "      <th>remote_ratio_On_prem</th>\n",
       "      <th>company_size_L</th>\n",
       "      <th>company_size_M</th>\n",
       "      <th>company_size_S</th>\n",
       "    </tr>\n",
       "  </thead>\n",
       "  <tbody>\n",
       "    <tr>\n",
       "      <th>124</th>\n",
       "      <td>2021</td>\n",
       "      <td>1</td>\n",
       "      <td>3</td>\n",
       "      <td>3</td>\n",
       "      <td>1</td>\n",
       "      <td>0</td>\n",
       "      <td>0</td>\n",
       "      <td>0</td>\n",
       "      <td>0</td>\n",
       "      <td>0</td>\n",
       "      <td>0</td>\n",
       "      <td>1</td>\n",
       "      <td>0</td>\n",
       "      <td>1</td>\n",
       "      <td>0</td>\n",
       "      <td>0</td>\n",
       "      <td>1</td>\n",
       "      <td>0</td>\n",
       "    </tr>\n",
       "    <tr>\n",
       "      <th>434</th>\n",
       "      <td>2022</td>\n",
       "      <td>3</td>\n",
       "      <td>4</td>\n",
       "      <td>3</td>\n",
       "      <td>0</td>\n",
       "      <td>0</td>\n",
       "      <td>1</td>\n",
       "      <td>0</td>\n",
       "      <td>0</td>\n",
       "      <td>0</td>\n",
       "      <td>1</td>\n",
       "      <td>0</td>\n",
       "      <td>0</td>\n",
       "      <td>0</td>\n",
       "      <td>1</td>\n",
       "      <td>0</td>\n",
       "      <td>1</td>\n",
       "      <td>0</td>\n",
       "    </tr>\n",
       "    <tr>\n",
       "      <th>472</th>\n",
       "      <td>2022</td>\n",
       "      <td>5</td>\n",
       "      <td>5</td>\n",
       "      <td>3</td>\n",
       "      <td>0</td>\n",
       "      <td>0</td>\n",
       "      <td>0</td>\n",
       "      <td>1</td>\n",
       "      <td>0</td>\n",
       "      <td>0</td>\n",
       "      <td>1</td>\n",
       "      <td>0</td>\n",
       "      <td>0</td>\n",
       "      <td>0</td>\n",
       "      <td>1</td>\n",
       "      <td>0</td>\n",
       "      <td>1</td>\n",
       "      <td>0</td>\n",
       "    </tr>\n",
       "    <tr>\n",
       "      <th>185</th>\n",
       "      <td>2021</td>\n",
       "      <td>1</td>\n",
       "      <td>1</td>\n",
       "      <td>3</td>\n",
       "      <td>0</td>\n",
       "      <td>0</td>\n",
       "      <td>1</td>\n",
       "      <td>0</td>\n",
       "      <td>0</td>\n",
       "      <td>0</td>\n",
       "      <td>1</td>\n",
       "      <td>0</td>\n",
       "      <td>0</td>\n",
       "      <td>0</td>\n",
       "      <td>1</td>\n",
       "      <td>0</td>\n",
       "      <td>1</td>\n",
       "      <td>0</td>\n",
       "    </tr>\n",
       "    <tr>\n",
       "      <th>228</th>\n",
       "      <td>2021</td>\n",
       "      <td>4</td>\n",
       "      <td>5</td>\n",
       "      <td>3</td>\n",
       "      <td>0</td>\n",
       "      <td>0</td>\n",
       "      <td>0</td>\n",
       "      <td>1</td>\n",
       "      <td>0</td>\n",
       "      <td>0</td>\n",
       "      <td>1</td>\n",
       "      <td>0</td>\n",
       "      <td>1</td>\n",
       "      <td>0</td>\n",
       "      <td>0</td>\n",
       "      <td>1</td>\n",
       "      <td>0</td>\n",
       "      <td>0</td>\n",
       "    </tr>\n",
       "    <tr>\n",
       "      <th>...</th>\n",
       "      <td>...</td>\n",
       "      <td>...</td>\n",
       "      <td>...</td>\n",
       "      <td>...</td>\n",
       "      <td>...</td>\n",
       "      <td>...</td>\n",
       "      <td>...</td>\n",
       "      <td>...</td>\n",
       "      <td>...</td>\n",
       "      <td>...</td>\n",
       "      <td>...</td>\n",
       "      <td>...</td>\n",
       "      <td>...</td>\n",
       "      <td>...</td>\n",
       "      <td>...</td>\n",
       "      <td>...</td>\n",
       "      <td>...</td>\n",
       "      <td>...</td>\n",
       "    </tr>\n",
       "    <tr>\n",
       "      <th>71</th>\n",
       "      <td>2020</td>\n",
       "      <td>1</td>\n",
       "      <td>3</td>\n",
       "      <td>3</td>\n",
       "      <td>0</td>\n",
       "      <td>0</td>\n",
       "      <td>1</td>\n",
       "      <td>0</td>\n",
       "      <td>0</td>\n",
       "      <td>0</td>\n",
       "      <td>1</td>\n",
       "      <td>0</td>\n",
       "      <td>0</td>\n",
       "      <td>1</td>\n",
       "      <td>0</td>\n",
       "      <td>0</td>\n",
       "      <td>0</td>\n",
       "      <td>1</td>\n",
       "    </tr>\n",
       "    <tr>\n",
       "      <th>106</th>\n",
       "      <td>2021</td>\n",
       "      <td>5</td>\n",
       "      <td>4</td>\n",
       "      <td>2</td>\n",
       "      <td>0</td>\n",
       "      <td>0</td>\n",
       "      <td>1</td>\n",
       "      <td>0</td>\n",
       "      <td>0</td>\n",
       "      <td>0</td>\n",
       "      <td>1</td>\n",
       "      <td>0</td>\n",
       "      <td>0</td>\n",
       "      <td>0</td>\n",
       "      <td>1</td>\n",
       "      <td>1</td>\n",
       "      <td>0</td>\n",
       "      <td>0</td>\n",
       "    </tr>\n",
       "    <tr>\n",
       "      <th>270</th>\n",
       "      <td>2021</td>\n",
       "      <td>2</td>\n",
       "      <td>5</td>\n",
       "      <td>3</td>\n",
       "      <td>1</td>\n",
       "      <td>0</td>\n",
       "      <td>0</td>\n",
       "      <td>0</td>\n",
       "      <td>0</td>\n",
       "      <td>0</td>\n",
       "      <td>1</td>\n",
       "      <td>0</td>\n",
       "      <td>0</td>\n",
       "      <td>0</td>\n",
       "      <td>1</td>\n",
       "      <td>1</td>\n",
       "      <td>0</td>\n",
       "      <td>0</td>\n",
       "    </tr>\n",
       "    <tr>\n",
       "      <th>435</th>\n",
       "      <td>2022</td>\n",
       "      <td>3</td>\n",
       "      <td>4</td>\n",
       "      <td>3</td>\n",
       "      <td>0</td>\n",
       "      <td>0</td>\n",
       "      <td>1</td>\n",
       "      <td>0</td>\n",
       "      <td>0</td>\n",
       "      <td>0</td>\n",
       "      <td>1</td>\n",
       "      <td>0</td>\n",
       "      <td>0</td>\n",
       "      <td>0</td>\n",
       "      <td>1</td>\n",
       "      <td>0</td>\n",
       "      <td>1</td>\n",
       "      <td>0</td>\n",
       "    </tr>\n",
       "    <tr>\n",
       "      <th>102</th>\n",
       "      <td>2021</td>\n",
       "      <td>1</td>\n",
       "      <td>5</td>\n",
       "      <td>2</td>\n",
       "      <td>0</td>\n",
       "      <td>0</td>\n",
       "      <td>1</td>\n",
       "      <td>0</td>\n",
       "      <td>0</td>\n",
       "      <td>0</td>\n",
       "      <td>1</td>\n",
       "      <td>0</td>\n",
       "      <td>0</td>\n",
       "      <td>1</td>\n",
       "      <td>0</td>\n",
       "      <td>1</td>\n",
       "      <td>0</td>\n",
       "      <td>0</td>\n",
       "    </tr>\n",
       "  </tbody>\n",
       "</table>\n",
       "<p>406 rows × 18 columns</p>\n",
       "</div>"
      ],
      "text/plain": [
       "     work_year Pay grade  company_country_pay_scale  job_pay_scale  \\\n",
       "124       2021         1                          3              3   \n",
       "434       2022         3                          4              3   \n",
       "472       2022         5                          5              3   \n",
       "185       2021         1                          1              3   \n",
       "228       2021         4                          5              3   \n",
       "..         ...       ...                        ...            ...   \n",
       "71        2020         1                          3              3   \n",
       "106       2021         5                          4              2   \n",
       "270       2021         2                          5              3   \n",
       "435       2022         3                          4              3   \n",
       "102       2021         1                          5              2   \n",
       "\n",
       "     experience_level_EN  experience_level_EX  experience_level_MI  \\\n",
       "124                    1                    0                    0   \n",
       "434                    0                    0                    1   \n",
       "472                    0                    0                    0   \n",
       "185                    0                    0                    1   \n",
       "228                    0                    0                    0   \n",
       "..                   ...                  ...                  ...   \n",
       "71                     0                    0                    1   \n",
       "106                    0                    0                    1   \n",
       "270                    1                    0                    0   \n",
       "435                    0                    0                    1   \n",
       "102                    0                    0                    1   \n",
       "\n",
       "     experience_level_SE  employment_type_CT  employment_type_FL  \\\n",
       "124                    0                   0                   0   \n",
       "434                    0                   0                   0   \n",
       "472                    1                   0                   0   \n",
       "185                    0                   0                   0   \n",
       "228                    1                   0                   0   \n",
       "..                   ...                 ...                 ...   \n",
       "71                     0                   0                   0   \n",
       "106                    0                   0                   0   \n",
       "270                    0                   0                   0   \n",
       "435                    0                   0                   0   \n",
       "102                    0                   0                   0   \n",
       "\n",
       "     employment_type_FT  employment_type_PT  remote_ratio_Fully_Remote  \\\n",
       "124                   0                   1                          0   \n",
       "434                   1                   0                          0   \n",
       "472                   1                   0                          0   \n",
       "185                   1                   0                          0   \n",
       "228                   1                   0                          1   \n",
       "..                  ...                 ...                        ...   \n",
       "71                    1                   0                          0   \n",
       "106                   1                   0                          0   \n",
       "270                   1                   0                          0   \n",
       "435                   1                   0                          0   \n",
       "102                   1                   0                          0   \n",
       "\n",
       "     remote_ratio_Hybrid  remote_ratio_On_prem  company_size_L  \\\n",
       "124                    1                     0               0   \n",
       "434                    0                     1               0   \n",
       "472                    0                     1               0   \n",
       "185                    0                     1               0   \n",
       "228                    0                     0               1   \n",
       "..                   ...                   ...             ...   \n",
       "71                     1                     0               0   \n",
       "106                    0                     1               1   \n",
       "270                    0                     1               1   \n",
       "435                    0                     1               0   \n",
       "102                    1                     0               1   \n",
       "\n",
       "     company_size_M  company_size_S  \n",
       "124               1               0  \n",
       "434               1               0  \n",
       "472               1               0  \n",
       "185               1               0  \n",
       "228               0               0  \n",
       "..              ...             ...  \n",
       "71                0               1  \n",
       "106               0               0  \n",
       "270               0               0  \n",
       "435               1               0  \n",
       "102               0               0  \n",
       "\n",
       "[406 rows x 18 columns]"
      ]
     },
     "execution_count": 98,
     "metadata": {},
     "output_type": "execute_result"
    }
   ],
   "source": [
    "X_train"
   ]
  },
  {
   "cell_type": "code",
   "execution_count": 109,
   "id": "3bfee725-56e6-4ed2-bc65-619ad5467d58",
   "metadata": {},
   "outputs": [
    {
     "name": "stdout",
     "output_type": "stream",
     "text": [
      " * Serving Flask app '__main__' (lazy loading)\n",
      " * Environment: production\n",
      "\u001b[31m   WARNING: This is a development server. Do not use it in a production deployment.\u001b[0m\n",
      "\u001b[2m   Use a production WSGI server instead.\u001b[0m\n",
      " * Debug mode: on\n"
     ]
    },
    {
     "name": "stderr",
     "output_type": "stream",
     "text": [
      " * Running on http://127.0.0.1:5000 (Press CTRL+C to quit)\n",
      "127.0.0.1 - - [10/Sep/2022 00:54:56] \"GET / HTTP/1.1\" 200 -\n",
      "C:\\ANACONDA\\envs\\my_env\\lib\\site-packages\\sklearn\\base.py:450: UserWarning: X does not have valid feature names, but RandomForestRegressor was fitted with feature names\n",
      "  warnings.warn(\n",
      "127.0.0.1 - - [10/Sep/2022 00:55:16] \"POST /predict HTTP/1.1\" 200 -\n",
      "C:\\ANACONDA\\envs\\my_env\\lib\\site-packages\\sklearn\\base.py:450: UserWarning: X does not have valid feature names, but RandomForestRegressor was fitted with feature names\n",
      "  warnings.warn(\n",
      "127.0.0.1 - - [10/Sep/2022 00:55:54] \"POST /predict HTTP/1.1\" 200 -\n"
     ]
    }
   ],
   "source": [
    "from flask import Flask, render_template, request\n",
    "import jsonify\n",
    "import requests\n",
    "import pickle\n",
    "import numpy as np\n",
    "import sklearn\n",
    "from sklearn.preprocessing import StandardScaler\n",
    "app = Flask(__name__)\n",
    "model = pickle.load(open('rf2.pkl', 'rb'))\n",
    "@app.route('/',methods=['GET'])\n",
    "def Home():\n",
    "    return render_template('index.html')\n",
    "\n",
    "\n",
    "standard_to = StandardScaler()\n",
    "@app.route(\"/predict\", methods=['POST'])\n",
    "def predict():\n",
    "   # Fuel_Type_Diesel=0\n",
    "    if request.method == 'POST':\n",
    "        work_year = int(request.form['work_year'])\n",
    "        pay_grade=float(request.form['pay_grade'])\n",
    "        company_country_pay_scale=int(request.form['company_country_pay_scale'])\n",
    "        job_pay_scale = int(request.form['job_pay_scale'])\n",
    "        experience_level = request.form['experience_level']\n",
    "        #experience_level = request.form['employment_type']\n",
    "        if (experience_level == \"EN\"):\n",
    "            experience_level_EN = 1\n",
    "            experience_level_EX = 0\n",
    "            experience_level_MI = 0\n",
    "            experience_level_SE = 0\n",
    "        elif (experience_level == \"EX\"):\n",
    "            experience_level_EN = 0\n",
    "            experience_level_EX = 1\n",
    "            experience_level_MI = 0\n",
    "            experience_level_SE = 0\n",
    "        elif (experience_level == \"MI\"):\n",
    "            experience_level_EN = 0\n",
    "            experience_level_EX = 0\n",
    "            experience_level_MI = 1\n",
    "            experience_level_SE = 0\n",
    "        elif (experience_level == \"SE\"):\n",
    "            experience_level_EN = 0\n",
    "            experience_level_EX = 0\n",
    "            experience_level_MI = 0\n",
    "            experience_level_SE = 1\n",
    "        \n",
    "        employment_type = request.form['employment_type']\n",
    "        if (employment_type == \"CT\"):\n",
    "            employment_type_CT = 1\n",
    "            employment_type_FL = 0\n",
    "            employment_type_FT = 0\n",
    "            employment_type_PT = 0\n",
    "        elif (employment_type == \"FL\"):\n",
    "            employment_type_CT = 0\n",
    "            employment_type_FL = 1\n",
    "            employment_type_FT = 0\n",
    "            employment_type_PT = 0\n",
    "        elif (employment_type == \"FT\"):\n",
    "            employment_type_CT = 0\n",
    "            employment_type_FL = 0\n",
    "            employment_type_FT = 1\n",
    "            employment_type_PT = 0\n",
    "        elif (employment_type == \"PT\"):\n",
    "            employment_type_CT = 0\n",
    "            employment_type_FL = 0\n",
    "            employment_type_FT = 0\n",
    "            employment_type_PT = 1\n",
    "        \n",
    "        remote_ratio = request.form['remote_ratio']\n",
    "        if (remote_ratio=='Fully Remote'):\n",
    "            remote_ratio_Full_Remote = 1\n",
    "            remote_ratio_Hybrid = 0\n",
    "            remote_ratio_On_prem = 0\n",
    "        elif (remote_ratio=='Hybrid'):\n",
    "            remote_ratio_Full_Remote = 0\n",
    "            remote_ratio_Hybrid = 1\n",
    "            remote_ratio_On_prem = 0\n",
    "        elif (remote_ratio=='On-prem'):\n",
    "            remote_ratio_Full_Remote = 0\n",
    "            remote_ratio_Hybrid = 0\n",
    "            remote_ratio_On_prem = 1\n",
    "        \n",
    "        company_size = request.form['company_size']\n",
    "        if (company_size=='L'):\n",
    "            company_size_L = 1\n",
    "            company_size_M = 0\n",
    "            company_size_S = 0\n",
    "        elif (company_size=='M'):\n",
    "            company_size_L = 0\n",
    "            company_size_M = 1\n",
    "            company_size_S = 0\n",
    "        elif (company_size=='S'):\n",
    "            company_size_L = 0\n",
    "            company_size_M = 0\n",
    "            company_size_S = 1\n",
    "        \n",
    "        pred = model.predict([[work_year, pay_grade, company_country_pay_scale, job_pay_scale,experience_level_EN, experience_level_EX, experience_level_MI,experience_level_SE, \n",
    "                               employment_type_CT, employment_type_FL,employment_type_FT, employment_type_PT, remote_ratio_Full_Remote,remote_ratio_Hybrid, remote_ratio_On_prem, \n",
    "                               company_size_L,company_size_M, company_size_S]])\n",
    "        \n",
    "        #prediction=model.predict([[Present_Price,Kms_Driven2,Owner,Year,Fuel_Type_Diesel,Fuel_Type_Petrol,Seller_Type_Individual,Transmission_Mannual]])\n",
    "        output=round(pred[0],2)\n",
    "        if output<0:\n",
    "            return render_template('index.html',prediction_texts=\"Sorry you cannot get employed\")\n",
    "        else:\n",
    "            return render_template('index.html',prediction_text=\"Your desired salary is: {}\".format(output))\n",
    "    else:\n",
    "        return render_template('index.html')\n",
    "\n",
    "if __name__==\"__main__\":\n",
    "    app.run(debug=True,use_reloader=False)\n"
   ]
  },
  {
   "cell_type": "code",
   "execution_count": 110,
   "id": "482ce7f4-020c-40b2-8c08-99d45428a3b8",
   "metadata": {},
   "outputs": [],
   "source": [
    "#!pip3 freeze > requirements.txt"
   ]
  },
  {
   "cell_type": "code",
   "execution_count": null,
   "id": "5d0539d6-ad49-4183-93d7-3a612a0ba951",
   "metadata": {},
   "outputs": [],
   "source": []
  }
 ],
 "metadata": {
  "kernelspec": {
   "display_name": "my_env",
   "language": "python",
   "name": "my_env"
  },
  "language_info": {
   "codemirror_mode": {
    "name": "ipython",
    "version": 3
   },
   "file_extension": ".py",
   "mimetype": "text/x-python",
   "name": "python",
   "nbconvert_exporter": "python",
   "pygments_lexer": "ipython3",
   "version": "3.10.4"
  }
 },
 "nbformat": 4,
 "nbformat_minor": 5
}
